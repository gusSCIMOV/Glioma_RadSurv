{
 "cells": [
  {
   "cell_type": "code",
   "execution_count": null,
   "id": "08245c6e",
   "metadata": {},
   "outputs": [],
   "source": [
    "#pip install scikit-learn "
   ]
  },
  {
   "cell_type": "code",
   "execution_count": null,
   "id": "f943e5ef",
   "metadata": {},
   "outputs": [],
   "source": [
    "#pip install cython "
   ]
  },
  {
   "cell_type": "code",
   "execution_count": 1,
   "id": "458858d3",
   "metadata": {
    "scrolled": true
   },
   "outputs": [
    {
     "name": "stdout",
     "output_type": "stream",
     "text": [
      "Looking in indexes: https://pypi.org/simple, https://pypi.ngc.nvidia.com\n",
      "Collecting collageradiomics==0.3.7\n",
      "  Downloading collageradiomics-0.3.7-py3-none-any.whl.metadata (1.4 kB)\n",
      "Requirement already satisfied: numpy in /usr/local/lib/python3.10/dist-packages (from collageradiomics==0.3.7) (1.24.4)\n",
      "Collecting scikit-build (from collageradiomics==0.3.7)\n",
      "  Downloading scikit_build-0.18.1-py3-none-any.whl.metadata (18 kB)\n",
      "Requirement already satisfied: scikit-image in /usr/local/lib/python3.10/dist-packages (from collageradiomics==0.3.7) (0.18.3)\n",
      "Collecting mahotas (from collageradiomics==0.3.7)\n",
      "  Downloading mahotas-1.4.18-cp310-cp310-manylinux_2_17_x86_64.manylinux2014_x86_64.whl.metadata (14 kB)\n",
      "Requirement already satisfied: scipy in /usr/local/lib/python3.10/dist-packages (from collageradiomics==0.3.7) (1.11.4)\n",
      "Collecting distro (from scikit-build->collageradiomics==0.3.7)\n",
      "  Downloading distro-1.9.0-py3-none-any.whl.metadata (6.8 kB)\n",
      "Requirement already satisfied: packaging in /usr/local/lib/python3.10/dist-packages (from scikit-build->collageradiomics==0.3.7) (23.2)\n",
      "Requirement already satisfied: setuptools>=42.0.0 in /usr/local/lib/python3.10/dist-packages (from scikit-build->collageradiomics==0.3.7) (68.2.2)\n",
      "Requirement already satisfied: tomli in /usr/local/lib/python3.10/dist-packages (from scikit-build->collageradiomics==0.3.7) (2.0.1)\n",
      "Requirement already satisfied: wheel>=0.32.0 in /usr/local/lib/python3.10/dist-packages (from scikit-build->collageradiomics==0.3.7) (0.42.0)\n",
      "Requirement already satisfied: matplotlib!=3.0.0,>=2.0.0 in /usr/local/lib/python3.10/dist-packages (from scikit-image->collageradiomics==0.3.7) (3.8.2)\n",
      "Requirement already satisfied: networkx>=2.0 in /usr/local/lib/python3.10/dist-packages (from scikit-image->collageradiomics==0.3.7) (2.6.3)\n",
      "Requirement already satisfied: pillow!=7.1.0,!=7.1.1,>=4.3.0 in /usr/local/lib/python3.10/dist-packages (from scikit-image->collageradiomics==0.3.7) (9.5.0)\n",
      "Requirement already satisfied: imageio>=2.3.0 in /usr/local/lib/python3.10/dist-packages (from scikit-image->collageradiomics==0.3.7) (2.35.1)\n",
      "Requirement already satisfied: tifffile>=2019.7.26 in /usr/local/lib/python3.10/dist-packages (from scikit-image->collageradiomics==0.3.7) (2024.9.20)\n",
      "Requirement already satisfied: PyWavelets>=1.1.1 in /usr/local/lib/python3.10/dist-packages (from scikit-image->collageradiomics==0.3.7) (1.7.0)\n",
      "Requirement already satisfied: contourpy>=1.0.1 in /usr/local/lib/python3.10/dist-packages (from matplotlib!=3.0.0,>=2.0.0->scikit-image->collageradiomics==0.3.7) (1.2.0)\n",
      "Requirement already satisfied: cycler>=0.10 in /usr/local/lib/python3.10/dist-packages (from matplotlib!=3.0.0,>=2.0.0->scikit-image->collageradiomics==0.3.7) (0.12.1)\n",
      "Requirement already satisfied: fonttools>=4.22.0 in /usr/local/lib/python3.10/dist-packages (from matplotlib!=3.0.0,>=2.0.0->scikit-image->collageradiomics==0.3.7) (4.46.0)\n",
      "Requirement already satisfied: kiwisolver>=1.3.1 in /usr/local/lib/python3.10/dist-packages (from matplotlib!=3.0.0,>=2.0.0->scikit-image->collageradiomics==0.3.7) (1.4.5)\n",
      "Requirement already satisfied: pyparsing>=2.3.1 in /usr/local/lib/python3.10/dist-packages (from matplotlib!=3.0.0,>=2.0.0->scikit-image->collageradiomics==0.3.7) (3.1.1)\n",
      "Requirement already satisfied: python-dateutil>=2.7 in /usr/local/lib/python3.10/dist-packages (from matplotlib!=3.0.0,>=2.0.0->scikit-image->collageradiomics==0.3.7) (2.8.2)\n",
      "Requirement already satisfied: six>=1.5 in /usr/local/lib/python3.10/dist-packages (from python-dateutil>=2.7->matplotlib!=3.0.0,>=2.0.0->scikit-image->collageradiomics==0.3.7) (1.16.0)\n",
      "Downloading collageradiomics-0.3.7-py3-none-any.whl (8.7 kB)\n",
      "Downloading mahotas-1.4.18-cp310-cp310-manylinux_2_17_x86_64.manylinux2014_x86_64.whl (5.8 MB)\n",
      "\u001b[2K   \u001b[90m━━━━━━━━━━━━━━━━━━━━━━━━━━━━━━━━━━━━━━━━\u001b[0m \u001b[32m5.8/5.8 MB\u001b[0m \u001b[31m89.4 MB/s\u001b[0m eta \u001b[36m0:00:00\u001b[0ma \u001b[36m0:00:01\u001b[0m\n",
      "\u001b[?25hDownloading scikit_build-0.18.1-py3-none-any.whl (85 kB)\n",
      "\u001b[2K   \u001b[90m━━━━━━━━━━━━━━━━━━━━━━━━━━━━━━━━━━━━━━━━\u001b[0m \u001b[32m85.6/85.6 kB\u001b[0m \u001b[31m147.5 MB/s\u001b[0m eta \u001b[36m0:00:00\u001b[0m\n",
      "\u001b[?25hDownloading distro-1.9.0-py3-none-any.whl (20 kB)\n",
      "Installing collected packages: mahotas, distro, scikit-build, collageradiomics\n",
      "Successfully installed collageradiomics-0.3.7 distro-1.9.0 mahotas-1.4.18 scikit-build-0.18.1\n",
      "\u001b[33mWARNING: Running pip as the 'root' user can result in broken permissions and conflicting behaviour with the system package manager. It is recommended to use a virtual environment instead: https://pip.pypa.io/warnings/venv\u001b[0m\u001b[33m\n",
      "\u001b[0m\n",
      "\u001b[1m[\u001b[0m\u001b[34;49mnotice\u001b[0m\u001b[1;39;49m]\u001b[0m\u001b[39;49m A new release of pip is available: \u001b[0m\u001b[31;49m23.3.1\u001b[0m\u001b[39;49m -> \u001b[0m\u001b[32;49m24.3.1\u001b[0m\n",
      "\u001b[1m[\u001b[0m\u001b[34;49mnotice\u001b[0m\u001b[1;39;49m]\u001b[0m\u001b[39;49m To update, run: \u001b[0m\u001b[32;49mpython -m pip install --upgrade pip\u001b[0m\n",
      "Note: you may need to restart the kernel to use updated packages.\n"
     ]
    }
   ],
   "source": [
    "pip install collageradiomics==0.3.7"
   ]
  },
  {
   "cell_type": "code",
   "execution_count": 2,
   "id": "efc5c96a",
   "metadata": {},
   "outputs": [],
   "source": [
    "#pip install pandas"
   ]
  },
  {
   "cell_type": "code",
   "execution_count": 3,
   "id": "ac26d541",
   "metadata": {},
   "outputs": [],
   "source": [
    "#pip install matplotlib"
   ]
  },
  {
   "cell_type": "code",
   "execution_count": 4,
   "id": "718958ba",
   "metadata": {},
   "outputs": [
    {
     "name": "stdout",
     "output_type": "stream",
     "text": [
      "Looking in indexes: https://pypi.org/simple, https://pypi.ngc.nvidia.com\n",
      "Requirement already satisfied: nibabel in /usr/local/lib/python3.10/dist-packages (5.3.2)\n",
      "Requirement already satisfied: importlib-resources>=5.12 in /usr/local/lib/python3.10/dist-packages (from nibabel) (6.4.5)\n",
      "Requirement already satisfied: numpy>=1.22 in /usr/local/lib/python3.10/dist-packages (from nibabel) (1.24.4)\n",
      "Requirement already satisfied: packaging>=20 in /usr/local/lib/python3.10/dist-packages (from nibabel) (23.2)\n",
      "Requirement already satisfied: typing-extensions>=4.6 in /usr/local/lib/python3.10/dist-packages (from nibabel) (4.8.0)\n",
      "\u001b[33mWARNING: Running pip as the 'root' user can result in broken permissions and conflicting behaviour with the system package manager. It is recommended to use a virtual environment instead: https://pip.pypa.io/warnings/venv\u001b[0m\u001b[33m\n",
      "\u001b[0m\n",
      "\u001b[1m[\u001b[0m\u001b[34;49mnotice\u001b[0m\u001b[1;39;49m]\u001b[0m\u001b[39;49m A new release of pip is available: \u001b[0m\u001b[31;49m23.3.1\u001b[0m\u001b[39;49m -> \u001b[0m\u001b[32;49m24.3.1\u001b[0m\n",
      "\u001b[1m[\u001b[0m\u001b[34;49mnotice\u001b[0m\u001b[1;39;49m]\u001b[0m\u001b[39;49m To update, run: \u001b[0m\u001b[32;49mpython -m pip install --upgrade pip\u001b[0m\n",
      "Note: you may need to restart the kernel to use updated packages.\n"
     ]
    }
   ],
   "source": [
    "pip install nibabel"
   ]
  },
  {
   "cell_type": "code",
   "execution_count": 5,
   "id": "6e8820f3",
   "metadata": {},
   "outputs": [
    {
     "name": "stdout",
     "output_type": "stream",
     "text": [
      "Looking in indexes: https://pypi.org/simple, https://pypi.ngc.nvidia.com\n",
      "Collecting scikit-image==0.19.0\n",
      "  Downloading scikit_image-0.19.0-cp310-cp310-manylinux_2_17_x86_64.manylinux2014_x86_64.whl.metadata (8.0 kB)\n",
      "Requirement already satisfied: numpy>=1.17.0 in /usr/local/lib/python3.10/dist-packages (from scikit-image==0.19.0) (1.24.4)\n",
      "Requirement already satisfied: scipy>=1.4.1 in /usr/local/lib/python3.10/dist-packages (from scikit-image==0.19.0) (1.11.4)\n",
      "Requirement already satisfied: networkx>=2.2 in /usr/local/lib/python3.10/dist-packages (from scikit-image==0.19.0) (2.6.3)\n",
      "Requirement already satisfied: pillow!=7.1.0,!=7.1.1,!=8.3.0,>=6.1.0 in /usr/local/lib/python3.10/dist-packages (from scikit-image==0.19.0) (9.5.0)\n",
      "Requirement already satisfied: imageio>=2.4.1 in /usr/local/lib/python3.10/dist-packages (from scikit-image==0.19.0) (2.35.1)\n",
      "Requirement already satisfied: tifffile>=2019.7.26 in /usr/local/lib/python3.10/dist-packages (from scikit-image==0.19.0) (2024.9.20)\n",
      "Requirement already satisfied: PyWavelets>=1.1.1 in /usr/local/lib/python3.10/dist-packages (from scikit-image==0.19.0) (1.7.0)\n",
      "Requirement already satisfied: packaging>=20.0 in /usr/local/lib/python3.10/dist-packages (from scikit-image==0.19.0) (23.2)\n",
      "Downloading scikit_image-0.19.0-cp310-cp310-manylinux_2_17_x86_64.manylinux2014_x86_64.whl (59.9 MB)\n",
      "\u001b[2K   \u001b[90m━━━━━━━━━━━━━━━━━━━━━━━━━━━━━━━━━━━━━━━━\u001b[0m \u001b[32m59.9/59.9 MB\u001b[0m \u001b[31m140.6 MB/s\u001b[0m eta \u001b[36m0:00:00\u001b[0m00:01\u001b[0m00:01\u001b[0m\n",
      "\u001b[?25hInstalling collected packages: scikit-image\n",
      "  Attempting uninstall: scikit-image\n",
      "    Found existing installation: scikit-image 0.18.3\n",
      "    Uninstalling scikit-image-0.18.3:\n",
      "      Successfully uninstalled scikit-image-0.18.3\n",
      "Successfully installed scikit-image-0.19.0\n",
      "\u001b[33mWARNING: Running pip as the 'root' user can result in broken permissions and conflicting behaviour with the system package manager. It is recommended to use a virtual environment instead: https://pip.pypa.io/warnings/venv\u001b[0m\u001b[33m\n",
      "\u001b[0m\n",
      "\u001b[1m[\u001b[0m\u001b[34;49mnotice\u001b[0m\u001b[1;39;49m]\u001b[0m\u001b[39;49m A new release of pip is available: \u001b[0m\u001b[31;49m23.3.1\u001b[0m\u001b[39;49m -> \u001b[0m\u001b[32;49m24.3.1\u001b[0m\n",
      "\u001b[1m[\u001b[0m\u001b[34;49mnotice\u001b[0m\u001b[1;39;49m]\u001b[0m\u001b[39;49m To update, run: \u001b[0m\u001b[32;49mpython -m pip install --upgrade pip\u001b[0m\n",
      "Note: you may need to restart the kernel to use updated packages.\n"
     ]
    }
   ],
   "source": [
    "pip install scikit-image==0.19.0"
   ]
  },
  {
   "cell_type": "code",
   "execution_count": 6,
   "id": "d193cac3",
   "metadata": {},
   "outputs": [
    {
     "name": "stdout",
     "output_type": "stream",
     "text": [
      "Name: collageradiomics\n",
      "Version: 0.3.7\n",
      "Summary: Python implementation of COLLAGE texture features from BRIC & INVENTLAB.\n",
      "Home-page: https://github.com/ccipd/collageradiomics\n",
      "Author: ThetaTech\n",
      "Author-email: robert.toth@thetatech.ai\n",
      "License: UNKNOWN\n",
      "Location: /usr/local/lib/python3.10/dist-packages\n",
      "Requires: mahotas, numpy, scikit-build, scikit-image, scipy\n",
      "Required-by: \n",
      "Note: you may need to restart the kernel to use updated packages.\n"
     ]
    }
   ],
   "source": [
    "pip show collageradiomics"
   ]
  },
  {
   "cell_type": "code",
   "execution_count": 7,
   "id": "98c9d9c2",
   "metadata": {},
   "outputs": [],
   "source": [
    "#pip install SimpleITK pyradiomics"
   ]
  },
  {
   "cell_type": "code",
   "execution_count": 8,
   "id": "a05255e2",
   "metadata": {},
   "outputs": [],
   "source": [
    "#pip install mahotas"
   ]
  },
  {
   "cell_type": "code",
   "execution_count": 9,
   "id": "3046382b",
   "metadata": {},
   "outputs": [],
   "source": [
    "#pip install scikit-image==0.19.0"
   ]
  },
  {
   "cell_type": "code",
   "execution_count": 10,
   "id": "345f15e6",
   "metadata": {},
   "outputs": [
    {
     "name": "stdout",
     "output_type": "stream",
     "text": [
      "collageradiomics\n",
      "collageradiomics\n"
     ]
    }
   ],
   "source": [
    "import logging\n",
    "import os\n",
    "import numpy as np\n",
    "import pandas as pd\n",
    "import scipy.stats as st\n",
    "import matplotlib.pyplot as plt\n",
    "import nibabel as nib\n",
    "import glob\n",
    "import pandas as pd \n",
    "import collageradiomics \n",
    "print(collageradiomics.__name__)\n",
    "print(collageradiomics.__name__)\n",
    "\n",
    "from skimage.feature import greycomatrix, greycoprops\n",
    "\n",
    "FORMAT = '%(asctime)-15s %(levelname)s %(funcName)s  %(message)s'\n",
    "logging.basicConfig(format=FORMAT, level=logging.DEBUG)"
   ]
  },
  {
   "cell_type": "markdown",
   "id": "86675c24",
   "metadata": {},
   "source": [
    "# Setting file naming and strings"
   ]
  },
  {
   "cell_type": "code",
   "execution_count": 22,
   "id": "47bbe121",
   "metadata": {},
   "outputs": [],
   "source": [
    "root_path = '/app/Data/_Brain/Radiology/_Adult/_MS/'\n",
    "mri_data='MSSEG2'\n",
    "subdir='preprocessed_cimalab'\n",
    "time_point='time02'\n",
    "mri_mod='FLAIR'\n",
    "pipeline='SkullS_BiasCorrect_rz_IntStnd'\n",
    "mask_str= 'mask'"
   ]
  },
  {
   "cell_type": "code",
   "execution_count": 23,
   "id": "0b047875",
   "metadata": {},
   "outputs": [
    {
     "data": {
      "text/plain": [
       "'lesion'"
      ]
     },
     "execution_count": 23,
     "metadata": {},
     "output_type": "execute_result"
    }
   ],
   "source": [
    "label_val = 1\n",
    "# multilabel mask\n",
    "if label_val == 1:\n",
    "    name_a = 'lesion'\n",
    "elif label_val == 2:\n",
    "    name_a = 'rim1'\n",
    "elif label_val == 3:\n",
    "    name_a = 'rim2'\n",
    "elif label_val == 4:\n",
    "    name_a = 'periL'\n",
    "elif label_val == 5:\n",
    "    name_a = 'dilation1'\n",
    "elif label_val == 6:\n",
    "    name_a = 'dilation2'\n",
    "\n",
    "name_a"
   ]
  },
  {
   "cell_type": "markdown",
   "id": "eb583dd3",
   "metadata": {},
   "source": [
    "# Functions"
   ]
  },
  {
   "cell_type": "code",
   "execution_count": 13,
   "id": "6cc7d042",
   "metadata": {},
   "outputs": [],
   "source": [
    "def getting_images_list(root_path, mri_data,subdir,time_point,mri_mod,pipeline):\n",
    "\n",
    "    outpath_base= root_path + mri_data + '/Feature_extraction/Radiomics_features/'\n",
    "    print('main outpath ....... ',outpath_base)\n",
    "   \n",
    "    main_path=os.path.join(root_path , mri_data, subdir,'*',time_point, '*'+ mri_mod + '*' + pipeline +'*.nii*')\n",
    "    print('main_path MRI modality...',main_path)\n",
    "    imgs = glob.glob(main_path)\n",
    "\n",
    "    imgs=sorted(imgs)\n",
    "    print('\\n number of MRI scans: {} , for MIR modality: {}'.format(len(imgs), mri_mod))\n",
    " \n",
    "    return outpath_base, main_path, imgs"
   ]
  },
  {
   "cell_type": "code",
   "execution_count": 14,
   "id": "22ac429b",
   "metadata": {},
   "outputs": [],
   "source": [
    "def getting_multiple_lesion_list(case_path,case_id):\n",
    "    seg_paths=os.path.join(case_path, case_id + '*segmentations','*reg.nii.gz')\n",
    "    seg_im=glob.glob(seg_paths)\n",
    "    seg_im=sorted(seg_im)\n",
    "    print('seg images list',len(seg_im))\n",
    "    \n",
    "    return seg_im"
   ]
  },
  {
   "cell_type": "code",
   "execution_count": 15,
   "id": "387861d5",
   "metadata": {},
   "outputs": [],
   "source": [
    "def getting_images_list_from_csv(mri_data,subdir,time_point,mri_mod,pipeline,mask_str):\n",
    "    \n",
    "    # read list of patients from a list CSV XLSX\n",
    "\n",
    "    xlsx_path=root_path+'UCSF/UCSF-PDGM/Metadata/UCSF-Pre-Post-Os.xlsx'\n",
    "    data_id=pd.read_excel(xlsx_path)\n",
    "    ID=data_id['UCSF-PDGM_ID'].tolist()\n",
    "\n",
    "    labels=[]\n",
    "\n",
    "    for ids in ID:\n",
    "        mask_file=glob.glob(os.path.join(root_path , mri_data, mri_data + '-PDGM' '/Preprocessed/*/time02/',ids +'*seg_brats.nii.gz'))\n",
    "        #print(os.path.join(root_path , mri_data, mri_data + '-PDGM' '/Preprocessed/Post-Op/*/time01/',ids +'*seg_brats.nii.gz'))\n",
    "        labels.append(mask_file[0])\n",
    "        #print(mask_files)\n",
    "\n",
    "    labels=sorted(labels)\n",
    "    len(labels)\n",
    "    return labels"
   ]
  },
  {
   "cell_type": "code",
   "execution_count": 16,
   "id": "fbfcbff7",
   "metadata": {},
   "outputs": [],
   "source": [
    "def compute_collage_stats(collage,collage_output,clg_af,tm_dim):\n",
    "    angle_output2=np.zeros((tm_dim[0],tm_dim[1],tm_dim[2],13,2))\n",
    "    print('angle_output2.shape ....', angle_output2.shape)\n",
    "    \n",
    "    for a in range(collage_output.shape[4]):\n",
    "        dom_angle = collage.dominant_angles[:,:,:,a]\n",
    "        print('dom_angle.shape ....', dom_angle.shape)\n",
    "        angle_output = collage._calculate_haralick_textures(dom_angle)\n",
    "        print('angle_output.shape ....', angle_output.shape)\n",
    "        angle_output2[:,:,:,:,a]=angle_output\n",
    "        \n",
    "        \n",
    "        for f in range(collage_output.shape[3]):\n",
    "            c = f*4\n",
    "            if a >= 1:\n",
    "                c = (13+f)*4\n",
    "\n",
    "            feature_angle = angle_output[:,:,:,f]\n",
    "\n",
    "            f_median = np.nanmedian(feature_angle)\n",
    "            clg_af[c] = f_median\n",
    "\n",
    "            f_var = np.nanvar(feature_angle)\n",
    "            clg_af[c+1] = f_var\n",
    "\n",
    "            feature_flat = feature_angle.reshape(-1)\n",
    "            f_skew = st.skew(feature_flat, nan_policy='omit')\n",
    "            f_skew = np.ma.getdata(f_skew)\n",
    "            clg_af[c+2] = f_skew\n",
    "\n",
    "            f_kurt = st.kurtosis(feature_flat, nan_policy='omit')\n",
    "            clg_af[c+3] = f_kurt\n",
    "        print('-----------------------------------------------')\n",
    "    return clg_af, feature_angle, angle_output2"
   ]
  },
  {
   "cell_type": "code",
   "execution_count": 17,
   "id": "6457320c",
   "metadata": {},
   "outputs": [],
   "source": [
    "def plot_collage_map(mri_image, label, collage, mri_mod):\n",
    "\n",
    "    # To show lesion mask overlaid on whole MRI\n",
    "    z=np.where(label==1)\n",
    "    zz = round(np.mean([np.min(z[2]),np.max(z[2])])) ### choose central slice\n",
    "\n",
    "    new_image = mri_image[:,:,zz]\n",
    "    new_label = label[:,:,zz]\n",
    "    figure = plt.figure(figsize = (10, 10))\n",
    "    extent = 0, new_image.shape[1], 0, new_image.shape[0]\n",
    "    plt.imshow(new_image, cmap=plt.cm.gray, interpolation='none', extent=extent)\n",
    "    plt.imshow(new_label, cmap=plt.cm.jet, alpha=0.5*(new_label>0), interpolation='none', extent=extent)\n",
    "    plt.title('slide ' + str(zz))\n",
    "    plt.savefig(output_name +'/plot_mri_mask_'+ id_label +'_'+ name_a +'_'+pipeline +'.png')\n",
    "\n",
    "    # To show CoLlAGe feature heatmap overlaid on MRI zoomed in to the bounding box\n",
    "    bb = zz-np.min(z[2])\n",
    "    # which_angle = 0\n",
    "    # angle0 = collage.dominant_angles[:,:,:,which_angle]\n",
    "    # angle_output0 = collage._calculate_haralick_textures(angle0)\n",
    "\n",
    "    # To show CoLlAGe feature heatmap overlaid on whole MRI\n",
    "    which_feature = collageradiomics.HaralickFeature.Entropy\n",
    "    feature_output = collage.get_single_feature_output(which_feature)\n",
    "    which_angle = 1\n",
    "    feature_angle_imsize = feature_output[:,:,zz,which_angle]\n",
    "\n",
    "    figure = plt.figure(figsize = (10, 10))\n",
    "    extent = 0, new_image.shape[1], 0, mri_image.shape[0]\n",
    "    plt.imshow(new_image, cmap=plt.cm.gray, extent=extent)\n",
    "    plt.imshow(feature_angle_imsize, cmap=plt.cm.jet, alpha=0.5, extent=extent)\n",
    "    plt.title('slide ' + str(zz))\n",
    "    plt.savefig(output_name +'/'+ mri_mod +'_'+ 'plot_mri_clg_'+ id_label +'_'+ name_a +'_' + pipeline + '.png')"
   ]
  },
  {
   "cell_type": "code",
   "execution_count": 18,
   "id": "9a1f44d6",
   "metadata": {},
   "outputs": [],
   "source": [
    "def plot_collage_map_bounding(mri_image, label, angle_output2,  bines, svd_r, onset_sld, mri_mod):\n",
    "\n",
    "    # To show lesion mask overlaid on whole MRI\n",
    "    z=np.where(label==1)\n",
    "    zz = round(np.mean([np.min(z[2]),np.max(z[2])])) ### choose central slice\n",
    "\n",
    "    new_image = mri_image[:,:,zz]\n",
    "    new_label = label[:,:,zz]\n",
    "    # To show CoLlAGe feature heatmap overlaid on MRI zoomed in to the bounding box\n",
    "    bb = zz-np.min(z[2])+onset_sld\n",
    "    # which_angle = 0\n",
    "    # angle0 = collage.dominant_angles[:,:,:,which_angle]\n",
    "    # angle_output0 = collage._calculate_haralick_textures(angle0)\n",
    "    which_feature = collageradiomics.HaralickFeature.Entropy\n",
    "    feature_angle_imbb = angle_output2[:,:,bb,which_feature,1]\n",
    "\n",
    "    figure = plt.figure(figsize = (10, 10))\n",
    "    extent = 0, feature_angle_imbb.shape[1], 0, feature_angle_imbb.shape[0]\n",
    "    min_y_bb = collage.mask_min_y\n",
    "    max_y_bb = collage.mask_max_y\n",
    "    min_x_bb = collage.mask_min_x\n",
    "    max_x_bb = collage.mask_max_x\n",
    "    plt.imshow(new_image[min_y_bb:max_y_bb,min_x_bb:max_x_bb], cmap=plt.cm.gray, extent=extent)\n",
    "    plt.imshow(feature_angle_imbb, cmap=plt.cm.jet, alpha=0.5, extent=extent)\n",
    "    plt.colorbar()\n",
    "    plt.savefig(output_name +'/'+ mri_mod +'_'+  id_label +'_'+ str(svd_r) + '_' + str(bines)+'_' + name_a + '_'+ pipeline +'.png')\n",
    "    "
   ]
  },
  {
   "cell_type": "markdown",
   "id": "3b18bc29",
   "metadata": {},
   "source": [
    "# Set Directories "
   ]
  },
  {
   "cell_type": "code",
   "execution_count": 24,
   "id": "73085b6f",
   "metadata": {},
   "outputs": [
    {
     "name": "stdout",
     "output_type": "stream",
     "text": [
      "main outpath .......  /app/Data/_Brain/Radiology/_Adult/_MS/MSSEG2/Feature_extraction/Radiomics_features/\n",
      "main_path MRI modality... /app/Data/_Brain/Radiology/_Adult/_MS/MSSEG2/preprocessed_cimalab/*/time02/*FLAIR*SkullS_BiasCorrect_rz_IntStnd*.nii*\n",
      "\n",
      " number of MRI scans: 40 , for MIR modality: FLAIR\n"
     ]
    },
    {
     "data": {
      "text/plain": [
       "['/app/Data/_Brain/Radiology/_Adult/_MS/MSSEG2/preprocessed_cimalab/029/time02/029_02_FLAIR_SkullS_BiasCorrect_rz_IntStnd.nii.gz',\n",
       " '/app/Data/_Brain/Radiology/_Adult/_MS/MSSEG2/preprocessed_cimalab/030/time02/030_02_FLAIR_SkullS_BiasCorrect_rz_IntStnd.nii.gz',\n",
       " '/app/Data/_Brain/Radiology/_Adult/_MS/MSSEG2/preprocessed_cimalab/032/time02/032_02_FLAIR_SkullS_BiasCorrect_rz_IntStnd.nii.gz',\n",
       " '/app/Data/_Brain/Radiology/_Adult/_MS/MSSEG2/preprocessed_cimalab/035/time02/035_02_FLAIR_SkullS_BiasCorrect_rz_IntStnd.nii.gz',\n",
       " '/app/Data/_Brain/Radiology/_Adult/_MS/MSSEG2/preprocessed_cimalab/037/time02/037_02_FLAIR_SkullS_BiasCorrect_rz_IntStnd.nii.gz',\n",
       " '/app/Data/_Brain/Radiology/_Adult/_MS/MSSEG2/preprocessed_cimalab/039/time02/039_02_FLAIR_SkullS_BiasCorrect_rz_IntStnd.nii.gz',\n",
       " '/app/Data/_Brain/Radiology/_Adult/_MS/MSSEG2/preprocessed_cimalab/043/time02/043_02_FLAIR_SkullS_BiasCorrect_rz_IntStnd.nii.gz',\n",
       " '/app/Data/_Brain/Radiology/_Adult/_MS/MSSEG2/preprocessed_cimalab/047/time02/047_02_FLAIR_SkullS_BiasCorrect_rz_IntStnd.nii.gz',\n",
       " '/app/Data/_Brain/Radiology/_Adult/_MS/MSSEG2/preprocessed_cimalab/048/time02/048_02_FLAIR_SkullS_BiasCorrect_rz_IntStnd.nii.gz',\n",
       " '/app/Data/_Brain/Radiology/_Adult/_MS/MSSEG2/preprocessed_cimalab/049/time02/049_02_FLAIR_SkullS_BiasCorrect_rz_IntStnd.nii.gz',\n",
       " '/app/Data/_Brain/Radiology/_Adult/_MS/MSSEG2/preprocessed_cimalab/051/time02/051_02_FLAIR_SkullS_BiasCorrect_rz_IntStnd.nii.gz',\n",
       " '/app/Data/_Brain/Radiology/_Adult/_MS/MSSEG2/preprocessed_cimalab/052/time02/052_02_FLAIR_SkullS_BiasCorrect_rz_IntStnd.nii.gz',\n",
       " '/app/Data/_Brain/Radiology/_Adult/_MS/MSSEG2/preprocessed_cimalab/057/time02/057_02_FLAIR_SkullS_BiasCorrect_rz_IntStnd.nii.gz',\n",
       " '/app/Data/_Brain/Radiology/_Adult/_MS/MSSEG2/preprocessed_cimalab/061/time02/061_02_FLAIR_SkullS_BiasCorrect_rz_IntStnd.nii.gz',\n",
       " '/app/Data/_Brain/Radiology/_Adult/_MS/MSSEG2/preprocessed_cimalab/068/time02/068_02_FLAIR_SkullS_BiasCorrect_rz_IntStnd.nii.gz',\n",
       " '/app/Data/_Brain/Radiology/_Adult/_MS/MSSEG2/preprocessed_cimalab/069/time02/069_02_FLAIR_SkullS_BiasCorrect_rz_IntStnd.nii.gz',\n",
       " '/app/Data/_Brain/Radiology/_Adult/_MS/MSSEG2/preprocessed_cimalab/070/time02/070_02_FLAIR_SkullS_BiasCorrect_rz_IntStnd.nii.gz',\n",
       " '/app/Data/_Brain/Radiology/_Adult/_MS/MSSEG2/preprocessed_cimalab/074/time02/074_02_FLAIR_SkullS_BiasCorrect_rz_IntStnd.nii.gz',\n",
       " '/app/Data/_Brain/Radiology/_Adult/_MS/MSSEG2/preprocessed_cimalab/077/time02/077_02_FLAIR_SkullS_BiasCorrect_rz_IntStnd.nii.gz',\n",
       " '/app/Data/_Brain/Radiology/_Adult/_MS/MSSEG2/preprocessed_cimalab/083/time02/083_02_FLAIR_SkullS_BiasCorrect_rz_IntStnd.nii.gz',\n",
       " '/app/Data/_Brain/Radiology/_Adult/_MS/MSSEG2/preprocessed_cimalab/084/time02/084_02_FLAIR_SkullS_BiasCorrect_rz_IntStnd.nii.gz',\n",
       " '/app/Data/_Brain/Radiology/_Adult/_MS/MSSEG2/preprocessed_cimalab/088/time02/088_02_FLAIR_SkullS_BiasCorrect_rz_IntStnd.nii.gz',\n",
       " '/app/Data/_Brain/Radiology/_Adult/_MS/MSSEG2/preprocessed_cimalab/089/time02/089_02_FLAIR_SkullS_BiasCorrect_rz_IntStnd.nii.gz',\n",
       " '/app/Data/_Brain/Radiology/_Adult/_MS/MSSEG2/preprocessed_cimalab/090/time02/090_02_FLAIR_SkullS_BiasCorrect_rz_IntStnd.nii.gz',\n",
       " '/app/Data/_Brain/Radiology/_Adult/_MS/MSSEG2/preprocessed_cimalab/091/time02/091_02_FLAIR_SkullS_BiasCorrect_rz_IntStnd.nii.gz',\n",
       " '/app/Data/_Brain/Radiology/_Adult/_MS/MSSEG2/preprocessed_cimalab/094/time02/094_02_FLAIR_SkullS_BiasCorrect_rz_IntStnd.nii.gz',\n",
       " '/app/Data/_Brain/Radiology/_Adult/_MS/MSSEG2/preprocessed_cimalab/095/time02/095_02_FLAIR_SkullS_BiasCorrect_rz_IntStnd.nii.gz',\n",
       " '/app/Data/_Brain/Radiology/_Adult/_MS/MSSEG2/preprocessed_cimalab/096/time02/096_02_FLAIR_SkullS_BiasCorrect_rz_IntStnd.nii.gz',\n",
       " '/app/Data/_Brain/Radiology/_Adult/_MS/MSSEG2/preprocessed_cimalab/099/time02/099_02_FLAIR_SkullS_BiasCorrect_rz_IntStnd.nii.gz',\n",
       " '/app/Data/_Brain/Radiology/_Adult/_MS/MSSEG2/preprocessed_cimalab/100/time02/100_02_FLAIR_SkullS_BiasCorrect_rz_IntStnd.nii.gz']"
      ]
     },
     "execution_count": 24,
     "metadata": {},
     "output_type": "execute_result"
    }
   ],
   "source": [
    "outpath_base, main_path, imgs=getting_images_list(root_path,mri_data,subdir,time_point,mri_mod,pipeline)\n",
    "imgs[10:]"
   ]
  },
  {
   "cell_type": "markdown",
   "id": "d9c38803",
   "metadata": {},
   "source": [
    "# run CoLlAGe"
   ]
  },
  {
   "cell_type": "code",
   "execution_count": null,
   "id": "1456a695",
   "metadata": {
    "scrolled": true
   },
   "outputs": [
    {
     "name": "stdout",
     "output_type": "stream",
     "text": [
      "id_label (patient ID) ...........  068\n",
      "time_point (time follow up) ...........  time02\n",
      "seg images list 54\n",
      "lesion_id.... lesion_010_reg\n"
     ]
    },
    {
     "name": "stderr",
     "output_type": "stream",
     "text": [
      "2024-12-01 15:38:37,662 DEBUG __init__  Collage Module Initialized\n",
      "2024-12-01 15:38:37,663 DEBUG __init__  Running 3D Collage = True\n"
     ]
    },
    {
     "name": "stdout",
     "output_type": "stream",
     "text": [
      "label_vol . .....  106\n",
      "output_name folder ....  /app/Data/_Brain/Radiology/_Adult/_MS/MSSEG2/Feature_extraction/Radiomics_features/068/time02/lesion_010_reg/collage\n",
      "tmp_name stats .npy ....... /app/Data/_Brain/Radiology/_Adult/_MS/MSSEG2/Feature_extraction/Radiomics_features/068/time02/lesion_010_reg/collage/FLAIR_068_3_4_lesion_SkullS_BiasCorrect_rz_IntStnd.npy\n",
      "tmp_name angles output .npy ....... /app/Data/_Brain/Radiology/_Adult/_MS/MSSEG2/Feature_extraction/Radiomics_features/068/time02/lesion_010_reg/collage/FLAIR_068_3_4_lesion_SkullS_BiasCorrect_rz_IntStnd_angle_output.npy\n",
      "\n",
      "CoLlAGe already exists (npy) or not calculated. Label 1 not found in mask for: 068 lesion_010_reg\n",
      "..............................................................................................................\n",
      "output_name folder ....  /app/Data/_Brain/Radiology/_Adult/_MS/MSSEG2/Feature_extraction/Radiomics_features/068/time02/lesion_010_reg/collage\n",
      "tmp_name stats .npy ....... /app/Data/_Brain/Radiology/_Adult/_MS/MSSEG2/Feature_extraction/Radiomics_features/068/time02/lesion_010_reg/collage/FLAIR_068_3_8_lesion_SkullS_BiasCorrect_rz_IntStnd.npy\n",
      "tmp_name angles output .npy ....... /app/Data/_Brain/Radiology/_Adult/_MS/MSSEG2/Feature_extraction/Radiomics_features/068/time02/lesion_010_reg/collage/FLAIR_068_3_8_lesion_SkullS_BiasCorrect_rz_IntStnd_angle_output.npy\n",
      "Calculating CoLlAGe for mask: /app/Data/_Brain/Radiology/_Adult/_MS/MSSEG2/preprocessed_cimalab/068/time02/068_segmentations/lesion_010_reg.nii.gz\n",
      "Calculating CoLlAGe for label: lesion\n",
      "Calculating CoLlAGe for \"n\"  angular bins: 8\n"
     ]
    },
    {
     "name": "stderr",
     "output_type": "stream",
     "text": [
      "2024-12-01 15:38:38,260 DEBUG execute  Image shape = (290, 200, 331)\n",
      "2024-12-01 15:38:38,261 DEBUG execute  Mask size = 5x6x8\n",
      "2024-12-01 15:38:38,262 DEBUG execute  Image shape (cropped and padded) = (11, 12, 10)\n",
      "2024-12-01 15:38:38,262 DEBUG execute  Note: Dividing image values by 7999.38623046875 to convert to 0-1 range\n",
      "2024-12-01 15:38:38,263 DEBUG execute  Calculating pixel gradients:\n",
      "2024-12-01 15:38:38,265 DEBUG execute  Calculating pixel gradients done.\n",
      "2024-12-01 15:38:38,265 DEBUG execute  Calculating dominant gradient angles using SVD for each image patch of size 3x3\n",
      "2024-12-01 15:38:38,266 INFO _svd_dominant_angles  Window patch shape for dominant angle calculation = (7, 7, 1)\n",
      "2024-12-01 15:38:38,286 DEBUG execute  Calculating dominant gradient angles done.\n",
      "2024-12-01 15:38:38,287 DEBUG execute  Dominant angles shape = (5, 6, 8, 2)\n",
      "2024-12-01 15:38:38,287 DEBUG execute  Calculating haralick features of angles:\n",
      "2024-12-01 15:38:38,288 INFO execute  Calculating features for angle 0:\n",
      "2024-12-01 15:38:38,289 DEBUG _calculate_haralick_textures  Rescaling dominant angles to 8 unique values.\n",
      "2024-12-01 15:38:38,289 DEBUG _calculate_haralick_textures  Rescaling dominant angles done.\n",
      "2024-12-01 15:38:38,290 DEBUG _calculate_haralick_textures  dominant_angles_binned shape is (5, 6, 8) mask shape is (5, 6, 8)\n",
      "2024-12-01 15:38:38,333 INFO execute  Calculating features for angle 0 done.\n",
      "2024-12-01 15:38:38,333 INFO execute  Calculating features for angle 1:\n",
      "2024-12-01 15:38:38,334 DEBUG _calculate_haralick_textures  Rescaling dominant angles to 8 unique values.\n",
      "2024-12-01 15:38:38,334 DEBUG _calculate_haralick_textures  Rescaling dominant angles done.\n",
      "2024-12-01 15:38:38,335 DEBUG _calculate_haralick_textures  dominant_angles_binned shape is (5, 6, 8) mask shape is (5, 6, 8)\n",
      "2024-12-01 15:38:38,377 INFO execute  Calculating features for angle 1 done.\n",
      "2024-12-01 15:38:38,378 DEBUG execute  Calculating haralick features of angles done.\n",
      "2024-12-01 15:38:46,183 DEBUG execute  Output shape = (290, 200, 331, 13, 2)\n",
      "2024-12-01 15:38:46,196 DEBUG _calculate_haralick_textures  Rescaling dominant angles to 8 unique values.\n",
      "2024-12-01 15:38:46,197 DEBUG _calculate_haralick_textures  Rescaling dominant angles done.\n",
      "2024-12-01 15:38:46,197 DEBUG _calculate_haralick_textures  dominant_angles_binned shape is (5, 6, 8) mask shape is (5, 6, 8)\n",
      "2024-12-01 15:38:46,270 DEBUG _calculate_haralick_textures  Rescaling dominant angles to 8 unique values.\n",
      "2024-12-01 15:38:46,271 DEBUG _calculate_haralick_textures  Rescaling dominant angles done.\n",
      "2024-12-01 15:38:46,272 DEBUG _calculate_haralick_textures  dominant_angles_binned shape is (5, 6, 8) mask shape is (5, 6, 8)\n"
     ]
    },
    {
     "name": "stdout",
     "output_type": "stream",
     "text": [
      "angle_output2.shape .... (5, 6, 8, 13, 2)\n",
      "dom_angle.shape .... (5, 6, 8)\n",
      "angle_output.shape .... (5, 6, 8, 13)\n",
      "-----------------------------------------------\n",
      "dom_angle.shape .... (5, 6, 8)\n",
      "angle_output.shape .... (5, 6, 8, 13)\n",
      "-----------------------------------------------\n",
      "Temp CoLlAGe feature array saved.\n",
      "\n"
     ]
    },
    {
     "name": "stderr",
     "output_type": "stream",
     "text": [
      "2024-12-01 15:38:46,468 DEBUG _get_ticker_locator_formatter  locator: <matplotlib.ticker.AutoLocator object at 0x7f13f6408220>\n",
      "2024-12-01 15:38:47,422 DEBUG __init__  Collage Module Initialized\n",
      "2024-12-01 15:38:47,424 DEBUG __init__  Running 3D Collage = True\n"
     ]
    },
    {
     "name": "stdout",
     "output_type": "stream",
     "text": [
      "output_name folder ....  /app/Data/_Brain/Radiology/_Adult/_MS/MSSEG2/Feature_extraction/Radiomics_features/068/time02/lesion_010_reg/collage\n",
      "tmp_name stats .npy ....... /app/Data/_Brain/Radiology/_Adult/_MS/MSSEG2/Feature_extraction/Radiomics_features/068/time02/lesion_010_reg/collage/FLAIR_068_3_16_lesion_SkullS_BiasCorrect_rz_IntStnd.npy\n",
      "tmp_name angles output .npy ....... /app/Data/_Brain/Radiology/_Adult/_MS/MSSEG2/Feature_extraction/Radiomics_features/068/time02/lesion_010_reg/collage/FLAIR_068_3_16_lesion_SkullS_BiasCorrect_rz_IntStnd_angle_output.npy\n",
      "Calculating CoLlAGe for mask: /app/Data/_Brain/Radiology/_Adult/_MS/MSSEG2/preprocessed_cimalab/068/time02/068_segmentations/lesion_010_reg.nii.gz\n",
      "Calculating CoLlAGe for label: lesion\n",
      "Calculating CoLlAGe for \"n\"  angular bins: 16\n"
     ]
    },
    {
     "name": "stderr",
     "output_type": "stream",
     "text": [
      "2024-12-01 15:38:48,022 DEBUG execute  Image shape = (290, 200, 331)\n",
      "2024-12-01 15:38:48,023 DEBUG execute  Mask size = 5x6x8\n",
      "2024-12-01 15:38:48,024 DEBUG execute  Image shape (cropped and padded) = (11, 12, 10)\n",
      "2024-12-01 15:38:48,024 DEBUG execute  Note: Dividing image values by 7999.38623046875 to convert to 0-1 range\n",
      "2024-12-01 15:38:48,026 DEBUG execute  Calculating pixel gradients:\n",
      "2024-12-01 15:38:48,027 DEBUG execute  Calculating pixel gradients done.\n",
      "2024-12-01 15:38:48,028 DEBUG execute  Calculating dominant gradient angles using SVD for each image patch of size 3x3\n",
      "2024-12-01 15:38:48,028 INFO _svd_dominant_angles  Window patch shape for dominant angle calculation = (7, 7, 1)\n",
      "2024-12-01 15:38:48,050 DEBUG execute  Calculating dominant gradient angles done.\n",
      "2024-12-01 15:38:48,051 DEBUG execute  Dominant angles shape = (5, 6, 8, 2)\n",
      "2024-12-01 15:38:48,051 DEBUG execute  Calculating haralick features of angles:\n",
      "2024-12-01 15:38:48,052 INFO execute  Calculating features for angle 0:\n",
      "2024-12-01 15:38:48,053 DEBUG _calculate_haralick_textures  Rescaling dominant angles to 16 unique values.\n",
      "2024-12-01 15:38:48,054 DEBUG _calculate_haralick_textures  Rescaling dominant angles done.\n",
      "2024-12-01 15:38:48,055 DEBUG _calculate_haralick_textures  dominant_angles_binned shape is (5, 6, 8) mask shape is (5, 6, 8)\n",
      "2024-12-01 15:38:48,101 INFO execute  Calculating features for angle 0 done.\n",
      "2024-12-01 15:38:48,102 INFO execute  Calculating features for angle 1:\n",
      "2024-12-01 15:38:48,103 DEBUG _calculate_haralick_textures  Rescaling dominant angles to 16 unique values.\n",
      "2024-12-01 15:38:48,104 DEBUG _calculate_haralick_textures  Rescaling dominant angles done.\n",
      "2024-12-01 15:38:48,104 DEBUG _calculate_haralick_textures  dominant_angles_binned shape is (5, 6, 8) mask shape is (5, 6, 8)\n",
      "2024-12-01 15:38:48,150 INFO execute  Calculating features for angle 1 done.\n",
      "2024-12-01 15:38:48,151 DEBUG execute  Calculating haralick features of angles done.\n",
      "2024-12-01 15:38:49,482 DEBUG execute  Output shape = (290, 200, 331, 13, 2)\n",
      "2024-12-01 15:38:49,509 DEBUG _calculate_haralick_textures  Rescaling dominant angles to 16 unique values.\n",
      "2024-12-01 15:38:49,510 DEBUG _calculate_haralick_textures  Rescaling dominant angles done.\n",
      "2024-12-01 15:38:49,511 DEBUG _calculate_haralick_textures  dominant_angles_binned shape is (5, 6, 8) mask shape is (5, 6, 8)\n",
      "2024-12-01 15:38:49,579 DEBUG _calculate_haralick_textures  Rescaling dominant angles to 16 unique values.\n",
      "2024-12-01 15:38:49,581 DEBUG _calculate_haralick_textures  Rescaling dominant angles done.\n",
      "2024-12-01 15:38:49,582 DEBUG _calculate_haralick_textures  dominant_angles_binned shape is (5, 6, 8) mask shape is (5, 6, 8)\n"
     ]
    },
    {
     "name": "stdout",
     "output_type": "stream",
     "text": [
      "angle_output2.shape .... (5, 6, 8, 13, 2)\n",
      "dom_angle.shape .... (5, 6, 8)\n",
      "angle_output.shape .... (5, 6, 8, 13)\n",
      "-----------------------------------------------\n",
      "dom_angle.shape .... (5, 6, 8)\n",
      "angle_output.shape .... (5, 6, 8, 13)\n",
      "-----------------------------------------------\n",
      "Temp CoLlAGe feature array saved.\n",
      "\n"
     ]
    },
    {
     "name": "stderr",
     "output_type": "stream",
     "text": [
      "2024-12-01 15:38:49,780 DEBUG _get_ticker_locator_formatter  locator: <matplotlib.ticker.AutoLocator object at 0x7f13f619d510>\n",
      "2024-12-01 15:38:50,711 DEBUG __init__  Collage Module Initialized\n",
      "2024-12-01 15:38:50,712 DEBUG __init__  Running 3D Collage = True\n"
     ]
    },
    {
     "name": "stdout",
     "output_type": "stream",
     "text": [
      "output_name folder ....  /app/Data/_Brain/Radiology/_Adult/_MS/MSSEG2/Feature_extraction/Radiomics_features/068/time02/lesion_010_reg/collage\n",
      "tmp_name stats .npy ....... /app/Data/_Brain/Radiology/_Adult/_MS/MSSEG2/Feature_extraction/Radiomics_features/068/time02/lesion_010_reg/collage/FLAIR_068_3_32_lesion_SkullS_BiasCorrect_rz_IntStnd.npy\n",
      "tmp_name angles output .npy ....... /app/Data/_Brain/Radiology/_Adult/_MS/MSSEG2/Feature_extraction/Radiomics_features/068/time02/lesion_010_reg/collage/FLAIR_068_3_32_lesion_SkullS_BiasCorrect_rz_IntStnd_angle_output.npy\n",
      "Calculating CoLlAGe for mask: /app/Data/_Brain/Radiology/_Adult/_MS/MSSEG2/preprocessed_cimalab/068/time02/068_segmentations/lesion_010_reg.nii.gz\n",
      "Calculating CoLlAGe for label: lesion\n",
      "Calculating CoLlAGe for \"n\"  angular bins: 32\n"
     ]
    },
    {
     "name": "stderr",
     "output_type": "stream",
     "text": [
      "2024-12-01 15:38:51,315 DEBUG execute  Image shape = (290, 200, 331)\n",
      "2024-12-01 15:38:51,316 DEBUG execute  Mask size = 5x6x8\n",
      "2024-12-01 15:38:51,317 DEBUG execute  Image shape (cropped and padded) = (11, 12, 10)\n",
      "2024-12-01 15:38:51,317 DEBUG execute  Note: Dividing image values by 7999.38623046875 to convert to 0-1 range\n",
      "2024-12-01 15:38:51,319 DEBUG execute  Calculating pixel gradients:\n",
      "2024-12-01 15:38:51,320 DEBUG execute  Calculating pixel gradients done.\n",
      "2024-12-01 15:38:51,320 DEBUG execute  Calculating dominant gradient angles using SVD for each image patch of size 3x3\n",
      "2024-12-01 15:38:51,321 INFO _svd_dominant_angles  Window patch shape for dominant angle calculation = (7, 7, 1)\n",
      "2024-12-01 15:38:51,341 DEBUG execute  Calculating dominant gradient angles done.\n",
      "2024-12-01 15:38:51,342 DEBUG execute  Dominant angles shape = (5, 6, 8, 2)\n",
      "2024-12-01 15:38:51,343 DEBUG execute  Calculating haralick features of angles:\n",
      "2024-12-01 15:38:51,344 INFO execute  Calculating features for angle 0:\n",
      "2024-12-01 15:38:51,344 DEBUG _calculate_haralick_textures  Rescaling dominant angles to 32 unique values.\n",
      "2024-12-01 15:38:51,345 DEBUG _calculate_haralick_textures  Rescaling dominant angles done.\n",
      "2024-12-01 15:38:51,346 DEBUG _calculate_haralick_textures  dominant_angles_binned shape is (5, 6, 8) mask shape is (5, 6, 8)\n",
      "2024-12-01 15:38:51,398 INFO execute  Calculating features for angle 0 done.\n",
      "2024-12-01 15:38:51,399 INFO execute  Calculating features for angle 1:\n",
      "2024-12-01 15:38:51,400 DEBUG _calculate_haralick_textures  Rescaling dominant angles to 32 unique values.\n",
      "2024-12-01 15:38:51,400 DEBUG _calculate_haralick_textures  Rescaling dominant angles done.\n",
      "2024-12-01 15:38:51,401 DEBUG _calculate_haralick_textures  dominant_angles_binned shape is (5, 6, 8) mask shape is (5, 6, 8)\n",
      "2024-12-01 15:38:51,453 INFO execute  Calculating features for angle 1 done.\n",
      "2024-12-01 15:38:51,454 DEBUG execute  Calculating haralick features of angles done.\n",
      "2024-12-01 15:38:52,797 DEBUG execute  Output shape = (290, 200, 331, 13, 2)\n",
      "2024-12-01 15:38:52,811 DEBUG _calculate_haralick_textures  Rescaling dominant angles to 32 unique values.\n",
      "2024-12-01 15:38:52,812 DEBUG _calculate_haralick_textures  Rescaling dominant angles done.\n",
      "2024-12-01 15:38:52,812 DEBUG _calculate_haralick_textures  dominant_angles_binned shape is (5, 6, 8) mask shape is (5, 6, 8)\n",
      "2024-12-01 15:38:52,898 DEBUG _calculate_haralick_textures  Rescaling dominant angles to 32 unique values.\n",
      "2024-12-01 15:38:52,899 DEBUG _calculate_haralick_textures  Rescaling dominant angles done.\n",
      "2024-12-01 15:38:52,900 DEBUG _calculate_haralick_textures  dominant_angles_binned shape is (5, 6, 8) mask shape is (5, 6, 8)\n"
     ]
    },
    {
     "name": "stdout",
     "output_type": "stream",
     "text": [
      "angle_output2.shape .... (5, 6, 8, 13, 2)\n",
      "dom_angle.shape .... (5, 6, 8)\n",
      "angle_output.shape .... (5, 6, 8, 13)\n",
      "-----------------------------------------------\n",
      "dom_angle.shape .... (5, 6, 8)\n",
      "angle_output.shape .... (5, 6, 8, 13)\n",
      "-----------------------------------------------\n",
      "Temp CoLlAGe feature array saved.\n",
      "\n"
     ]
    },
    {
     "name": "stderr",
     "output_type": "stream",
     "text": [
      "2024-12-01 15:38:53,126 DEBUG _get_ticker_locator_formatter  locator: <matplotlib.ticker.AutoLocator object at 0x7f13f5f31510>\n",
      "2024-12-01 15:38:54,098 DEBUG __init__  Collage Module Initialized\n",
      "2024-12-01 15:38:54,099 DEBUG __init__  Running 3D Collage = True\n"
     ]
    },
    {
     "name": "stdout",
     "output_type": "stream",
     "text": [
      "output_name folder ....  /app/Data/_Brain/Radiology/_Adult/_MS/MSSEG2/Feature_extraction/Radiomics_features/068/time02/lesion_010_reg/collage\n",
      "tmp_name stats .npy ....... /app/Data/_Brain/Radiology/_Adult/_MS/MSSEG2/Feature_extraction/Radiomics_features/068/time02/lesion_010_reg/collage/FLAIR_068_3_64_lesion_SkullS_BiasCorrect_rz_IntStnd.npy\n",
      "tmp_name angles output .npy ....... /app/Data/_Brain/Radiology/_Adult/_MS/MSSEG2/Feature_extraction/Radiomics_features/068/time02/lesion_010_reg/collage/FLAIR_068_3_64_lesion_SkullS_BiasCorrect_rz_IntStnd_angle_output.npy\n",
      "Calculating CoLlAGe for mask: /app/Data/_Brain/Radiology/_Adult/_MS/MSSEG2/preprocessed_cimalab/068/time02/068_segmentations/lesion_010_reg.nii.gz\n",
      "Calculating CoLlAGe for label: lesion\n",
      "Calculating CoLlAGe for \"n\"  angular bins: 64\n"
     ]
    },
    {
     "name": "stderr",
     "output_type": "stream",
     "text": [
      "2024-12-01 15:38:54,696 DEBUG execute  Image shape = (290, 200, 331)\n",
      "2024-12-01 15:38:54,697 DEBUG execute  Mask size = 5x6x8\n",
      "2024-12-01 15:38:54,698 DEBUG execute  Image shape (cropped and padded) = (11, 12, 10)\n",
      "2024-12-01 15:38:54,699 DEBUG execute  Note: Dividing image values by 7999.38623046875 to convert to 0-1 range\n",
      "2024-12-01 15:38:54,700 DEBUG execute  Calculating pixel gradients:\n",
      "2024-12-01 15:38:54,701 DEBUG execute  Calculating pixel gradients done.\n",
      "2024-12-01 15:38:54,702 DEBUG execute  Calculating dominant gradient angles using SVD for each image patch of size 3x3\n",
      "2024-12-01 15:38:54,702 INFO _svd_dominant_angles  Window patch shape for dominant angle calculation = (7, 7, 1)\n",
      "2024-12-01 15:38:54,723 DEBUG execute  Calculating dominant gradient angles done.\n",
      "2024-12-01 15:38:54,724 DEBUG execute  Dominant angles shape = (5, 6, 8, 2)\n",
      "2024-12-01 15:38:54,724 DEBUG execute  Calculating haralick features of angles:\n",
      "2024-12-01 15:38:54,725 INFO execute  Calculating features for angle 0:\n",
      "2024-12-01 15:38:54,726 DEBUG _calculate_haralick_textures  Rescaling dominant angles to 64 unique values.\n",
      "2024-12-01 15:38:54,727 DEBUG _calculate_haralick_textures  Rescaling dominant angles done.\n",
      "2024-12-01 15:38:54,728 DEBUG _calculate_haralick_textures  dominant_angles_binned shape is (5, 6, 8) mask shape is (5, 6, 8)\n",
      "2024-12-01 15:38:54,804 INFO execute  Calculating features for angle 0 done.\n",
      "2024-12-01 15:38:54,805 INFO execute  Calculating features for angle 1:\n",
      "2024-12-01 15:38:54,806 DEBUG _calculate_haralick_textures  Rescaling dominant angles to 64 unique values.\n",
      "2024-12-01 15:38:54,807 DEBUG _calculate_haralick_textures  Rescaling dominant angles done.\n",
      "2024-12-01 15:38:54,808 DEBUG _calculate_haralick_textures  dominant_angles_binned shape is (5, 6, 8) mask shape is (5, 6, 8)\n",
      "2024-12-01 15:38:54,885 INFO execute  Calculating features for angle 1 done.\n",
      "2024-12-01 15:38:54,885 DEBUG execute  Calculating haralick features of angles done.\n",
      "2024-12-01 15:38:56,224 DEBUG execute  Output shape = (290, 200, 331, 13, 2)\n",
      "2024-12-01 15:38:56,237 DEBUG _calculate_haralick_textures  Rescaling dominant angles to 64 unique values.\n",
      "2024-12-01 15:38:56,238 DEBUG _calculate_haralick_textures  Rescaling dominant angles done.\n",
      "2024-12-01 15:38:56,239 DEBUG _calculate_haralick_textures  dominant_angles_binned shape is (5, 6, 8) mask shape is (5, 6, 8)\n",
      "2024-12-01 15:38:56,349 DEBUG _calculate_haralick_textures  Rescaling dominant angles to 64 unique values.\n",
      "2024-12-01 15:38:56,350 DEBUG _calculate_haralick_textures  Rescaling dominant angles done.\n",
      "2024-12-01 15:38:56,351 DEBUG _calculate_haralick_textures  dominant_angles_binned shape is (5, 6, 8) mask shape is (5, 6, 8)\n"
     ]
    },
    {
     "name": "stdout",
     "output_type": "stream",
     "text": [
      "angle_output2.shape .... (5, 6, 8, 13, 2)\n",
      "dom_angle.shape .... (5, 6, 8)\n",
      "angle_output.shape .... (5, 6, 8, 13)\n",
      "-----------------------------------------------\n",
      "dom_angle.shape .... (5, 6, 8)\n",
      "angle_output.shape .... (5, 6, 8, 13)\n"
     ]
    },
    {
     "name": "stderr",
     "output_type": "stream",
     "text": [
      "2024-12-01 15:38:56,587 DEBUG _get_ticker_locator_formatter  locator: <matplotlib.ticker.AutoLocator object at 0x7f13f5ed6350>\n"
     ]
    },
    {
     "name": "stdout",
     "output_type": "stream",
     "text": [
      "-----------------------------------------------\n",
      "Temp CoLlAGe feature array saved.\n",
      "\n"
     ]
    },
    {
     "name": "stderr",
     "output_type": "stream",
     "text": [
      "2024-12-01 15:38:57,630 DEBUG __init__  Collage Module Initialized\n",
      "2024-12-01 15:38:57,631 DEBUG __init__  Running 3D Collage = True\n"
     ]
    },
    {
     "name": "stdout",
     "output_type": "stream",
     "text": [
      "output_name folder ....  /app/Data/_Brain/Radiology/_Adult/_MS/MSSEG2/Feature_extraction/Radiomics_features/068/time02/lesion_010_reg/collage\n",
      "tmp_name stats .npy ....... /app/Data/_Brain/Radiology/_Adult/_MS/MSSEG2/Feature_extraction/Radiomics_features/068/time02/lesion_010_reg/collage/FLAIR_068_5_4_lesion_SkullS_BiasCorrect_rz_IntStnd.npy\n",
      "tmp_name angles output .npy ....... /app/Data/_Brain/Radiology/_Adult/_MS/MSSEG2/Feature_extraction/Radiomics_features/068/time02/lesion_010_reg/collage/FLAIR_068_5_4_lesion_SkullS_BiasCorrect_rz_IntStnd_angle_output.npy\n",
      "Calculating CoLlAGe for mask: /app/Data/_Brain/Radiology/_Adult/_MS/MSSEG2/preprocessed_cimalab/068/time02/068_segmentations/lesion_010_reg.nii.gz\n",
      "Calculating CoLlAGe for label: lesion\n",
      "Calculating CoLlAGe for \"n\"  angular bins: 4\n"
     ]
    },
    {
     "name": "stderr",
     "output_type": "stream",
     "text": [
      "2024-12-01 15:38:58,569 DEBUG execute  Image shape = (290, 200, 331)\n",
      "2024-12-01 15:38:58,569 DEBUG execute  Mask size = 5x6x8\n",
      "2024-12-01 15:38:58,570 DEBUG execute  Image shape (cropped and padded) = (15, 16, 10)\n",
      "2024-12-01 15:38:58,571 DEBUG execute  Note: Dividing image values by 7999.38623046875 to convert to 0-1 range\n",
      "2024-12-01 15:38:58,572 DEBUG execute  Calculating pixel gradients:\n",
      "2024-12-01 15:38:58,573 DEBUG execute  Calculating pixel gradients done.\n",
      "2024-12-01 15:38:58,573 DEBUG execute  Calculating dominant gradient angles using SVD for each image patch of size 5x5\n",
      "2024-12-01 15:38:58,574 INFO _svd_dominant_angles  Window patch shape for dominant angle calculation = (11, 11, 1)\n",
      "2024-12-01 15:38:58,643 DEBUG execute  Calculating dominant gradient angles done.\n",
      "2024-12-01 15:38:58,645 DEBUG execute  Dominant angles shape = (5, 6, 8, 2)\n",
      "2024-12-01 15:38:58,646 DEBUG execute  Calculating haralick features of angles:\n",
      "2024-12-01 15:38:58,647 INFO execute  Calculating features for angle 0:\n",
      "2024-12-01 15:38:58,648 DEBUG _calculate_haralick_textures  Rescaling dominant angles to 4 unique values.\n",
      "2024-12-01 15:38:58,649 DEBUG _calculate_haralick_textures  Rescaling dominant angles done.\n",
      "2024-12-01 15:38:58,650 DEBUG _calculate_haralick_textures  dominant_angles_binned shape is (5, 6, 8) mask shape is (5, 6, 8)\n",
      "2024-12-01 15:38:58,777 INFO execute  Calculating features for angle 0 done.\n",
      "2024-12-01 15:38:58,778 INFO execute  Calculating features for angle 1:\n",
      "2024-12-01 15:38:58,779 DEBUG _calculate_haralick_textures  Rescaling dominant angles to 4 unique values.\n",
      "2024-12-01 15:38:58,780 DEBUG _calculate_haralick_textures  Rescaling dominant angles done.\n",
      "2024-12-01 15:38:58,780 DEBUG _calculate_haralick_textures  dominant_angles_binned shape is (5, 6, 8) mask shape is (5, 6, 8)\n",
      "2024-12-01 15:38:58,841 INFO execute  Calculating features for angle 1 done.\n",
      "2024-12-01 15:38:58,843 DEBUG execute  Calculating haralick features of angles done.\n",
      "2024-12-01 15:39:00,440 DEBUG execute  Output shape = (290, 200, 331, 13, 2)\n",
      "2024-12-01 15:39:00,453 DEBUG _calculate_haralick_textures  Rescaling dominant angles to 4 unique values.\n",
      "2024-12-01 15:39:00,454 DEBUG _calculate_haralick_textures  Rescaling dominant angles done.\n",
      "2024-12-01 15:39:00,455 DEBUG _calculate_haralick_textures  dominant_angles_binned shape is (5, 6, 8) mask shape is (5, 6, 8)\n",
      "2024-12-01 15:39:00,521 DEBUG _calculate_haralick_textures  Rescaling dominant angles to 4 unique values.\n",
      "2024-12-01 15:39:00,522 DEBUG _calculate_haralick_textures  Rescaling dominant angles done.\n",
      "2024-12-01 15:39:00,523 DEBUG _calculate_haralick_textures  dominant_angles_binned shape is (5, 6, 8) mask shape is (5, 6, 8)\n"
     ]
    },
    {
     "name": "stdout",
     "output_type": "stream",
     "text": [
      "angle_output2.shape .... (5, 6, 8, 13, 2)\n",
      "dom_angle.shape .... (5, 6, 8)\n",
      "angle_output.shape .... (5, 6, 8, 13)\n",
      "-----------------------------------------------\n",
      "dom_angle.shape .... (5, 6, 8)\n",
      "angle_output.shape .... (5, 6, 8, 13)\n",
      "-----------------------------------------------\n",
      "Temp CoLlAGe feature array saved.\n",
      "\n"
     ]
    },
    {
     "name": "stderr",
     "output_type": "stream",
     "text": [
      "2024-12-01 15:39:00,718 DEBUG update_normal  colorbar update normal <matplotlib.colors.Normalize object at 0x7f13f5c89150> <matplotlib.colors.Normalize object at 0x7f13f5c89150>\n",
      "2024-12-01 15:39:00,721 DEBUG _get_ticker_locator_formatter  locator: <matplotlib.ticker.AutoLocator object at 0x7f13f5c8a3e0>\n",
      "2024-12-01 15:39:00,724 DEBUG update_normal  colorbar update normal <matplotlib.colors.Normalize object at 0x7f13f5c89150> <matplotlib.colors.Normalize object at 0x7f13f5c89150>\n",
      "2024-12-01 15:39:00,727 DEBUG _get_ticker_locator_formatter  locator: <matplotlib.ticker.AutoLocator object at 0x7f13f5c8a3e0>\n",
      "2024-12-01 15:39:00,733 DEBUG _get_ticker_locator_formatter  locator: <matplotlib.ticker.AutoLocator object at 0x7f13f5c8a320>\n",
      "2024-12-01 15:39:01,690 DEBUG __init__  Collage Module Initialized\n",
      "2024-12-01 15:39:01,690 DEBUG __init__  Running 3D Collage = True\n"
     ]
    },
    {
     "name": "stdout",
     "output_type": "stream",
     "text": [
      "output_name folder ....  /app/Data/_Brain/Radiology/_Adult/_MS/MSSEG2/Feature_extraction/Radiomics_features/068/time02/lesion_010_reg/collage\n",
      "tmp_name stats .npy ....... /app/Data/_Brain/Radiology/_Adult/_MS/MSSEG2/Feature_extraction/Radiomics_features/068/time02/lesion_010_reg/collage/FLAIR_068_5_8_lesion_SkullS_BiasCorrect_rz_IntStnd.npy\n",
      "tmp_name angles output .npy ....... /app/Data/_Brain/Radiology/_Adult/_MS/MSSEG2/Feature_extraction/Radiomics_features/068/time02/lesion_010_reg/collage/FLAIR_068_5_8_lesion_SkullS_BiasCorrect_rz_IntStnd_angle_output.npy\n",
      "Calculating CoLlAGe for mask: /app/Data/_Brain/Radiology/_Adult/_MS/MSSEG2/preprocessed_cimalab/068/time02/068_segmentations/lesion_010_reg.nii.gz\n",
      "Calculating CoLlAGe for label: lesion\n",
      "Calculating CoLlAGe for \"n\"  angular bins: 8\n"
     ]
    },
    {
     "name": "stderr",
     "output_type": "stream",
     "text": [
      "2024-12-01 15:39:02,344 DEBUG execute  Image shape = (290, 200, 331)\n",
      "2024-12-01 15:39:02,345 DEBUG execute  Mask size = 5x6x8\n",
      "2024-12-01 15:39:02,345 DEBUG execute  Image shape (cropped and padded) = (15, 16, 10)\n",
      "2024-12-01 15:39:02,346 DEBUG execute  Note: Dividing image values by 7999.38623046875 to convert to 0-1 range\n",
      "2024-12-01 15:39:02,347 DEBUG execute  Calculating pixel gradients:\n",
      "2024-12-01 15:39:02,348 DEBUG execute  Calculating pixel gradients done.\n",
      "2024-12-01 15:39:02,349 DEBUG execute  Calculating dominant gradient angles using SVD for each image patch of size 5x5\n",
      "2024-12-01 15:39:02,350 INFO _svd_dominant_angles  Window patch shape for dominant angle calculation = (11, 11, 1)\n",
      "2024-12-01 15:39:02,392 DEBUG execute  Calculating dominant gradient angles done.\n",
      "2024-12-01 15:39:02,392 DEBUG execute  Dominant angles shape = (5, 6, 8, 2)\n",
      "2024-12-01 15:39:02,393 DEBUG execute  Calculating haralick features of angles:\n",
      "2024-12-01 15:39:02,393 INFO execute  Calculating features for angle 0:\n",
      "2024-12-01 15:39:02,395 DEBUG _calculate_haralick_textures  Rescaling dominant angles to 8 unique values.\n",
      "2024-12-01 15:39:02,395 DEBUG _calculate_haralick_textures  Rescaling dominant angles done.\n",
      "2024-12-01 15:39:02,396 DEBUG _calculate_haralick_textures  dominant_angles_binned shape is (5, 6, 8) mask shape is (5, 6, 8)\n",
      "2024-12-01 15:39:02,444 INFO execute  Calculating features for angle 0 done.\n",
      "2024-12-01 15:39:02,445 INFO execute  Calculating features for angle 1:\n",
      "2024-12-01 15:39:02,446 DEBUG _calculate_haralick_textures  Rescaling dominant angles to 8 unique values.\n",
      "2024-12-01 15:39:02,448 DEBUG _calculate_haralick_textures  Rescaling dominant angles done.\n",
      "2024-12-01 15:39:02,449 DEBUG _calculate_haralick_textures  dominant_angles_binned shape is (5, 6, 8) mask shape is (5, 6, 8)\n",
      "2024-12-01 15:39:02,540 INFO execute  Calculating features for angle 1 done.\n",
      "2024-12-01 15:39:02,541 DEBUG execute  Calculating haralick features of angles done.\n",
      "2024-12-01 15:39:03,909 DEBUG execute  Output shape = (290, 200, 331, 13, 2)\n",
      "2024-12-01 15:39:03,922 DEBUG _calculate_haralick_textures  Rescaling dominant angles to 8 unique values.\n",
      "2024-12-01 15:39:03,923 DEBUG _calculate_haralick_textures  Rescaling dominant angles done.\n",
      "2024-12-01 15:39:03,923 DEBUG _calculate_haralick_textures  dominant_angles_binned shape is (5, 6, 8) mask shape is (5, 6, 8)\n",
      "2024-12-01 15:39:04,015 DEBUG _calculate_haralick_textures  Rescaling dominant angles to 8 unique values.\n",
      "2024-12-01 15:39:04,017 DEBUG _calculate_haralick_textures  Rescaling dominant angles done.\n",
      "2024-12-01 15:39:04,018 DEBUG _calculate_haralick_textures  dominant_angles_binned shape is (5, 6, 8) mask shape is (5, 6, 8)\n"
     ]
    },
    {
     "name": "stdout",
     "output_type": "stream",
     "text": [
      "angle_output2.shape .... (5, 6, 8, 13, 2)\n",
      "dom_angle.shape .... (5, 6, 8)\n",
      "angle_output.shape .... (5, 6, 8, 13)\n",
      "-----------------------------------------------\n",
      "dom_angle.shape .... (5, 6, 8)\n",
      "angle_output.shape .... (5, 6, 8, 13)\n",
      "-----------------------------------------------\n"
     ]
    },
    {
     "name": "stderr",
     "output_type": "stream",
     "text": [
      "2024-12-01 15:39:04,285 DEBUG update_normal  colorbar update normal <matplotlib.colors.Normalize object at 0x7f13f5a30d30> <matplotlib.colors.Normalize object at 0x7f13f5a30d30>\n",
      "2024-12-01 15:39:04,289 DEBUG _get_ticker_locator_formatter  locator: <matplotlib.ticker.AutoLocator object at 0x7f13f5a31fc0>\n",
      "2024-12-01 15:39:04,292 DEBUG update_normal  colorbar update normal <matplotlib.colors.Normalize object at 0x7f13f5a30d30> <matplotlib.colors.Normalize object at 0x7f13f5a30d30>\n",
      "2024-12-01 15:39:04,295 DEBUG _get_ticker_locator_formatter  locator: <matplotlib.ticker.AutoLocator object at 0x7f13f5a31fc0>\n",
      "2024-12-01 15:39:04,301 DEBUG _get_ticker_locator_formatter  locator: <matplotlib.ticker.AutoLocator object at 0x7f13f5be2230>\n"
     ]
    },
    {
     "name": "stdout",
     "output_type": "stream",
     "text": [
      "Temp CoLlAGe feature array saved.\n",
      "\n"
     ]
    },
    {
     "name": "stderr",
     "output_type": "stream",
     "text": [
      "2024-12-01 15:39:05,590 DEBUG __init__  Collage Module Initialized\n",
      "2024-12-01 15:39:05,591 DEBUG __init__  Running 3D Collage = True\n"
     ]
    },
    {
     "name": "stdout",
     "output_type": "stream",
     "text": [
      "output_name folder ....  /app/Data/_Brain/Radiology/_Adult/_MS/MSSEG2/Feature_extraction/Radiomics_features/068/time02/lesion_010_reg/collage\n",
      "tmp_name stats .npy ....... /app/Data/_Brain/Radiology/_Adult/_MS/MSSEG2/Feature_extraction/Radiomics_features/068/time02/lesion_010_reg/collage/FLAIR_068_5_16_lesion_SkullS_BiasCorrect_rz_IntStnd.npy\n",
      "tmp_name angles output .npy ....... /app/Data/_Brain/Radiology/_Adult/_MS/MSSEG2/Feature_extraction/Radiomics_features/068/time02/lesion_010_reg/collage/FLAIR_068_5_16_lesion_SkullS_BiasCorrect_rz_IntStnd_angle_output.npy\n",
      "Calculating CoLlAGe for mask: /app/Data/_Brain/Radiology/_Adult/_MS/MSSEG2/preprocessed_cimalab/068/time02/068_segmentations/lesion_010_reg.nii.gz\n",
      "Calculating CoLlAGe for label: lesion\n",
      "Calculating CoLlAGe for \"n\"  angular bins: 16\n"
     ]
    },
    {
     "name": "stderr",
     "output_type": "stream",
     "text": [
      "2024-12-01 15:39:06,244 DEBUG execute  Image shape = (290, 200, 331)\n",
      "2024-12-01 15:39:06,246 DEBUG execute  Mask size = 5x6x8\n",
      "2024-12-01 15:39:06,247 DEBUG execute  Image shape (cropped and padded) = (15, 16, 10)\n",
      "2024-12-01 15:39:06,248 DEBUG execute  Note: Dividing image values by 7999.38623046875 to convert to 0-1 range\n",
      "2024-12-01 15:39:06,249 DEBUG execute  Calculating pixel gradients:\n",
      "2024-12-01 15:39:06,252 DEBUG execute  Calculating pixel gradients done.\n",
      "2024-12-01 15:39:06,253 DEBUG execute  Calculating dominant gradient angles using SVD for each image patch of size 5x5\n",
      "2024-12-01 15:39:06,254 INFO _svd_dominant_angles  Window patch shape for dominant angle calculation = (11, 11, 1)\n",
      "2024-12-01 15:39:06,325 DEBUG execute  Calculating dominant gradient angles done.\n",
      "2024-12-01 15:39:06,327 DEBUG execute  Dominant angles shape = (5, 6, 8, 2)\n",
      "2024-12-01 15:39:06,328 DEBUG execute  Calculating haralick features of angles:\n",
      "2024-12-01 15:39:06,330 INFO execute  Calculating features for angle 0:\n",
      "2024-12-01 15:39:06,331 DEBUG _calculate_haralick_textures  Rescaling dominant angles to 16 unique values.\n",
      "2024-12-01 15:39:06,332 DEBUG _calculate_haralick_textures  Rescaling dominant angles done.\n",
      "2024-12-01 15:39:06,333 DEBUG _calculate_haralick_textures  dominant_angles_binned shape is (5, 6, 8) mask shape is (5, 6, 8)\n",
      "2024-12-01 15:39:06,465 INFO execute  Calculating features for angle 0 done.\n",
      "2024-12-01 15:39:06,466 INFO execute  Calculating features for angle 1:\n",
      "2024-12-01 15:39:06,467 DEBUG _calculate_haralick_textures  Rescaling dominant angles to 16 unique values.\n",
      "2024-12-01 15:39:06,468 DEBUG _calculate_haralick_textures  Rescaling dominant angles done.\n",
      "2024-12-01 15:39:06,468 DEBUG _calculate_haralick_textures  dominant_angles_binned shape is (5, 6, 8) mask shape is (5, 6, 8)\n",
      "2024-12-01 15:39:06,516 INFO execute  Calculating features for angle 1 done.\n",
      "2024-12-01 15:39:06,517 DEBUG execute  Calculating haralick features of angles done.\n",
      "2024-12-01 15:39:07,831 DEBUG execute  Output shape = (290, 200, 331, 13, 2)\n",
      "2024-12-01 15:39:07,843 DEBUG _calculate_haralick_textures  Rescaling dominant angles to 16 unique values.\n",
      "2024-12-01 15:39:07,844 DEBUG _calculate_haralick_textures  Rescaling dominant angles done.\n",
      "2024-12-01 15:39:07,845 DEBUG _calculate_haralick_textures  dominant_angles_binned shape is (5, 6, 8) mask shape is (5, 6, 8)\n",
      "2024-12-01 15:39:07,916 DEBUG _calculate_haralick_textures  Rescaling dominant angles to 16 unique values.\n",
      "2024-12-01 15:39:07,917 DEBUG _calculate_haralick_textures  Rescaling dominant angles done.\n",
      "2024-12-01 15:39:07,917 DEBUG _calculate_haralick_textures  dominant_angles_binned shape is (5, 6, 8) mask shape is (5, 6, 8)\n"
     ]
    },
    {
     "name": "stdout",
     "output_type": "stream",
     "text": [
      "angle_output2.shape .... (5, 6, 8, 13, 2)\n",
      "dom_angle.shape .... (5, 6, 8)\n",
      "angle_output.shape .... (5, 6, 8, 13)\n",
      "-----------------------------------------------\n",
      "dom_angle.shape .... (5, 6, 8)\n",
      "angle_output.shape .... (5, 6, 8, 13)\n",
      "-----------------------------------------------\n",
      "Temp CoLlAGe feature array saved.\n",
      "\n"
     ]
    },
    {
     "name": "stderr",
     "output_type": "stream",
     "text": [
      "2024-12-01 15:39:08,116 DEBUG update_normal  colorbar update normal <matplotlib.colors.Normalize object at 0x7f13f59d8fd0> <matplotlib.colors.Normalize object at 0x7f13f59d8fd0>\n",
      "2024-12-01 15:39:08,120 DEBUG _get_ticker_locator_formatter  locator: <matplotlib.ticker.AutoLocator object at 0x7f13f59da260>\n",
      "2024-12-01 15:39:08,123 DEBUG update_normal  colorbar update normal <matplotlib.colors.Normalize object at 0x7f13f59d8fd0> <matplotlib.colors.Normalize object at 0x7f13f59d8fd0>\n",
      "2024-12-01 15:39:08,126 DEBUG _get_ticker_locator_formatter  locator: <matplotlib.ticker.AutoLocator object at 0x7f13f59da260>\n",
      "2024-12-01 15:39:08,132 DEBUG _get_ticker_locator_formatter  locator: <matplotlib.ticker.AutoLocator object at 0x7f13f59da1a0>\n",
      "/tmp/ipykernel_823/3073323771.py:28: RuntimeWarning: More than 20 figures have been opened. Figures created through the pyplot interface (`matplotlib.pyplot.figure`) are retained until explicitly closed and may consume too much memory. (To control this warning, see the rcParam `figure.max_open_warning`). Consider using `matplotlib.pyplot.close()`.\n",
      "  figure = plt.figure(figsize = (10, 10))\n",
      "2024-12-01 15:39:09,107 DEBUG __init__  Collage Module Initialized\n",
      "2024-12-01 15:39:09,108 DEBUG __init__  Running 3D Collage = True\n"
     ]
    },
    {
     "name": "stdout",
     "output_type": "stream",
     "text": [
      "output_name folder ....  /app/Data/_Brain/Radiology/_Adult/_MS/MSSEG2/Feature_extraction/Radiomics_features/068/time02/lesion_010_reg/collage\n",
      "tmp_name stats .npy ....... /app/Data/_Brain/Radiology/_Adult/_MS/MSSEG2/Feature_extraction/Radiomics_features/068/time02/lesion_010_reg/collage/FLAIR_068_5_32_lesion_SkullS_BiasCorrect_rz_IntStnd.npy\n",
      "tmp_name angles output .npy ....... /app/Data/_Brain/Radiology/_Adult/_MS/MSSEG2/Feature_extraction/Radiomics_features/068/time02/lesion_010_reg/collage/FLAIR_068_5_32_lesion_SkullS_BiasCorrect_rz_IntStnd_angle_output.npy\n",
      "Calculating CoLlAGe for mask: /app/Data/_Brain/Radiology/_Adult/_MS/MSSEG2/preprocessed_cimalab/068/time02/068_segmentations/lesion_010_reg.nii.gz\n",
      "Calculating CoLlAGe for label: lesion\n",
      "Calculating CoLlAGe for \"n\"  angular bins: 32\n"
     ]
    },
    {
     "name": "stderr",
     "output_type": "stream",
     "text": [
      "2024-12-01 15:39:09,746 DEBUG execute  Image shape = (290, 200, 331)\n",
      "2024-12-01 15:39:09,747 DEBUG execute  Mask size = 5x6x8\n",
      "2024-12-01 15:39:09,748 DEBUG execute  Image shape (cropped and padded) = (15, 16, 10)\n",
      "2024-12-01 15:39:09,749 DEBUG execute  Note: Dividing image values by 7999.38623046875 to convert to 0-1 range\n",
      "2024-12-01 15:39:09,751 DEBUG execute  Calculating pixel gradients:\n",
      "2024-12-01 15:39:09,753 DEBUG execute  Calculating pixel gradients done.\n",
      "2024-12-01 15:39:09,754 DEBUG execute  Calculating dominant gradient angles using SVD for each image patch of size 5x5\n",
      "2024-12-01 15:39:09,755 INFO _svd_dominant_angles  Window patch shape for dominant angle calculation = (11, 11, 1)\n",
      "2024-12-01 15:39:09,802 DEBUG execute  Calculating dominant gradient angles done.\n",
      "2024-12-01 15:39:09,802 DEBUG execute  Dominant angles shape = (5, 6, 8, 2)\n",
      "2024-12-01 15:39:09,803 DEBUG execute  Calculating haralick features of angles:\n",
      "2024-12-01 15:39:09,804 INFO execute  Calculating features for angle 0:\n",
      "2024-12-01 15:39:09,805 DEBUG _calculate_haralick_textures  Rescaling dominant angles to 32 unique values.\n",
      "2024-12-01 15:39:09,806 DEBUG _calculate_haralick_textures  Rescaling dominant angles done.\n",
      "2024-12-01 15:39:09,807 DEBUG _calculate_haralick_textures  dominant_angles_binned shape is (5, 6, 8) mask shape is (5, 6, 8)\n",
      "2024-12-01 15:39:09,916 INFO execute  Calculating features for angle 0 done.\n",
      "2024-12-01 15:39:09,917 INFO execute  Calculating features for angle 1:\n",
      "2024-12-01 15:39:09,918 DEBUG _calculate_haralick_textures  Rescaling dominant angles to 32 unique values.\n",
      "2024-12-01 15:39:09,919 DEBUG _calculate_haralick_textures  Rescaling dominant angles done.\n",
      "2024-12-01 15:39:09,920 DEBUG _calculate_haralick_textures  dominant_angles_binned shape is (5, 6, 8) mask shape is (5, 6, 8)\n",
      "2024-12-01 15:39:09,980 INFO execute  Calculating features for angle 1 done.\n",
      "2024-12-01 15:39:09,981 DEBUG execute  Calculating haralick features of angles done.\n",
      "2024-12-01 15:39:11,304 DEBUG execute  Output shape = (290, 200, 331, 13, 2)\n",
      "2024-12-01 15:39:11,316 DEBUG _calculate_haralick_textures  Rescaling dominant angles to 32 unique values.\n",
      "2024-12-01 15:39:11,317 DEBUG _calculate_haralick_textures  Rescaling dominant angles done.\n",
      "2024-12-01 15:39:11,318 DEBUG _calculate_haralick_textures  dominant_angles_binned shape is (5, 6, 8) mask shape is (5, 6, 8)\n",
      "2024-12-01 15:39:11,396 DEBUG _calculate_haralick_textures  Rescaling dominant angles to 32 unique values.\n",
      "2024-12-01 15:39:11,397 DEBUG _calculate_haralick_textures  Rescaling dominant angles done.\n",
      "2024-12-01 15:39:11,398 DEBUG _calculate_haralick_textures  dominant_angles_binned shape is (5, 6, 8) mask shape is (5, 6, 8)\n"
     ]
    },
    {
     "name": "stdout",
     "output_type": "stream",
     "text": [
      "angle_output2.shape .... (5, 6, 8, 13, 2)\n",
      "dom_angle.shape .... (5, 6, 8)\n",
      "angle_output.shape .... (5, 6, 8, 13)\n",
      "-----------------------------------------------\n",
      "dom_angle.shape .... (5, 6, 8)\n",
      "angle_output.shape .... (5, 6, 8, 13)\n",
      "-----------------------------------------------\n",
      "Temp CoLlAGe feature array saved.\n",
      "\n"
     ]
    },
    {
     "name": "stderr",
     "output_type": "stream",
     "text": [
      "2024-12-01 15:39:11,597 DEBUG update_normal  colorbar update normal <matplotlib.colors.Normalize object at 0x7f13f5779e10> <matplotlib.colors.Normalize object at 0x7f13f5779e10>\n",
      "2024-12-01 15:39:11,602 DEBUG _get_ticker_locator_formatter  locator: <matplotlib.ticker.AutoLocator object at 0x7f13f577af80>\n",
      "2024-12-01 15:39:11,606 DEBUG update_normal  colorbar update normal <matplotlib.colors.Normalize object at 0x7f13f5779e10> <matplotlib.colors.Normalize object at 0x7f13f5779e10>\n",
      "2024-12-01 15:39:11,609 DEBUG _get_ticker_locator_formatter  locator: <matplotlib.ticker.AutoLocator object at 0x7f13f577af80>\n",
      "2024-12-01 15:39:11,617 DEBUG _get_ticker_locator_formatter  locator: <matplotlib.ticker.AutoLocator object at 0x7f13f577aec0>\n",
      "2024-12-01 15:39:12,578 DEBUG __init__  Collage Module Initialized\n",
      "2024-12-01 15:39:12,579 DEBUG __init__  Running 3D Collage = True\n"
     ]
    },
    {
     "name": "stdout",
     "output_type": "stream",
     "text": [
      "output_name folder ....  /app/Data/_Brain/Radiology/_Adult/_MS/MSSEG2/Feature_extraction/Radiomics_features/068/time02/lesion_010_reg/collage\n",
      "tmp_name stats .npy ....... /app/Data/_Brain/Radiology/_Adult/_MS/MSSEG2/Feature_extraction/Radiomics_features/068/time02/lesion_010_reg/collage/FLAIR_068_5_64_lesion_SkullS_BiasCorrect_rz_IntStnd.npy\n",
      "tmp_name angles output .npy ....... /app/Data/_Brain/Radiology/_Adult/_MS/MSSEG2/Feature_extraction/Radiomics_features/068/time02/lesion_010_reg/collage/FLAIR_068_5_64_lesion_SkullS_BiasCorrect_rz_IntStnd_angle_output.npy\n",
      "Calculating CoLlAGe for mask: /app/Data/_Brain/Radiology/_Adult/_MS/MSSEG2/preprocessed_cimalab/068/time02/068_segmentations/lesion_010_reg.nii.gz\n",
      "Calculating CoLlAGe for label: lesion\n",
      "Calculating CoLlAGe for \"n\"  angular bins: 64\n"
     ]
    },
    {
     "name": "stderr",
     "output_type": "stream",
     "text": [
      "2024-12-01 15:39:13,200 DEBUG execute  Image shape = (290, 200, 331)\n",
      "2024-12-01 15:39:13,201 DEBUG execute  Mask size = 5x6x8\n",
      "2024-12-01 15:39:13,202 DEBUG execute  Image shape (cropped and padded) = (15, 16, 10)\n",
      "2024-12-01 15:39:13,203 DEBUG execute  Note: Dividing image values by 7999.38623046875 to convert to 0-1 range\n",
      "2024-12-01 15:39:13,203 DEBUG execute  Calculating pixel gradients:\n",
      "2024-12-01 15:39:13,206 DEBUG execute  Calculating pixel gradients done.\n",
      "2024-12-01 15:39:13,207 DEBUG execute  Calculating dominant gradient angles using SVD for each image patch of size 5x5\n",
      "2024-12-01 15:39:13,207 INFO _svd_dominant_angles  Window patch shape for dominant angle calculation = (11, 11, 1)\n",
      "2024-12-01 15:39:13,254 DEBUG execute  Calculating dominant gradient angles done.\n",
      "2024-12-01 15:39:13,255 DEBUG execute  Dominant angles shape = (5, 6, 8, 2)\n",
      "2024-12-01 15:39:13,256 DEBUG execute  Calculating haralick features of angles:\n",
      "2024-12-01 15:39:13,257 INFO execute  Calculating features for angle 0:\n",
      "2024-12-01 15:39:13,258 DEBUG _calculate_haralick_textures  Rescaling dominant angles to 64 unique values.\n",
      "2024-12-01 15:39:13,258 DEBUG _calculate_haralick_textures  Rescaling dominant angles done.\n",
      "2024-12-01 15:39:13,259 DEBUG _calculate_haralick_textures  dominant_angles_binned shape is (5, 6, 8) mask shape is (5, 6, 8)\n",
      "2024-12-01 15:39:13,456 INFO execute  Calculating features for angle 0 done.\n",
      "2024-12-01 15:39:13,457 INFO execute  Calculating features for angle 1:\n",
      "2024-12-01 15:39:13,458 DEBUG _calculate_haralick_textures  Rescaling dominant angles to 64 unique values.\n",
      "2024-12-01 15:39:13,459 DEBUG _calculate_haralick_textures  Rescaling dominant angles done.\n",
      "2024-12-01 15:39:13,460 DEBUG _calculate_haralick_textures  dominant_angles_binned shape is (5, 6, 8) mask shape is (5, 6, 8)\n",
      "2024-12-01 15:39:13,540 INFO execute  Calculating features for angle 1 done.\n",
      "2024-12-01 15:39:13,541 DEBUG execute  Calculating haralick features of angles done.\n",
      "2024-12-01 15:39:14,860 DEBUG execute  Output shape = (290, 200, 331, 13, 2)\n",
      "2024-12-01 15:39:14,871 DEBUG _calculate_haralick_textures  Rescaling dominant angles to 64 unique values.\n",
      "2024-12-01 15:39:14,872 DEBUG _calculate_haralick_textures  Rescaling dominant angles done.\n",
      "2024-12-01 15:39:14,873 DEBUG _calculate_haralick_textures  dominant_angles_binned shape is (5, 6, 8) mask shape is (5, 6, 8)\n",
      "2024-12-01 15:39:14,979 DEBUG _calculate_haralick_textures  Rescaling dominant angles to 64 unique values.\n",
      "2024-12-01 15:39:14,980 DEBUG _calculate_haralick_textures  Rescaling dominant angles done.\n",
      "2024-12-01 15:39:14,980 DEBUG _calculate_haralick_textures  dominant_angles_binned shape is (5, 6, 8) mask shape is (5, 6, 8)\n"
     ]
    },
    {
     "name": "stdout",
     "output_type": "stream",
     "text": [
      "angle_output2.shape .... (5, 6, 8, 13, 2)\n",
      "dom_angle.shape .... (5, 6, 8)\n",
      "angle_output.shape .... (5, 6, 8, 13)\n",
      "-----------------------------------------------\n",
      "dom_angle.shape .... (5, 6, 8)\n",
      "angle_output.shape .... (5, 6, 8, 13)\n"
     ]
    },
    {
     "name": "stderr",
     "output_type": "stream",
     "text": [
      "2024-12-01 15:39:15,210 DEBUG update_normal  colorbar update normal <matplotlib.colors.Normalize object at 0x7f13f5722830> <matplotlib.colors.Normalize object at 0x7f13f5722830>\n",
      "2024-12-01 15:39:15,214 DEBUG _get_ticker_locator_formatter  locator: <matplotlib.ticker.AutoLocator object at 0x7f13f5723a30>\n",
      "2024-12-01 15:39:15,217 DEBUG update_normal  colorbar update normal <matplotlib.colors.Normalize object at 0x7f13f5722830> <matplotlib.colors.Normalize object at 0x7f13f5722830>\n",
      "2024-12-01 15:39:15,221 DEBUG _get_ticker_locator_formatter  locator: <matplotlib.ticker.AutoLocator object at 0x7f13f5723a30>\n",
      "2024-12-01 15:39:15,227 DEBUG _get_ticker_locator_formatter  locator: <matplotlib.ticker.AutoLocator object at 0x7f13f5723970>\n"
     ]
    },
    {
     "name": "stdout",
     "output_type": "stream",
     "text": [
      "-----------------------------------------------\n",
      "Temp CoLlAGe feature array saved.\n",
      "\n",
      "lesion_id.... lesion_011_reg\n"
     ]
    },
    {
     "name": "stderr",
     "output_type": "stream",
     "text": [
      "2024-12-01 15:39:17,057 DEBUG __init__  Collage Module Initialized\n",
      "2024-12-01 15:39:17,058 DEBUG __init__  Running 3D Collage = True\n"
     ]
    },
    {
     "name": "stdout",
     "output_type": "stream",
     "text": [
      "label_vol . .....  61\n",
      "output_name folder ....  /app/Data/_Brain/Radiology/_Adult/_MS/MSSEG2/Feature_extraction/Radiomics_features/068/time02/lesion_011_reg/collage\n",
      "tmp_name stats .npy ....... /app/Data/_Brain/Radiology/_Adult/_MS/MSSEG2/Feature_extraction/Radiomics_features/068/time02/lesion_011_reg/collage/FLAIR_068_3_4_lesion_SkullS_BiasCorrect_rz_IntStnd.npy\n",
      "tmp_name angles output .npy ....... /app/Data/_Brain/Radiology/_Adult/_MS/MSSEG2/Feature_extraction/Radiomics_features/068/time02/lesion_011_reg/collage/FLAIR_068_3_4_lesion_SkullS_BiasCorrect_rz_IntStnd_angle_output.npy\n",
      "Calculating CoLlAGe for mask: /app/Data/_Brain/Radiology/_Adult/_MS/MSSEG2/preprocessed_cimalab/068/time02/068_segmentations/lesion_011_reg.nii.gz\n",
      "Calculating CoLlAGe for label: lesion\n",
      "Calculating CoLlAGe for \"n\"  angular bins: 4\n"
     ]
    },
    {
     "name": "stderr",
     "output_type": "stream",
     "text": [
      "2024-12-01 15:39:17,653 DEBUG execute  Image shape = (290, 200, 331)\n",
      "2024-12-01 15:39:17,653 DEBUG execute  Mask size = 9x7x4\n",
      "2024-12-01 15:39:17,654 DEBUG execute  Image shape (cropped and padded) = (15, 13, 6)\n",
      "2024-12-01 15:39:17,655 DEBUG execute  Note: Dividing image values by 7275.2275390625 to convert to 0-1 range\n",
      "2024-12-01 15:39:17,656 DEBUG execute  Calculating pixel gradients:\n",
      "2024-12-01 15:39:17,657 DEBUG execute  Calculating pixel gradients done.\n",
      "2024-12-01 15:39:17,657 DEBUG execute  Calculating dominant gradient angles using SVD for each image patch of size 3x3\n",
      "2024-12-01 15:39:17,658 INFO _svd_dominant_angles  Window patch shape for dominant angle calculation = (7, 7, 1)\n",
      "2024-12-01 15:39:17,681 DEBUG execute  Calculating dominant gradient angles done.\n",
      "2024-12-01 15:39:17,682 DEBUG execute  Dominant angles shape = (9, 7, 4, 2)\n",
      "2024-12-01 15:39:17,683 DEBUG execute  Calculating haralick features of angles:\n",
      "2024-12-01 15:39:17,683 INFO execute  Calculating features for angle 0:\n",
      "2024-12-01 15:39:17,684 DEBUG _calculate_haralick_textures  Rescaling dominant angles to 4 unique values.\n",
      "2024-12-01 15:39:17,685 DEBUG _calculate_haralick_textures  Rescaling dominant angles done.\n",
      "2024-12-01 15:39:17,685 DEBUG _calculate_haralick_textures  dominant_angles_binned shape is (9, 7, 4) mask shape is (9, 7, 4)\n",
      "2024-12-01 15:39:17,700 INFO execute  Calculating features for angle 0 done.\n",
      "2024-12-01 15:39:17,700 INFO execute  Calculating features for angle 1:\n",
      "2024-12-01 15:39:17,701 DEBUG _calculate_haralick_textures  Rescaling dominant angles to 4 unique values.\n",
      "2024-12-01 15:39:17,702 DEBUG _calculate_haralick_textures  Rescaling dominant angles done.\n",
      "2024-12-01 15:39:17,702 DEBUG _calculate_haralick_textures  dominant_angles_binned shape is (9, 7, 4) mask shape is (9, 7, 4)\n",
      "2024-12-01 15:39:17,716 INFO execute  Calculating features for angle 1 done.\n",
      "2024-12-01 15:39:17,716 DEBUG execute  Calculating haralick features of angles done.\n",
      "2024-12-01 15:39:19,028 DEBUG execute  Output shape = (290, 200, 331, 13, 2)\n",
      "2024-12-01 15:39:19,039 DEBUG _calculate_haralick_textures  Rescaling dominant angles to 4 unique values.\n",
      "2024-12-01 15:39:19,040 DEBUG _calculate_haralick_textures  Rescaling dominant angles done.\n",
      "2024-12-01 15:39:19,041 DEBUG _calculate_haralick_textures  dominant_angles_binned shape is (9, 7, 4) mask shape is (9, 7, 4)\n",
      "2024-12-01 15:39:19,079 DEBUG _calculate_haralick_textures  Rescaling dominant angles to 4 unique values.\n",
      "2024-12-01 15:39:19,080 DEBUG _calculate_haralick_textures  Rescaling dominant angles done.\n",
      "2024-12-01 15:39:19,080 DEBUG _calculate_haralick_textures  dominant_angles_binned shape is (9, 7, 4) mask shape is (9, 7, 4)\n",
      "2024-12-01 15:39:19,238 DEBUG _get_ticker_locator_formatter  locator: <matplotlib.ticker.AutoLocator object at 0x7f13f54d3670>\n"
     ]
    },
    {
     "name": "stdout",
     "output_type": "stream",
     "text": [
      "angle_output2.shape .... (9, 7, 4, 13, 2)\n",
      "dom_angle.shape .... (9, 7, 4)\n",
      "angle_output.shape .... (9, 7, 4, 13)\n",
      "-----------------------------------------------\n",
      "dom_angle.shape .... (9, 7, 4)\n",
      "angle_output.shape .... (9, 7, 4, 13)\n",
      "-----------------------------------------------\n",
      "Temp CoLlAGe feature array saved.\n",
      "\n"
     ]
    },
    {
     "name": "stderr",
     "output_type": "stream",
     "text": [
      "2024-12-01 15:39:20,192 DEBUG __init__  Collage Module Initialized\n",
      "2024-12-01 15:39:20,192 DEBUG __init__  Running 3D Collage = True\n"
     ]
    },
    {
     "name": "stdout",
     "output_type": "stream",
     "text": [
      "output_name folder ....  /app/Data/_Brain/Radiology/_Adult/_MS/MSSEG2/Feature_extraction/Radiomics_features/068/time02/lesion_011_reg/collage\n",
      "tmp_name stats .npy ....... /app/Data/_Brain/Radiology/_Adult/_MS/MSSEG2/Feature_extraction/Radiomics_features/068/time02/lesion_011_reg/collage/FLAIR_068_3_8_lesion_SkullS_BiasCorrect_rz_IntStnd.npy\n",
      "tmp_name angles output .npy ....... /app/Data/_Brain/Radiology/_Adult/_MS/MSSEG2/Feature_extraction/Radiomics_features/068/time02/lesion_011_reg/collage/FLAIR_068_3_8_lesion_SkullS_BiasCorrect_rz_IntStnd_angle_output.npy\n",
      "Calculating CoLlAGe for mask: /app/Data/_Brain/Radiology/_Adult/_MS/MSSEG2/preprocessed_cimalab/068/time02/068_segmentations/lesion_011_reg.nii.gz\n",
      "Calculating CoLlAGe for label: lesion\n",
      "Calculating CoLlAGe for \"n\"  angular bins: 8\n"
     ]
    },
    {
     "name": "stderr",
     "output_type": "stream",
     "text": [
      "2024-12-01 15:39:20,860 DEBUG execute  Image shape = (290, 200, 331)\n",
      "2024-12-01 15:39:20,861 DEBUG execute  Mask size = 9x7x4\n",
      "2024-12-01 15:39:20,862 DEBUG execute  Image shape (cropped and padded) = (15, 13, 6)\n",
      "2024-12-01 15:39:20,863 DEBUG execute  Note: Dividing image values by 7275.2275390625 to convert to 0-1 range\n",
      "2024-12-01 15:39:20,864 DEBUG execute  Calculating pixel gradients:\n",
      "2024-12-01 15:39:20,865 DEBUG execute  Calculating pixel gradients done.\n",
      "2024-12-01 15:39:20,865 DEBUG execute  Calculating dominant gradient angles using SVD for each image patch of size 3x3\n",
      "2024-12-01 15:39:20,866 INFO _svd_dominant_angles  Window patch shape for dominant angle calculation = (7, 7, 1)\n",
      "2024-12-01 15:39:20,887 DEBUG execute  Calculating dominant gradient angles done.\n",
      "2024-12-01 15:39:20,888 DEBUG execute  Dominant angles shape = (9, 7, 4, 2)\n",
      "2024-12-01 15:39:20,888 DEBUG execute  Calculating haralick features of angles:\n",
      "2024-12-01 15:39:20,889 INFO execute  Calculating features for angle 0:\n",
      "2024-12-01 15:39:20,890 DEBUG _calculate_haralick_textures  Rescaling dominant angles to 8 unique values.\n",
      "2024-12-01 15:39:20,891 DEBUG _calculate_haralick_textures  Rescaling dominant angles done.\n",
      "2024-12-01 15:39:20,891 DEBUG _calculate_haralick_textures  dominant_angles_binned shape is (9, 7, 4) mask shape is (9, 7, 4)\n",
      "2024-12-01 15:39:20,905 INFO execute  Calculating features for angle 0 done.\n",
      "2024-12-01 15:39:20,905 INFO execute  Calculating features for angle 1:\n",
      "2024-12-01 15:39:20,906 DEBUG _calculate_haralick_textures  Rescaling dominant angles to 8 unique values.\n",
      "2024-12-01 15:39:20,907 DEBUG _calculate_haralick_textures  Rescaling dominant angles done.\n",
      "2024-12-01 15:39:20,907 DEBUG _calculate_haralick_textures  dominant_angles_binned shape is (9, 7, 4) mask shape is (9, 7, 4)\n",
      "2024-12-01 15:39:20,934 INFO execute  Calculating features for angle 1 done.\n",
      "2024-12-01 15:39:20,935 DEBUG execute  Calculating haralick features of angles done.\n",
      "2024-12-01 15:39:22,282 DEBUG execute  Output shape = (290, 200, 331, 13, 2)\n",
      "2024-12-01 15:39:22,295 DEBUG _calculate_haralick_textures  Rescaling dominant angles to 8 unique values.\n",
      "2024-12-01 15:39:22,296 DEBUG _calculate_haralick_textures  Rescaling dominant angles done.\n",
      "2024-12-01 15:39:22,296 DEBUG _calculate_haralick_textures  dominant_angles_binned shape is (9, 7, 4) mask shape is (9, 7, 4)\n",
      "2024-12-01 15:39:22,336 DEBUG _calculate_haralick_textures  Rescaling dominant angles to 8 unique values.\n",
      "2024-12-01 15:39:22,337 DEBUG _calculate_haralick_textures  Rescaling dominant angles done.\n",
      "2024-12-01 15:39:22,338 DEBUG _calculate_haralick_textures  dominant_angles_binned shape is (9, 7, 4) mask shape is (9, 7, 4)\n"
     ]
    },
    {
     "name": "stdout",
     "output_type": "stream",
     "text": [
      "angle_output2.shape .... (9, 7, 4, 13, 2)\n",
      "dom_angle.shape .... (9, 7, 4)\n",
      "angle_output.shape .... (9, 7, 4, 13)\n",
      "-----------------------------------------------\n",
      "dom_angle.shape .... (9, 7, 4)\n",
      "angle_output.shape .... (9, 7, 4, 13)\n",
      "-----------------------------------------------\n",
      "Temp CoLlAGe feature array saved.\n",
      "\n"
     ]
    },
    {
     "name": "stderr",
     "output_type": "stream",
     "text": [
      "2024-12-01 15:39:22,515 DEBUG _get_ticker_locator_formatter  locator: <matplotlib.ticker.AutoLocator object at 0x7f13f52a92d0>\n",
      "2024-12-01 15:39:24,840 DEBUG __init__  Collage Module Initialized\n",
      "2024-12-01 15:39:24,841 DEBUG __init__  Running 3D Collage = True\n"
     ]
    },
    {
     "name": "stdout",
     "output_type": "stream",
     "text": [
      "output_name folder ....  /app/Data/_Brain/Radiology/_Adult/_MS/MSSEG2/Feature_extraction/Radiomics_features/068/time02/lesion_011_reg/collage\n",
      "tmp_name stats .npy ....... /app/Data/_Brain/Radiology/_Adult/_MS/MSSEG2/Feature_extraction/Radiomics_features/068/time02/lesion_011_reg/collage/FLAIR_068_3_16_lesion_SkullS_BiasCorrect_rz_IntStnd.npy\n",
      "tmp_name angles output .npy ....... /app/Data/_Brain/Radiology/_Adult/_MS/MSSEG2/Feature_extraction/Radiomics_features/068/time02/lesion_011_reg/collage/FLAIR_068_3_16_lesion_SkullS_BiasCorrect_rz_IntStnd_angle_output.npy\n",
      "Calculating CoLlAGe for mask: /app/Data/_Brain/Radiology/_Adult/_MS/MSSEG2/preprocessed_cimalab/068/time02/068_segmentations/lesion_011_reg.nii.gz\n",
      "Calculating CoLlAGe for label: lesion\n",
      "Calculating CoLlAGe for \"n\"  angular bins: 16\n"
     ]
    },
    {
     "name": "stderr",
     "output_type": "stream",
     "text": [
      "2024-12-01 15:39:25,472 DEBUG execute  Image shape = (290, 200, 331)\n",
      "2024-12-01 15:39:25,473 DEBUG execute  Mask size = 9x7x4\n",
      "2024-12-01 15:39:25,474 DEBUG execute  Image shape (cropped and padded) = (15, 13, 6)\n",
      "2024-12-01 15:39:25,474 DEBUG execute  Note: Dividing image values by 7275.2275390625 to convert to 0-1 range\n",
      "2024-12-01 15:39:25,475 DEBUG execute  Calculating pixel gradients:\n",
      "2024-12-01 15:39:25,476 DEBUG execute  Calculating pixel gradients done.\n",
      "2024-12-01 15:39:25,477 DEBUG execute  Calculating dominant gradient angles using SVD for each image patch of size 3x3\n",
      "2024-12-01 15:39:25,477 INFO _svd_dominant_angles  Window patch shape for dominant angle calculation = (7, 7, 1)\n",
      "2024-12-01 15:39:25,499 DEBUG execute  Calculating dominant gradient angles done.\n",
      "2024-12-01 15:39:25,500 DEBUG execute  Dominant angles shape = (9, 7, 4, 2)\n",
      "2024-12-01 15:39:25,501 DEBUG execute  Calculating haralick features of angles:\n",
      "2024-12-01 15:39:25,502 INFO execute  Calculating features for angle 0:\n",
      "2024-12-01 15:39:25,502 DEBUG _calculate_haralick_textures  Rescaling dominant angles to 16 unique values.\n",
      "2024-12-01 15:39:25,503 DEBUG _calculate_haralick_textures  Rescaling dominant angles done.\n",
      "2024-12-01 15:39:25,505 DEBUG _calculate_haralick_textures  dominant_angles_binned shape is (9, 7, 4) mask shape is (9, 7, 4)\n",
      "2024-12-01 15:39:25,519 INFO execute  Calculating features for angle 0 done.\n",
      "2024-12-01 15:39:25,519 INFO execute  Calculating features for angle 1:\n",
      "2024-12-01 15:39:25,520 DEBUG _calculate_haralick_textures  Rescaling dominant angles to 16 unique values.\n",
      "2024-12-01 15:39:25,521 DEBUG _calculate_haralick_textures  Rescaling dominant angles done.\n",
      "2024-12-01 15:39:25,522 DEBUG _calculate_haralick_textures  dominant_angles_binned shape is (9, 7, 4) mask shape is (9, 7, 4)\n",
      "2024-12-01 15:39:25,535 INFO execute  Calculating features for angle 1 done.\n",
      "2024-12-01 15:39:25,536 DEBUG execute  Calculating haralick features of angles done.\n",
      "2024-12-01 15:39:26,852 DEBUG execute  Output shape = (290, 200, 331, 13, 2)\n",
      "2024-12-01 15:39:26,865 DEBUG _calculate_haralick_textures  Rescaling dominant angles to 16 unique values.\n",
      "2024-12-01 15:39:26,866 DEBUG _calculate_haralick_textures  Rescaling dominant angles done.\n",
      "2024-12-01 15:39:26,866 DEBUG _calculate_haralick_textures  dominant_angles_binned shape is (9, 7, 4) mask shape is (9, 7, 4)\n",
      "2024-12-01 15:39:26,903 DEBUG _calculate_haralick_textures  Rescaling dominant angles to 16 unique values.\n",
      "2024-12-01 15:39:26,904 DEBUG _calculate_haralick_textures  Rescaling dominant angles done.\n",
      "2024-12-01 15:39:26,905 DEBUG _calculate_haralick_textures  dominant_angles_binned shape is (9, 7, 4) mask shape is (9, 7, 4)\n",
      "2024-12-01 15:39:27,061 DEBUG _get_ticker_locator_formatter  locator: <matplotlib.ticker.AutoLocator object at 0x7f13f896cd60>\n"
     ]
    },
    {
     "name": "stdout",
     "output_type": "stream",
     "text": [
      "angle_output2.shape .... (9, 7, 4, 13, 2)\n",
      "dom_angle.shape .... (9, 7, 4)\n",
      "angle_output.shape .... (9, 7, 4, 13)\n",
      "-----------------------------------------------\n",
      "dom_angle.shape .... (9, 7, 4)\n",
      "angle_output.shape .... (9, 7, 4, 13)\n",
      "-----------------------------------------------\n",
      "Temp CoLlAGe feature array saved.\n",
      "\n"
     ]
    },
    {
     "name": "stderr",
     "output_type": "stream",
     "text": [
      "2024-12-01 15:39:28,061 DEBUG __init__  Collage Module Initialized\n",
      "2024-12-01 15:39:28,061 DEBUG __init__  Running 3D Collage = True\n"
     ]
    },
    {
     "name": "stdout",
     "output_type": "stream",
     "text": [
      "output_name folder ....  /app/Data/_Brain/Radiology/_Adult/_MS/MSSEG2/Feature_extraction/Radiomics_features/068/time02/lesion_011_reg/collage\n",
      "tmp_name stats .npy ....... /app/Data/_Brain/Radiology/_Adult/_MS/MSSEG2/Feature_extraction/Radiomics_features/068/time02/lesion_011_reg/collage/FLAIR_068_3_32_lesion_SkullS_BiasCorrect_rz_IntStnd.npy\n",
      "tmp_name angles output .npy ....... /app/Data/_Brain/Radiology/_Adult/_MS/MSSEG2/Feature_extraction/Radiomics_features/068/time02/lesion_011_reg/collage/FLAIR_068_3_32_lesion_SkullS_BiasCorrect_rz_IntStnd_angle_output.npy\n",
      "Calculating CoLlAGe for mask: /app/Data/_Brain/Radiology/_Adult/_MS/MSSEG2/preprocessed_cimalab/068/time02/068_segmentations/lesion_011_reg.nii.gz\n",
      "Calculating CoLlAGe for label: lesion\n",
      "Calculating CoLlAGe for \"n\"  angular bins: 32\n"
     ]
    },
    {
     "name": "stderr",
     "output_type": "stream",
     "text": [
      "2024-12-01 15:39:28,692 DEBUG execute  Image shape = (290, 200, 331)\n",
      "2024-12-01 15:39:28,693 DEBUG execute  Mask size = 9x7x4\n",
      "2024-12-01 15:39:28,693 DEBUG execute  Image shape (cropped and padded) = (15, 13, 6)\n",
      "2024-12-01 15:39:28,694 DEBUG execute  Note: Dividing image values by 7275.2275390625 to convert to 0-1 range\n",
      "2024-12-01 15:39:28,695 DEBUG execute  Calculating pixel gradients:\n",
      "2024-12-01 15:39:28,696 DEBUG execute  Calculating pixel gradients done.\n",
      "2024-12-01 15:39:28,697 DEBUG execute  Calculating dominant gradient angles using SVD for each image patch of size 3x3\n",
      "2024-12-01 15:39:28,697 INFO _svd_dominant_angles  Window patch shape for dominant angle calculation = (7, 7, 1)\n",
      "2024-12-01 15:39:28,719 DEBUG execute  Calculating dominant gradient angles done.\n",
      "2024-12-01 15:39:28,720 DEBUG execute  Dominant angles shape = (9, 7, 4, 2)\n",
      "2024-12-01 15:39:28,721 DEBUG execute  Calculating haralick features of angles:\n",
      "2024-12-01 15:39:28,722 INFO execute  Calculating features for angle 0:\n",
      "2024-12-01 15:39:28,722 DEBUG _calculate_haralick_textures  Rescaling dominant angles to 32 unique values.\n",
      "2024-12-01 15:39:28,723 DEBUG _calculate_haralick_textures  Rescaling dominant angles done.\n",
      "2024-12-01 15:39:28,724 DEBUG _calculate_haralick_textures  dominant_angles_binned shape is (9, 7, 4) mask shape is (9, 7, 4)\n",
      "2024-12-01 15:39:28,740 INFO execute  Calculating features for angle 0 done.\n",
      "2024-12-01 15:39:28,741 INFO execute  Calculating features for angle 1:\n",
      "2024-12-01 15:39:28,742 DEBUG _calculate_haralick_textures  Rescaling dominant angles to 32 unique values.\n",
      "2024-12-01 15:39:28,743 DEBUG _calculate_haralick_textures  Rescaling dominant angles done.\n",
      "2024-12-01 15:39:28,743 DEBUG _calculate_haralick_textures  dominant_angles_binned shape is (9, 7, 4) mask shape is (9, 7, 4)\n",
      "2024-12-01 15:39:28,760 INFO execute  Calculating features for angle 1 done.\n",
      "2024-12-01 15:39:28,761 DEBUG execute  Calculating haralick features of angles done.\n",
      "2024-12-01 15:39:30,336 DEBUG execute  Output shape = (290, 200, 331, 13, 2)\n",
      "2024-12-01 15:39:30,356 DEBUG _calculate_haralick_textures  Rescaling dominant angles to 32 unique values.\n",
      "2024-12-01 15:39:30,357 DEBUG _calculate_haralick_textures  Rescaling dominant angles done.\n",
      "2024-12-01 15:39:30,358 DEBUG _calculate_haralick_textures  dominant_angles_binned shape is (9, 7, 4) mask shape is (9, 7, 4)\n",
      "2024-12-01 15:39:30,397 DEBUG _calculate_haralick_textures  Rescaling dominant angles to 32 unique values.\n",
      "2024-12-01 15:39:30,398 DEBUG _calculate_haralick_textures  Rescaling dominant angles done.\n",
      "2024-12-01 15:39:30,399 DEBUG _calculate_haralick_textures  dominant_angles_binned shape is (9, 7, 4) mask shape is (9, 7, 4)\n"
     ]
    },
    {
     "name": "stdout",
     "output_type": "stream",
     "text": [
      "angle_output2.shape .... (9, 7, 4, 13, 2)\n",
      "dom_angle.shape .... (9, 7, 4)\n",
      "angle_output.shape .... (9, 7, 4, 13)\n",
      "-----------------------------------------------\n",
      "dom_angle.shape .... (9, 7, 4)\n",
      "angle_output.shape .... (9, 7, 4, 13)\n",
      "-----------------------------------------------\n",
      "Temp CoLlAGe feature array saved.\n",
      "\n"
     ]
    },
    {
     "name": "stderr",
     "output_type": "stream",
     "text": [
      "2024-12-01 15:39:30,652 DEBUG _get_ticker_locator_formatter  locator: <matplotlib.ticker.AutoLocator object at 0x7f13f9681ba0>\n",
      "2024-12-01 15:39:31,845 DEBUG __init__  Collage Module Initialized\n",
      "2024-12-01 15:39:31,845 DEBUG __init__  Running 3D Collage = True\n"
     ]
    },
    {
     "name": "stdout",
     "output_type": "stream",
     "text": [
      "output_name folder ....  /app/Data/_Brain/Radiology/_Adult/_MS/MSSEG2/Feature_extraction/Radiomics_features/068/time02/lesion_011_reg/collage\n",
      "tmp_name stats .npy ....... /app/Data/_Brain/Radiology/_Adult/_MS/MSSEG2/Feature_extraction/Radiomics_features/068/time02/lesion_011_reg/collage/FLAIR_068_3_64_lesion_SkullS_BiasCorrect_rz_IntStnd.npy\n",
      "tmp_name angles output .npy ....... /app/Data/_Brain/Radiology/_Adult/_MS/MSSEG2/Feature_extraction/Radiomics_features/068/time02/lesion_011_reg/collage/FLAIR_068_3_64_lesion_SkullS_BiasCorrect_rz_IntStnd_angle_output.npy\n",
      "Calculating CoLlAGe for mask: /app/Data/_Brain/Radiology/_Adult/_MS/MSSEG2/preprocessed_cimalab/068/time02/068_segmentations/lesion_011_reg.nii.gz\n",
      "Calculating CoLlAGe for label: lesion\n",
      "Calculating CoLlAGe for \"n\"  angular bins: 64\n"
     ]
    },
    {
     "name": "stderr",
     "output_type": "stream",
     "text": [
      "2024-12-01 15:39:32,462 DEBUG execute  Image shape = (290, 200, 331)\n",
      "2024-12-01 15:39:32,463 DEBUG execute  Mask size = 9x7x4\n",
      "2024-12-01 15:39:32,464 DEBUG execute  Image shape (cropped and padded) = (15, 13, 6)\n",
      "2024-12-01 15:39:32,465 DEBUG execute  Note: Dividing image values by 7275.2275390625 to convert to 0-1 range\n",
      "2024-12-01 15:39:32,466 DEBUG execute  Calculating pixel gradients:\n",
      "2024-12-01 15:39:32,468 DEBUG execute  Calculating pixel gradients done.\n",
      "2024-12-01 15:39:32,469 DEBUG execute  Calculating dominant gradient angles using SVD for each image patch of size 3x3\n",
      "2024-12-01 15:39:32,470 INFO _svd_dominant_angles  Window patch shape for dominant angle calculation = (7, 7, 1)\n",
      "2024-12-01 15:39:32,492 DEBUG execute  Calculating dominant gradient angles done.\n",
      "2024-12-01 15:39:32,492 DEBUG execute  Dominant angles shape = (9, 7, 4, 2)\n",
      "2024-12-01 15:39:32,493 DEBUG execute  Calculating haralick features of angles:\n",
      "2024-12-01 15:39:32,494 INFO execute  Calculating features for angle 0:\n",
      "2024-12-01 15:39:32,495 DEBUG _calculate_haralick_textures  Rescaling dominant angles to 64 unique values.\n",
      "2024-12-01 15:39:32,496 DEBUG _calculate_haralick_textures  Rescaling dominant angles done.\n",
      "2024-12-01 15:39:32,496 DEBUG _calculate_haralick_textures  dominant_angles_binned shape is (9, 7, 4) mask shape is (9, 7, 4)\n",
      "2024-12-01 15:39:32,521 INFO execute  Calculating features for angle 0 done.\n",
      "2024-12-01 15:39:32,522 INFO execute  Calculating features for angle 1:\n",
      "2024-12-01 15:39:32,522 DEBUG _calculate_haralick_textures  Rescaling dominant angles to 64 unique values.\n",
      "2024-12-01 15:39:32,523 DEBUG _calculate_haralick_textures  Rescaling dominant angles done.\n",
      "2024-12-01 15:39:32,524 DEBUG _calculate_haralick_textures  dominant_angles_binned shape is (9, 7, 4) mask shape is (9, 7, 4)\n",
      "2024-12-01 15:39:32,548 INFO execute  Calculating features for angle 1 done.\n",
      "2024-12-01 15:39:32,549 DEBUG execute  Calculating haralick features of angles done.\n",
      "2024-12-01 15:39:33,887 DEBUG execute  Output shape = (290, 200, 331, 13, 2)\n",
      "2024-12-01 15:39:33,899 DEBUG _calculate_haralick_textures  Rescaling dominant angles to 64 unique values.\n",
      "2024-12-01 15:39:33,900 DEBUG _calculate_haralick_textures  Rescaling dominant angles done.\n",
      "2024-12-01 15:39:33,901 DEBUG _calculate_haralick_textures  dominant_angles_binned shape is (9, 7, 4) mask shape is (9, 7, 4)\n",
      "2024-12-01 15:39:33,950 DEBUG _calculate_haralick_textures  Rescaling dominant angles to 64 unique values.\n",
      "2024-12-01 15:39:33,951 DEBUG _calculate_haralick_textures  Rescaling dominant angles done.\n",
      "2024-12-01 15:39:33,951 DEBUG _calculate_haralick_textures  dominant_angles_binned shape is (9, 7, 4) mask shape is (9, 7, 4)\n"
     ]
    },
    {
     "name": "stdout",
     "output_type": "stream",
     "text": [
      "angle_output2.shape .... (9, 7, 4, 13, 2)\n",
      "dom_angle.shape .... (9, 7, 4)\n",
      "angle_output.shape .... (9, 7, 4, 13)\n",
      "-----------------------------------------------\n",
      "dom_angle.shape .... (9, 7, 4)\n",
      "angle_output.shape .... (9, 7, 4, 13)\n",
      "-----------------------------------------------\n",
      "Temp CoLlAGe feature array saved.\n",
      "\n"
     ]
    },
    {
     "name": "stderr",
     "output_type": "stream",
     "text": [
      "2024-12-01 15:39:34,122 DEBUG _get_ticker_locator_formatter  locator: <matplotlib.ticker.AutoLocator object at 0x7f13f9d313f0>\n",
      "2024-12-01 15:39:35,122 DEBUG __init__  Collage Module Initialized\n",
      "2024-12-01 15:39:35,122 DEBUG __init__  Running 3D Collage = True\n"
     ]
    },
    {
     "name": "stdout",
     "output_type": "stream",
     "text": [
      "output_name folder ....  /app/Data/_Brain/Radiology/_Adult/_MS/MSSEG2/Feature_extraction/Radiomics_features/068/time02/lesion_011_reg/collage\n",
      "tmp_name stats .npy ....... /app/Data/_Brain/Radiology/_Adult/_MS/MSSEG2/Feature_extraction/Radiomics_features/068/time02/lesion_011_reg/collage/FLAIR_068_5_4_lesion_SkullS_BiasCorrect_rz_IntStnd.npy\n",
      "tmp_name angles output .npy ....... /app/Data/_Brain/Radiology/_Adult/_MS/MSSEG2/Feature_extraction/Radiomics_features/068/time02/lesion_011_reg/collage/FLAIR_068_5_4_lesion_SkullS_BiasCorrect_rz_IntStnd_angle_output.npy\n",
      "Calculating CoLlAGe for mask: /app/Data/_Brain/Radiology/_Adult/_MS/MSSEG2/preprocessed_cimalab/068/time02/068_segmentations/lesion_011_reg.nii.gz\n",
      "Calculating CoLlAGe for label: lesion\n",
      "Calculating CoLlAGe for \"n\"  angular bins: 4\n"
     ]
    },
    {
     "name": "stderr",
     "output_type": "stream",
     "text": [
      "2024-12-01 15:39:35,724 DEBUG execute  Image shape = (290, 200, 331)\n",
      "2024-12-01 15:39:35,725 DEBUG execute  Mask size = 9x7x4\n",
      "2024-12-01 15:39:35,726 DEBUG execute  Image shape (cropped and padded) = (19, 17, 6)\n",
      "2024-12-01 15:39:35,727 DEBUG execute  Note: Dividing image values by 7275.2275390625 to convert to 0-1 range\n",
      "2024-12-01 15:39:35,728 DEBUG execute  Calculating pixel gradients:\n",
      "2024-12-01 15:39:35,730 DEBUG execute  Calculating pixel gradients done.\n",
      "2024-12-01 15:39:35,731 DEBUG execute  Calculating dominant gradient angles using SVD for each image patch of size 5x5\n",
      "2024-12-01 15:39:35,732 INFO _svd_dominant_angles  Window patch shape for dominant angle calculation = (11, 11, 1)\n",
      "2024-12-01 15:39:35,777 DEBUG execute  Calculating dominant gradient angles done.\n",
      "2024-12-01 15:39:35,778 DEBUG execute  Dominant angles shape = (9, 7, 4, 2)\n",
      "2024-12-01 15:39:35,778 DEBUG execute  Calculating haralick features of angles:\n",
      "2024-12-01 15:39:35,779 INFO execute  Calculating features for angle 0:\n",
      "2024-12-01 15:39:35,780 DEBUG _calculate_haralick_textures  Rescaling dominant angles to 4 unique values.\n",
      "2024-12-01 15:39:35,781 DEBUG _calculate_haralick_textures  Rescaling dominant angles done.\n",
      "2024-12-01 15:39:35,781 DEBUG _calculate_haralick_textures  dominant_angles_binned shape is (9, 7, 4) mask shape is (9, 7, 4)\n",
      "2024-12-01 15:39:35,816 INFO execute  Calculating features for angle 0 done.\n",
      "2024-12-01 15:39:35,817 INFO execute  Calculating features for angle 1:\n",
      "2024-12-01 15:39:35,817 DEBUG _calculate_haralick_textures  Rescaling dominant angles to 4 unique values.\n",
      "2024-12-01 15:39:35,818 DEBUG _calculate_haralick_textures  Rescaling dominant angles done.\n",
      "2024-12-01 15:39:35,819 DEBUG _calculate_haralick_textures  dominant_angles_binned shape is (9, 7, 4) mask shape is (9, 7, 4)\n",
      "2024-12-01 15:39:35,835 INFO execute  Calculating features for angle 1 done.\n",
      "2024-12-01 15:39:35,835 DEBUG execute  Calculating haralick features of angles done.\n",
      "2024-12-01 15:39:37,207 DEBUG execute  Output shape = (290, 200, 331, 13, 2)\n",
      "2024-12-01 15:39:37,219 DEBUG _calculate_haralick_textures  Rescaling dominant angles to 4 unique values.\n",
      "2024-12-01 15:39:37,220 DEBUG _calculate_haralick_textures  Rescaling dominant angles done.\n",
      "2024-12-01 15:39:37,221 DEBUG _calculate_haralick_textures  dominant_angles_binned shape is (9, 7, 4) mask shape is (9, 7, 4)\n",
      "2024-12-01 15:39:37,258 DEBUG _calculate_haralick_textures  Rescaling dominant angles to 4 unique values.\n",
      "2024-12-01 15:39:37,259 DEBUG _calculate_haralick_textures  Rescaling dominant angles done.\n",
      "2024-12-01 15:39:37,260 DEBUG _calculate_haralick_textures  dominant_angles_binned shape is (9, 7, 4) mask shape is (9, 7, 4)\n"
     ]
    },
    {
     "name": "stdout",
     "output_type": "stream",
     "text": [
      "angle_output2.shape .... (9, 7, 4, 13, 2)\n",
      "dom_angle.shape .... (9, 7, 4)\n",
      "angle_output.shape .... (9, 7, 4, 13)\n",
      "-----------------------------------------------\n",
      "dom_angle.shape .... (9, 7, 4)\n",
      "angle_output.shape .... (9, 7, 4, 13)\n",
      "-----------------------------------------------\n",
      "Temp CoLlAGe feature array saved.\n",
      "\n"
     ]
    },
    {
     "name": "stderr",
     "output_type": "stream",
     "text": [
      "2024-12-01 15:39:37,423 DEBUG _get_ticker_locator_formatter  locator: <matplotlib.ticker.AutoLocator object at 0x7f13fa29e500>\n",
      "2024-12-01 15:39:38,431 DEBUG __init__  Collage Module Initialized\n",
      "2024-12-01 15:39:38,431 DEBUG __init__  Running 3D Collage = True\n"
     ]
    },
    {
     "name": "stdout",
     "output_type": "stream",
     "text": [
      "output_name folder ....  /app/Data/_Brain/Radiology/_Adult/_MS/MSSEG2/Feature_extraction/Radiomics_features/068/time02/lesion_011_reg/collage\n",
      "tmp_name stats .npy ....... /app/Data/_Brain/Radiology/_Adult/_MS/MSSEG2/Feature_extraction/Radiomics_features/068/time02/lesion_011_reg/collage/FLAIR_068_5_8_lesion_SkullS_BiasCorrect_rz_IntStnd.npy\n",
      "tmp_name angles output .npy ....... /app/Data/_Brain/Radiology/_Adult/_MS/MSSEG2/Feature_extraction/Radiomics_features/068/time02/lesion_011_reg/collage/FLAIR_068_5_8_lesion_SkullS_BiasCorrect_rz_IntStnd_angle_output.npy\n",
      "Calculating CoLlAGe for mask: /app/Data/_Brain/Radiology/_Adult/_MS/MSSEG2/preprocessed_cimalab/068/time02/068_segmentations/lesion_011_reg.nii.gz\n",
      "Calculating CoLlAGe for label: lesion\n",
      "Calculating CoLlAGe for \"n\"  angular bins: 8\n"
     ]
    },
    {
     "name": "stderr",
     "output_type": "stream",
     "text": [
      "2024-12-01 15:39:39,046 DEBUG execute  Image shape = (290, 200, 331)\n",
      "2024-12-01 15:39:39,047 DEBUG execute  Mask size = 9x7x4\n",
      "2024-12-01 15:39:39,047 DEBUG execute  Image shape (cropped and padded) = (19, 17, 6)\n",
      "2024-12-01 15:39:39,048 DEBUG execute  Note: Dividing image values by 7275.2275390625 to convert to 0-1 range\n",
      "2024-12-01 15:39:39,049 DEBUG execute  Calculating pixel gradients:\n",
      "2024-12-01 15:39:39,050 DEBUG execute  Calculating pixel gradients done.\n",
      "2024-12-01 15:39:39,051 DEBUG execute  Calculating dominant gradient angles using SVD for each image patch of size 5x5\n",
      "2024-12-01 15:39:39,051 INFO _svd_dominant_angles  Window patch shape for dominant angle calculation = (11, 11, 1)\n",
      "2024-12-01 15:39:39,096 DEBUG execute  Calculating dominant gradient angles done.\n",
      "2024-12-01 15:39:39,097 DEBUG execute  Dominant angles shape = (9, 7, 4, 2)\n",
      "2024-12-01 15:39:39,098 DEBUG execute  Calculating haralick features of angles:\n",
      "2024-12-01 15:39:39,099 INFO execute  Calculating features for angle 0:\n",
      "2024-12-01 15:39:39,100 DEBUG _calculate_haralick_textures  Rescaling dominant angles to 8 unique values.\n",
      "2024-12-01 15:39:39,101 DEBUG _calculate_haralick_textures  Rescaling dominant angles done.\n",
      "2024-12-01 15:39:39,102 DEBUG _calculate_haralick_textures  dominant_angles_binned shape is (9, 7, 4) mask shape is (9, 7, 4)\n",
      "2024-12-01 15:39:39,118 INFO execute  Calculating features for angle 0 done.\n",
      "2024-12-01 15:39:39,119 INFO execute  Calculating features for angle 1:\n",
      "2024-12-01 15:39:39,120 DEBUG _calculate_haralick_textures  Rescaling dominant angles to 8 unique values.\n",
      "2024-12-01 15:39:39,121 DEBUG _calculate_haralick_textures  Rescaling dominant angles done.\n",
      "2024-12-01 15:39:39,122 DEBUG _calculate_haralick_textures  dominant_angles_binned shape is (9, 7, 4) mask shape is (9, 7, 4)\n",
      "2024-12-01 15:39:39,138 INFO execute  Calculating features for angle 1 done.\n",
      "2024-12-01 15:39:39,139 DEBUG execute  Calculating haralick features of angles done.\n",
      "2024-12-01 15:39:40,509 DEBUG execute  Output shape = (290, 200, 331, 13, 2)\n",
      "2024-12-01 15:39:40,521 DEBUG _calculate_haralick_textures  Rescaling dominant angles to 8 unique values.\n",
      "2024-12-01 15:39:40,522 DEBUG _calculate_haralick_textures  Rescaling dominant angles done.\n",
      "2024-12-01 15:39:40,522 DEBUG _calculate_haralick_textures  dominant_angles_binned shape is (9, 7, 4) mask shape is (9, 7, 4)\n",
      "2024-12-01 15:39:40,560 DEBUG _calculate_haralick_textures  Rescaling dominant angles to 8 unique values.\n",
      "2024-12-01 15:39:40,561 DEBUG _calculate_haralick_textures  Rescaling dominant angles done.\n",
      "2024-12-01 15:39:40,562 DEBUG _calculate_haralick_textures  dominant_angles_binned shape is (9, 7, 4) mask shape is (9, 7, 4)\n",
      "2024-12-01 15:39:40,719 DEBUG _get_ticker_locator_formatter  locator: <matplotlib.ticker.AutoLocator object at 0x7f13fac272e0>\n"
     ]
    },
    {
     "name": "stdout",
     "output_type": "stream",
     "text": [
      "angle_output2.shape .... (9, 7, 4, 13, 2)\n",
      "dom_angle.shape .... (9, 7, 4)\n",
      "angle_output.shape .... (9, 7, 4, 13)\n",
      "-----------------------------------------------\n",
      "dom_angle.shape .... (9, 7, 4)\n",
      "angle_output.shape .... (9, 7, 4, 13)\n",
      "-----------------------------------------------\n",
      "Temp CoLlAGe feature array saved.\n",
      "\n"
     ]
    },
    {
     "name": "stderr",
     "output_type": "stream",
     "text": [
      "2024-12-01 15:39:41,731 DEBUG __init__  Collage Module Initialized\n",
      "2024-12-01 15:39:41,732 DEBUG __init__  Running 3D Collage = True\n"
     ]
    },
    {
     "name": "stdout",
     "output_type": "stream",
     "text": [
      "output_name folder ....  /app/Data/_Brain/Radiology/_Adult/_MS/MSSEG2/Feature_extraction/Radiomics_features/068/time02/lesion_011_reg/collage\n",
      "tmp_name stats .npy ....... /app/Data/_Brain/Radiology/_Adult/_MS/MSSEG2/Feature_extraction/Radiomics_features/068/time02/lesion_011_reg/collage/FLAIR_068_5_16_lesion_SkullS_BiasCorrect_rz_IntStnd.npy\n",
      "tmp_name angles output .npy ....... /app/Data/_Brain/Radiology/_Adult/_MS/MSSEG2/Feature_extraction/Radiomics_features/068/time02/lesion_011_reg/collage/FLAIR_068_5_16_lesion_SkullS_BiasCorrect_rz_IntStnd_angle_output.npy\n",
      "Calculating CoLlAGe for mask: /app/Data/_Brain/Radiology/_Adult/_MS/MSSEG2/preprocessed_cimalab/068/time02/068_segmentations/lesion_011_reg.nii.gz\n",
      "Calculating CoLlAGe for label: lesion\n",
      "Calculating CoLlAGe for \"n\"  angular bins: 16\n"
     ]
    },
    {
     "name": "stderr",
     "output_type": "stream",
     "text": [
      "2024-12-01 15:39:42,341 DEBUG execute  Image shape = (290, 200, 331)\n",
      "2024-12-01 15:39:42,341 DEBUG execute  Mask size = 9x7x4\n",
      "2024-12-01 15:39:42,342 DEBUG execute  Image shape (cropped and padded) = (19, 17, 6)\n",
      "2024-12-01 15:39:42,343 DEBUG execute  Note: Dividing image values by 7275.2275390625 to convert to 0-1 range\n",
      "2024-12-01 15:39:42,344 DEBUG execute  Calculating pixel gradients:\n",
      "2024-12-01 15:39:42,345 DEBUG execute  Calculating pixel gradients done.\n",
      "2024-12-01 15:39:42,346 DEBUG execute  Calculating dominant gradient angles using SVD for each image patch of size 5x5\n",
      "2024-12-01 15:39:42,346 INFO _svd_dominant_angles  Window patch shape for dominant angle calculation = (11, 11, 1)\n",
      "2024-12-01 15:39:42,390 DEBUG execute  Calculating dominant gradient angles done.\n",
      "2024-12-01 15:39:42,391 DEBUG execute  Dominant angles shape = (9, 7, 4, 2)\n",
      "2024-12-01 15:39:42,392 DEBUG execute  Calculating haralick features of angles:\n",
      "2024-12-01 15:39:42,393 INFO execute  Calculating features for angle 0:\n",
      "2024-12-01 15:39:42,394 DEBUG _calculate_haralick_textures  Rescaling dominant angles to 16 unique values.\n",
      "2024-12-01 15:39:42,394 DEBUG _calculate_haralick_textures  Rescaling dominant angles done.\n",
      "2024-12-01 15:39:42,395 DEBUG _calculate_haralick_textures  dominant_angles_binned shape is (9, 7, 4) mask shape is (9, 7, 4)\n",
      "2024-12-01 15:39:42,417 INFO execute  Calculating features for angle 0 done.\n",
      "2024-12-01 15:39:42,418 INFO execute  Calculating features for angle 1:\n",
      "2024-12-01 15:39:42,419 DEBUG _calculate_haralick_textures  Rescaling dominant angles to 16 unique values.\n",
      "2024-12-01 15:39:42,420 DEBUG _calculate_haralick_textures  Rescaling dominant angles done.\n",
      "2024-12-01 15:39:42,421 DEBUG _calculate_haralick_textures  dominant_angles_binned shape is (9, 7, 4) mask shape is (9, 7, 4)\n",
      "2024-12-01 15:39:42,437 INFO execute  Calculating features for angle 1 done.\n",
      "2024-12-01 15:39:42,438 DEBUG execute  Calculating haralick features of angles done.\n",
      "2024-12-01 15:39:43,828 DEBUG execute  Output shape = (290, 200, 331, 13, 2)\n",
      "2024-12-01 15:39:43,840 DEBUG _calculate_haralick_textures  Rescaling dominant angles to 16 unique values.\n",
      "2024-12-01 15:39:43,841 DEBUG _calculate_haralick_textures  Rescaling dominant angles done.\n",
      "2024-12-01 15:39:43,842 DEBUG _calculate_haralick_textures  dominant_angles_binned shape is (9, 7, 4) mask shape is (9, 7, 4)\n",
      "2024-12-01 15:39:43,881 DEBUG _calculate_haralick_textures  Rescaling dominant angles to 16 unique values.\n",
      "2024-12-01 15:39:43,881 DEBUG _calculate_haralick_textures  Rescaling dominant angles done.\n",
      "2024-12-01 15:39:43,882 DEBUG _calculate_haralick_textures  dominant_angles_binned shape is (9, 7, 4) mask shape is (9, 7, 4)\n"
     ]
    },
    {
     "name": "stdout",
     "output_type": "stream",
     "text": [
      "angle_output2.shape .... (9, 7, 4, 13, 2)\n",
      "dom_angle.shape .... (9, 7, 4)\n",
      "angle_output.shape .... (9, 7, 4, 13)\n",
      "-----------------------------------------------\n",
      "dom_angle.shape .... (9, 7, 4)\n",
      "angle_output.shape .... (9, 7, 4, 13)\n",
      "-----------------------------------------------\n",
      "Temp CoLlAGe feature array saved.\n",
      "\n"
     ]
    },
    {
     "name": "stderr",
     "output_type": "stream",
     "text": [
      "2024-12-01 15:39:44,043 DEBUG _get_ticker_locator_formatter  locator: <matplotlib.ticker.AutoLocator object at 0x7f13fb089f90>\n",
      "2024-12-01 15:39:45,010 DEBUG __init__  Collage Module Initialized\n",
      "2024-12-01 15:39:45,012 DEBUG __init__  Running 3D Collage = True\n"
     ]
    },
    {
     "name": "stdout",
     "output_type": "stream",
     "text": [
      "output_name folder ....  /app/Data/_Brain/Radiology/_Adult/_MS/MSSEG2/Feature_extraction/Radiomics_features/068/time02/lesion_011_reg/collage\n",
      "tmp_name stats .npy ....... /app/Data/_Brain/Radiology/_Adult/_MS/MSSEG2/Feature_extraction/Radiomics_features/068/time02/lesion_011_reg/collage/FLAIR_068_5_32_lesion_SkullS_BiasCorrect_rz_IntStnd.npy\n",
      "tmp_name angles output .npy ....... /app/Data/_Brain/Radiology/_Adult/_MS/MSSEG2/Feature_extraction/Radiomics_features/068/time02/lesion_011_reg/collage/FLAIR_068_5_32_lesion_SkullS_BiasCorrect_rz_IntStnd_angle_output.npy\n",
      "Calculating CoLlAGe for mask: /app/Data/_Brain/Radiology/_Adult/_MS/MSSEG2/preprocessed_cimalab/068/time02/068_segmentations/lesion_011_reg.nii.gz\n",
      "Calculating CoLlAGe for label: lesion\n",
      "Calculating CoLlAGe for \"n\"  angular bins: 32\n"
     ]
    },
    {
     "name": "stderr",
     "output_type": "stream",
     "text": [
      "2024-12-01 15:39:45,872 DEBUG execute  Image shape = (290, 200, 331)\n",
      "2024-12-01 15:39:45,873 DEBUG execute  Mask size = 9x7x4\n",
      "2024-12-01 15:39:45,874 DEBUG execute  Image shape (cropped and padded) = (19, 17, 6)\n",
      "2024-12-01 15:39:45,875 DEBUG execute  Note: Dividing image values by 7275.2275390625 to convert to 0-1 range\n",
      "2024-12-01 15:39:45,876 DEBUG execute  Calculating pixel gradients:\n",
      "2024-12-01 15:39:45,877 DEBUG execute  Calculating pixel gradients done.\n",
      "2024-12-01 15:39:45,878 DEBUG execute  Calculating dominant gradient angles using SVD for each image patch of size 5x5\n",
      "2024-12-01 15:39:45,879 INFO _svd_dominant_angles  Window patch shape for dominant angle calculation = (11, 11, 1)\n",
      "2024-12-01 15:39:45,951 DEBUG execute  Calculating dominant gradient angles done.\n",
      "2024-12-01 15:39:45,952 DEBUG execute  Dominant angles shape = (9, 7, 4, 2)\n",
      "2024-12-01 15:39:45,953 DEBUG execute  Calculating haralick features of angles:\n",
      "2024-12-01 15:39:45,954 INFO execute  Calculating features for angle 0:\n",
      "2024-12-01 15:39:45,955 DEBUG _calculate_haralick_textures  Rescaling dominant angles to 32 unique values.\n",
      "2024-12-01 15:39:45,956 DEBUG _calculate_haralick_textures  Rescaling dominant angles done.\n",
      "2024-12-01 15:39:45,957 DEBUG _calculate_haralick_textures  dominant_angles_binned shape is (9, 7, 4) mask shape is (9, 7, 4)\n",
      "2024-12-01 15:39:46,037 INFO execute  Calculating features for angle 0 done.\n",
      "2024-12-01 15:39:46,038 INFO execute  Calculating features for angle 1:\n",
      "2024-12-01 15:39:46,039 DEBUG _calculate_haralick_textures  Rescaling dominant angles to 32 unique values.\n",
      "2024-12-01 15:39:46,040 DEBUG _calculate_haralick_textures  Rescaling dominant angles done.\n",
      "2024-12-01 15:39:46,040 DEBUG _calculate_haralick_textures  dominant_angles_binned shape is (9, 7, 4) mask shape is (9, 7, 4)\n",
      "2024-12-01 15:39:46,109 INFO execute  Calculating features for angle 1 done.\n",
      "2024-12-01 15:39:46,110 DEBUG execute  Calculating haralick features of angles done.\n",
      "2024-12-01 15:39:47,461 DEBUG execute  Output shape = (290, 200, 331, 13, 2)\n",
      "2024-12-01 15:39:47,474 DEBUG _calculate_haralick_textures  Rescaling dominant angles to 32 unique values.\n",
      "2024-12-01 15:39:47,475 DEBUG _calculate_haralick_textures  Rescaling dominant angles done.\n",
      "2024-12-01 15:39:47,476 DEBUG _calculate_haralick_textures  dominant_angles_binned shape is (9, 7, 4) mask shape is (9, 7, 4)\n",
      "2024-12-01 15:39:47,519 DEBUG _calculate_haralick_textures  Rescaling dominant angles to 32 unique values.\n",
      "2024-12-01 15:39:47,520 DEBUG _calculate_haralick_textures  Rescaling dominant angles done.\n",
      "2024-12-01 15:39:47,521 DEBUG _calculate_haralick_textures  dominant_angles_binned shape is (9, 7, 4) mask shape is (9, 7, 4)\n"
     ]
    },
    {
     "name": "stdout",
     "output_type": "stream",
     "text": [
      "angle_output2.shape .... (9, 7, 4, 13, 2)\n",
      "dom_angle.shape .... (9, 7, 4)\n",
      "angle_output.shape .... (9, 7, 4, 13)\n",
      "-----------------------------------------------\n",
      "dom_angle.shape .... (9, 7, 4)\n",
      "angle_output.shape .... (9, 7, 4, 13)\n",
      "-----------------------------------------------\n",
      "Temp CoLlAGe feature array saved.\n",
      "\n"
     ]
    },
    {
     "name": "stderr",
     "output_type": "stream",
     "text": [
      "2024-12-01 15:39:47,717 DEBUG _get_ticker_locator_formatter  locator: <matplotlib.ticker.AutoLocator object at 0x7f13fb85ed10>\n",
      "2024-12-01 15:39:48,836 DEBUG __init__  Collage Module Initialized\n",
      "2024-12-01 15:39:48,838 DEBUG __init__  Running 3D Collage = True\n"
     ]
    },
    {
     "name": "stdout",
     "output_type": "stream",
     "text": [
      "output_name folder ....  /app/Data/_Brain/Radiology/_Adult/_MS/MSSEG2/Feature_extraction/Radiomics_features/068/time02/lesion_011_reg/collage\n",
      "tmp_name stats .npy ....... /app/Data/_Brain/Radiology/_Adult/_MS/MSSEG2/Feature_extraction/Radiomics_features/068/time02/lesion_011_reg/collage/FLAIR_068_5_64_lesion_SkullS_BiasCorrect_rz_IntStnd.npy\n",
      "tmp_name angles output .npy ....... /app/Data/_Brain/Radiology/_Adult/_MS/MSSEG2/Feature_extraction/Radiomics_features/068/time02/lesion_011_reg/collage/FLAIR_068_5_64_lesion_SkullS_BiasCorrect_rz_IntStnd_angle_output.npy\n",
      "Calculating CoLlAGe for mask: /app/Data/_Brain/Radiology/_Adult/_MS/MSSEG2/preprocessed_cimalab/068/time02/068_segmentations/lesion_011_reg.nii.gz\n",
      "Calculating CoLlAGe for label: lesion\n",
      "Calculating CoLlAGe for \"n\"  angular bins: 64\n"
     ]
    },
    {
     "name": "stderr",
     "output_type": "stream",
     "text": [
      "2024-12-01 15:39:49,464 DEBUG execute  Image shape = (290, 200, 331)\n",
      "2024-12-01 15:39:49,465 DEBUG execute  Mask size = 9x7x4\n",
      "2024-12-01 15:39:49,466 DEBUG execute  Image shape (cropped and padded) = (19, 17, 6)\n",
      "2024-12-01 15:39:49,467 DEBUG execute  Note: Dividing image values by 7275.2275390625 to convert to 0-1 range\n",
      "2024-12-01 15:39:49,467 DEBUG execute  Calculating pixel gradients:\n",
      "2024-12-01 15:39:49,469 DEBUG execute  Calculating pixel gradients done.\n",
      "2024-12-01 15:39:49,470 DEBUG execute  Calculating dominant gradient angles using SVD for each image patch of size 5x5\n",
      "2024-12-01 15:39:49,470 INFO _svd_dominant_angles  Window patch shape for dominant angle calculation = (11, 11, 1)\n",
      "2024-12-01 15:39:49,546 DEBUG execute  Calculating dominant gradient angles done.\n",
      "2024-12-01 15:39:49,547 DEBUG execute  Dominant angles shape = (9, 7, 4, 2)\n",
      "2024-12-01 15:39:49,548 DEBUG execute  Calculating haralick features of angles:\n",
      "2024-12-01 15:39:49,549 INFO execute  Calculating features for angle 0:\n",
      "2024-12-01 15:39:49,550 DEBUG _calculate_haralick_textures  Rescaling dominant angles to 64 unique values.\n",
      "2024-12-01 15:39:49,551 DEBUG _calculate_haralick_textures  Rescaling dominant angles done.\n",
      "2024-12-01 15:39:49,552 DEBUG _calculate_haralick_textures  dominant_angles_binned shape is (9, 7, 4) mask shape is (9, 7, 4)\n",
      "2024-12-01 15:39:49,622 INFO execute  Calculating features for angle 0 done.\n",
      "2024-12-01 15:39:49,623 INFO execute  Calculating features for angle 1:\n",
      "2024-12-01 15:39:49,624 DEBUG _calculate_haralick_textures  Rescaling dominant angles to 64 unique values.\n",
      "2024-12-01 15:39:49,625 DEBUG _calculate_haralick_textures  Rescaling dominant angles done.\n",
      "2024-12-01 15:39:49,627 DEBUG _calculate_haralick_textures  dominant_angles_binned shape is (9, 7, 4) mask shape is (9, 7, 4)\n",
      "2024-12-01 15:39:49,655 INFO execute  Calculating features for angle 1 done.\n",
      "2024-12-01 15:39:49,656 DEBUG execute  Calculating haralick features of angles done.\n",
      "2024-12-01 15:39:51,021 DEBUG execute  Output shape = (290, 200, 331, 13, 2)\n",
      "2024-12-01 15:39:51,034 DEBUG _calculate_haralick_textures  Rescaling dominant angles to 64 unique values.\n",
      "2024-12-01 15:39:51,036 DEBUG _calculate_haralick_textures  Rescaling dominant angles done.\n",
      "2024-12-01 15:39:51,037 DEBUG _calculate_haralick_textures  dominant_angles_binned shape is (9, 7, 4) mask shape is (9, 7, 4)\n",
      "2024-12-01 15:39:51,088 DEBUG _calculate_haralick_textures  Rescaling dominant angles to 64 unique values.\n",
      "2024-12-01 15:39:51,089 DEBUG _calculate_haralick_textures  Rescaling dominant angles done.\n",
      "2024-12-01 15:39:51,089 DEBUG _calculate_haralick_textures  dominant_angles_binned shape is (9, 7, 4) mask shape is (9, 7, 4)\n"
     ]
    },
    {
     "name": "stdout",
     "output_type": "stream",
     "text": [
      "angle_output2.shape .... (9, 7, 4, 13, 2)\n",
      "dom_angle.shape .... (9, 7, 4)\n",
      "angle_output.shape .... (9, 7, 4, 13)\n",
      "-----------------------------------------------\n",
      "dom_angle.shape .... (9, 7, 4)\n",
      "angle_output.shape .... (9, 7, 4, 13)\n",
      "-----------------------------------------------\n",
      "Temp CoLlAGe feature array saved.\n",
      "\n"
     ]
    },
    {
     "name": "stderr",
     "output_type": "stream",
     "text": [
      "2024-12-01 15:39:51,277 DEBUG _get_ticker_locator_formatter  locator: <matplotlib.ticker.AutoLocator object at 0x7f13fb97eec0>\n"
     ]
    },
    {
     "name": "stdout",
     "output_type": "stream",
     "text": [
      "lesion_id.... lesion_012_reg\n"
     ]
    },
    {
     "name": "stderr",
     "output_type": "stream",
     "text": [
      "2024-12-01 15:39:53,376 DEBUG __init__  Collage Module Initialized\n",
      "2024-12-01 15:39:53,377 DEBUG __init__  Running 3D Collage = True\n"
     ]
    },
    {
     "name": "stdout",
     "output_type": "stream",
     "text": [
      "label_vol . .....  280\n",
      "output_name folder ....  /app/Data/_Brain/Radiology/_Adult/_MS/MSSEG2/Feature_extraction/Radiomics_features/068/time02/lesion_012_reg/collage\n",
      "tmp_name stats .npy ....... /app/Data/_Brain/Radiology/_Adult/_MS/MSSEG2/Feature_extraction/Radiomics_features/068/time02/lesion_012_reg/collage/FLAIR_068_3_4_lesion_SkullS_BiasCorrect_rz_IntStnd.npy\n",
      "tmp_name angles output .npy ....... /app/Data/_Brain/Radiology/_Adult/_MS/MSSEG2/Feature_extraction/Radiomics_features/068/time02/lesion_012_reg/collage/FLAIR_068_3_4_lesion_SkullS_BiasCorrect_rz_IntStnd_angle_output.npy\n",
      "Calculating CoLlAGe for mask: /app/Data/_Brain/Radiology/_Adult/_MS/MSSEG2/preprocessed_cimalab/068/time02/068_segmentations/lesion_012_reg.nii.gz\n",
      "Calculating CoLlAGe for label: lesion\n",
      "Calculating CoLlAGe for \"n\"  angular bins: 4\n"
     ]
    },
    {
     "name": "stderr",
     "output_type": "stream",
     "text": [
      "2024-12-01 15:39:54,038 DEBUG execute  Image shape = (290, 200, 331)\n",
      "2024-12-01 15:39:54,039 DEBUG execute  Mask size = 15x8x7\n",
      "2024-12-01 15:39:54,040 DEBUG execute  Image shape (cropped and padded) = (21, 14, 9)\n",
      "2024-12-01 15:39:54,041 DEBUG execute  Note: Dividing image values by 7177.87353515625 to convert to 0-1 range\n",
      "2024-12-01 15:39:54,042 DEBUG execute  Calculating pixel gradients:\n",
      "2024-12-01 15:39:54,045 DEBUG execute  Calculating pixel gradients done.\n",
      "2024-12-01 15:39:54,046 DEBUG execute  Calculating dominant gradient angles using SVD for each image patch of size 3x3\n",
      "2024-12-01 15:39:54,047 INFO _svd_dominant_angles  Window patch shape for dominant angle calculation = (7, 7, 1)\n",
      "2024-12-01 15:39:54,123 DEBUG execute  Calculating dominant gradient angles done.\n",
      "2024-12-01 15:39:54,126 DEBUG execute  Dominant angles shape = (15, 8, 7, 2)\n",
      "2024-12-01 15:39:54,127 DEBUG execute  Calculating haralick features of angles:\n",
      "2024-12-01 15:39:54,128 INFO execute  Calculating features for angle 0:\n",
      "2024-12-01 15:39:54,129 DEBUG _calculate_haralick_textures  Rescaling dominant angles to 4 unique values.\n",
      "2024-12-01 15:39:54,130 DEBUG _calculate_haralick_textures  Rescaling dominant angles done.\n",
      "2024-12-01 15:39:54,131 DEBUG _calculate_haralick_textures  dominant_angles_binned shape is (15, 8, 7) mask shape is (15, 8, 7)\n",
      "2024-12-01 15:39:54,243 INFO execute  Calculating features for angle 0 done.\n",
      "2024-12-01 15:39:54,244 INFO execute  Calculating features for angle 1:\n",
      "2024-12-01 15:39:54,244 DEBUG _calculate_haralick_textures  Rescaling dominant angles to 4 unique values.\n",
      "2024-12-01 15:39:54,245 DEBUG _calculate_haralick_textures  Rescaling dominant angles done.\n",
      "2024-12-01 15:39:54,246 DEBUG _calculate_haralick_textures  dominant_angles_binned shape is (15, 8, 7) mask shape is (15, 8, 7)\n",
      "2024-12-01 15:39:54,351 INFO execute  Calculating features for angle 1 done.\n",
      "2024-12-01 15:39:54,352 DEBUG execute  Calculating haralick features of angles done.\n",
      "2024-12-01 15:39:55,691 DEBUG execute  Output shape = (290, 200, 331, 13, 2)\n",
      "2024-12-01 15:39:55,703 DEBUG _calculate_haralick_textures  Rescaling dominant angles to 4 unique values.\n",
      "2024-12-01 15:39:55,704 DEBUG _calculate_haralick_textures  Rescaling dominant angles done.\n",
      "2024-12-01 15:39:55,704 DEBUG _calculate_haralick_textures  dominant_angles_binned shape is (15, 8, 7) mask shape is (15, 8, 7)\n",
      "2024-12-01 15:39:55,840 DEBUG _calculate_haralick_textures  Rescaling dominant angles to 4 unique values.\n",
      "2024-12-01 15:39:55,841 DEBUG _calculate_haralick_textures  Rescaling dominant angles done.\n",
      "2024-12-01 15:39:55,842 DEBUG _calculate_haralick_textures  dominant_angles_binned shape is (15, 8, 7) mask shape is (15, 8, 7)\n"
     ]
    },
    {
     "name": "stdout",
     "output_type": "stream",
     "text": [
      "angle_output2.shape .... (15, 8, 7, 13, 2)\n",
      "dom_angle.shape .... (15, 8, 7)\n",
      "angle_output.shape .... (15, 8, 7, 13)\n",
      "-----------------------------------------------\n",
      "dom_angle.shape .... (15, 8, 7)\n"
     ]
    },
    {
     "name": "stderr",
     "output_type": "stream",
     "text": [
      "2024-12-01 15:39:56,134 DEBUG _get_ticker_locator_formatter  locator: <matplotlib.ticker.AutoLocator object at 0x7f13fbb99450>\n"
     ]
    },
    {
     "name": "stdout",
     "output_type": "stream",
     "text": [
      "angle_output.shape .... (15, 8, 7, 13)\n",
      "-----------------------------------------------\n",
      "Temp CoLlAGe feature array saved.\n",
      "\n"
     ]
    },
    {
     "name": "stderr",
     "output_type": "stream",
     "text": [
      "2024-12-01 15:39:57,131 DEBUG __init__  Collage Module Initialized\n",
      "2024-12-01 15:39:57,132 DEBUG __init__  Running 3D Collage = True\n"
     ]
    },
    {
     "name": "stdout",
     "output_type": "stream",
     "text": [
      "output_name folder ....  /app/Data/_Brain/Radiology/_Adult/_MS/MSSEG2/Feature_extraction/Radiomics_features/068/time02/lesion_012_reg/collage\n",
      "tmp_name stats .npy ....... /app/Data/_Brain/Radiology/_Adult/_MS/MSSEG2/Feature_extraction/Radiomics_features/068/time02/lesion_012_reg/collage/FLAIR_068_3_8_lesion_SkullS_BiasCorrect_rz_IntStnd.npy\n",
      "tmp_name angles output .npy ....... /app/Data/_Brain/Radiology/_Adult/_MS/MSSEG2/Feature_extraction/Radiomics_features/068/time02/lesion_012_reg/collage/FLAIR_068_3_8_lesion_SkullS_BiasCorrect_rz_IntStnd_angle_output.npy\n",
      "Calculating CoLlAGe for mask: /app/Data/_Brain/Radiology/_Adult/_MS/MSSEG2/preprocessed_cimalab/068/time02/068_segmentations/lesion_012_reg.nii.gz\n",
      "Calculating CoLlAGe for label: lesion\n",
      "Calculating CoLlAGe for \"n\"  angular bins: 8\n"
     ]
    },
    {
     "name": "stderr",
     "output_type": "stream",
     "text": [
      "2024-12-01 15:39:57,818 DEBUG execute  Image shape = (290, 200, 331)\n",
      "2024-12-01 15:39:57,819 DEBUG execute  Mask size = 15x8x7\n",
      "2024-12-01 15:39:57,820 DEBUG execute  Image shape (cropped and padded) = (21, 14, 9)\n",
      "2024-12-01 15:39:57,821 DEBUG execute  Note: Dividing image values by 7177.87353515625 to convert to 0-1 range\n",
      "2024-12-01 15:39:57,821 DEBUG execute  Calculating pixel gradients:\n",
      "2024-12-01 15:39:57,823 DEBUG execute  Calculating pixel gradients done.\n",
      "2024-12-01 15:39:57,823 DEBUG execute  Calculating dominant gradient angles using SVD for each image patch of size 3x3\n",
      "2024-12-01 15:39:57,824 INFO _svd_dominant_angles  Window patch shape for dominant angle calculation = (7, 7, 1)\n",
      "2024-12-01 15:39:57,895 DEBUG execute  Calculating dominant gradient angles done.\n",
      "2024-12-01 15:39:57,896 DEBUG execute  Dominant angles shape = (15, 8, 7, 2)\n",
      "2024-12-01 15:39:57,896 DEBUG execute  Calculating haralick features of angles:\n",
      "2024-12-01 15:39:57,897 INFO execute  Calculating features for angle 0:\n",
      "2024-12-01 15:39:57,898 DEBUG _calculate_haralick_textures  Rescaling dominant angles to 8 unique values.\n",
      "2024-12-01 15:39:57,899 DEBUG _calculate_haralick_textures  Rescaling dominant angles done.\n",
      "2024-12-01 15:39:57,899 DEBUG _calculate_haralick_textures  dominant_angles_binned shape is (15, 8, 7) mask shape is (15, 8, 7)\n",
      "2024-12-01 15:39:58,010 INFO execute  Calculating features for angle 0 done.\n",
      "2024-12-01 15:39:58,011 INFO execute  Calculating features for angle 1:\n",
      "2024-12-01 15:39:58,012 DEBUG _calculate_haralick_textures  Rescaling dominant angles to 8 unique values.\n",
      "2024-12-01 15:39:58,013 DEBUG _calculate_haralick_textures  Rescaling dominant angles done.\n",
      "2024-12-01 15:39:58,014 DEBUG _calculate_haralick_textures  dominant_angles_binned shape is (15, 8, 7) mask shape is (15, 8, 7)\n",
      "2024-12-01 15:39:58,123 INFO execute  Calculating features for angle 1 done.\n",
      "2024-12-01 15:39:58,124 DEBUG execute  Calculating haralick features of angles done.\n",
      "2024-12-01 15:39:59,442 DEBUG execute  Output shape = (290, 200, 331, 13, 2)\n",
      "2024-12-01 15:39:59,454 DEBUG _calculate_haralick_textures  Rescaling dominant angles to 8 unique values.\n",
      "2024-12-01 15:39:59,455 DEBUG _calculate_haralick_textures  Rescaling dominant angles done.\n",
      "2024-12-01 15:39:59,456 DEBUG _calculate_haralick_textures  dominant_angles_binned shape is (15, 8, 7) mask shape is (15, 8, 7)\n",
      "2024-12-01 15:39:59,585 DEBUG _calculate_haralick_textures  Rescaling dominant angles to 8 unique values.\n",
      "2024-12-01 15:39:59,587 DEBUG _calculate_haralick_textures  Rescaling dominant angles done.\n",
      "2024-12-01 15:39:59,588 DEBUG _calculate_haralick_textures  dominant_angles_binned shape is (15, 8, 7) mask shape is (15, 8, 7)\n"
     ]
    },
    {
     "name": "stdout",
     "output_type": "stream",
     "text": [
      "angle_output2.shape .... (15, 8, 7, 13, 2)\n",
      "dom_angle.shape .... (15, 8, 7)\n",
      "angle_output.shape .... (15, 8, 7, 13)\n",
      "-----------------------------------------------\n",
      "dom_angle.shape .... (15, 8, 7)\n"
     ]
    },
    {
     "name": "stderr",
     "output_type": "stream",
     "text": [
      "2024-12-01 15:39:59,886 DEBUG _get_ticker_locator_formatter  locator: <matplotlib.ticker.AutoLocator object at 0x7f13fc189090>\n"
     ]
    },
    {
     "name": "stdout",
     "output_type": "stream",
     "text": [
      "angle_output.shape .... (15, 8, 7, 13)\n",
      "-----------------------------------------------\n",
      "Temp CoLlAGe feature array saved.\n",
      "\n"
     ]
    },
    {
     "name": "stderr",
     "output_type": "stream",
     "text": [
      "2024-12-01 15:40:00,835 DEBUG __init__  Collage Module Initialized\n",
      "2024-12-01 15:40:00,835 DEBUG __init__  Running 3D Collage = True\n"
     ]
    },
    {
     "name": "stdout",
     "output_type": "stream",
     "text": [
      "output_name folder ....  /app/Data/_Brain/Radiology/_Adult/_MS/MSSEG2/Feature_extraction/Radiomics_features/068/time02/lesion_012_reg/collage\n",
      "tmp_name stats .npy ....... /app/Data/_Brain/Radiology/_Adult/_MS/MSSEG2/Feature_extraction/Radiomics_features/068/time02/lesion_012_reg/collage/FLAIR_068_3_16_lesion_SkullS_BiasCorrect_rz_IntStnd.npy\n",
      "tmp_name angles output .npy ....... /app/Data/_Brain/Radiology/_Adult/_MS/MSSEG2/Feature_extraction/Radiomics_features/068/time02/lesion_012_reg/collage/FLAIR_068_3_16_lesion_SkullS_BiasCorrect_rz_IntStnd_angle_output.npy\n",
      "Calculating CoLlAGe for mask: /app/Data/_Brain/Radiology/_Adult/_MS/MSSEG2/preprocessed_cimalab/068/time02/068_segmentations/lesion_012_reg.nii.gz\n",
      "Calculating CoLlAGe for label: lesion\n",
      "Calculating CoLlAGe for \"n\"  angular bins: 16\n"
     ]
    },
    {
     "name": "stderr",
     "output_type": "stream",
     "text": [
      "2024-12-01 15:40:01,493 DEBUG execute  Image shape = (290, 200, 331)\n",
      "2024-12-01 15:40:01,494 DEBUG execute  Mask size = 15x8x7\n",
      "2024-12-01 15:40:01,495 DEBUG execute  Image shape (cropped and padded) = (21, 14, 9)\n",
      "2024-12-01 15:40:01,496 DEBUG execute  Note: Dividing image values by 7177.87353515625 to convert to 0-1 range\n",
      "2024-12-01 15:40:01,496 DEBUG execute  Calculating pixel gradients:\n",
      "2024-12-01 15:40:01,498 DEBUG execute  Calculating pixel gradients done.\n",
      "2024-12-01 15:40:01,499 DEBUG execute  Calculating dominant gradient angles using SVD for each image patch of size 3x3\n",
      "2024-12-01 15:40:01,499 INFO _svd_dominant_angles  Window patch shape for dominant angle calculation = (7, 7, 1)\n",
      "2024-12-01 15:40:01,598 DEBUG execute  Calculating dominant gradient angles done.\n",
      "2024-12-01 15:40:01,599 DEBUG execute  Dominant angles shape = (15, 8, 7, 2)\n",
      "2024-12-01 15:40:01,599 DEBUG execute  Calculating haralick features of angles:\n",
      "2024-12-01 15:40:01,600 INFO execute  Calculating features for angle 0:\n",
      "2024-12-01 15:40:01,600 DEBUG _calculate_haralick_textures  Rescaling dominant angles to 16 unique values.\n",
      "2024-12-01 15:40:01,602 DEBUG _calculate_haralick_textures  Rescaling dominant angles done.\n",
      "2024-12-01 15:40:01,602 DEBUG _calculate_haralick_textures  dominant_angles_binned shape is (15, 8, 7) mask shape is (15, 8, 7)\n",
      "2024-12-01 15:40:01,751 INFO execute  Calculating features for angle 0 done.\n",
      "2024-12-01 15:40:01,752 INFO execute  Calculating features for angle 1:\n",
      "2024-12-01 15:40:01,752 DEBUG _calculate_haralick_textures  Rescaling dominant angles to 16 unique values.\n",
      "2024-12-01 15:40:01,754 DEBUG _calculate_haralick_textures  Rescaling dominant angles done.\n",
      "2024-12-01 15:40:01,754 DEBUG _calculate_haralick_textures  dominant_angles_binned shape is (15, 8, 7) mask shape is (15, 8, 7)\n",
      "2024-12-01 15:40:01,876 INFO execute  Calculating features for angle 1 done.\n",
      "2024-12-01 15:40:01,877 DEBUG execute  Calculating haralick features of angles done.\n",
      "2024-12-01 15:40:03,232 DEBUG execute  Output shape = (290, 200, 331, 13, 2)\n",
      "2024-12-01 15:40:03,246 DEBUG _calculate_haralick_textures  Rescaling dominant angles to 16 unique values.\n",
      "2024-12-01 15:40:03,248 DEBUG _calculate_haralick_textures  Rescaling dominant angles done.\n",
      "2024-12-01 15:40:03,249 DEBUG _calculate_haralick_textures  dominant_angles_binned shape is (15, 8, 7) mask shape is (15, 8, 7)\n",
      "2024-12-01 15:40:03,403 DEBUG _calculate_haralick_textures  Rescaling dominant angles to 16 unique values.\n",
      "2024-12-01 15:40:03,404 DEBUG _calculate_haralick_textures  Rescaling dominant angles done.\n",
      "2024-12-01 15:40:03,405 DEBUG _calculate_haralick_textures  dominant_angles_binned shape is (15, 8, 7) mask shape is (15, 8, 7)\n"
     ]
    },
    {
     "name": "stdout",
     "output_type": "stream",
     "text": [
      "angle_output2.shape .... (15, 8, 7, 13, 2)\n",
      "dom_angle.shape .... (15, 8, 7)\n",
      "angle_output.shape .... (15, 8, 7, 13)\n",
      "-----------------------------------------------\n",
      "dom_angle.shape .... (15, 8, 7)\n"
     ]
    },
    {
     "name": "stderr",
     "output_type": "stream",
     "text": [
      "2024-12-01 15:40:03,683 DEBUG _get_ticker_locator_formatter  locator: <matplotlib.ticker.AutoLocator object at 0x7f13fc9f2bc0>\n"
     ]
    },
    {
     "name": "stdout",
     "output_type": "stream",
     "text": [
      "angle_output.shape .... (15, 8, 7, 13)\n",
      "-----------------------------------------------\n",
      "Temp CoLlAGe feature array saved.\n",
      "\n"
     ]
    },
    {
     "name": "stderr",
     "output_type": "stream",
     "text": [
      "2024-12-01 15:40:04,693 DEBUG __init__  Collage Module Initialized\n",
      "2024-12-01 15:40:04,694 DEBUG __init__  Running 3D Collage = True\n"
     ]
    },
    {
     "name": "stdout",
     "output_type": "stream",
     "text": [
      "output_name folder ....  /app/Data/_Brain/Radiology/_Adult/_MS/MSSEG2/Feature_extraction/Radiomics_features/068/time02/lesion_012_reg/collage\n",
      "tmp_name stats .npy ....... /app/Data/_Brain/Radiology/_Adult/_MS/MSSEG2/Feature_extraction/Radiomics_features/068/time02/lesion_012_reg/collage/FLAIR_068_3_32_lesion_SkullS_BiasCorrect_rz_IntStnd.npy\n",
      "tmp_name angles output .npy ....... /app/Data/_Brain/Radiology/_Adult/_MS/MSSEG2/Feature_extraction/Radiomics_features/068/time02/lesion_012_reg/collage/FLAIR_068_3_32_lesion_SkullS_BiasCorrect_rz_IntStnd_angle_output.npy\n",
      "Calculating CoLlAGe for mask: /app/Data/_Brain/Radiology/_Adult/_MS/MSSEG2/preprocessed_cimalab/068/time02/068_segmentations/lesion_012_reg.nii.gz\n",
      "Calculating CoLlAGe for label: lesion\n",
      "Calculating CoLlAGe for \"n\"  angular bins: 32\n"
     ]
    },
    {
     "name": "stderr",
     "output_type": "stream",
     "text": [
      "2024-12-01 15:40:05,317 DEBUG execute  Image shape = (290, 200, 331)\n",
      "2024-12-01 15:40:05,319 DEBUG execute  Mask size = 15x8x7\n",
      "2024-12-01 15:40:05,320 DEBUG execute  Image shape (cropped and padded) = (21, 14, 9)\n",
      "2024-12-01 15:40:05,321 DEBUG execute  Note: Dividing image values by 7177.87353515625 to convert to 0-1 range\n",
      "2024-12-01 15:40:05,322 DEBUG execute  Calculating pixel gradients:\n",
      "2024-12-01 15:40:05,324 DEBUG execute  Calculating pixel gradients done.\n",
      "2024-12-01 15:40:05,325 DEBUG execute  Calculating dominant gradient angles using SVD for each image patch of size 3x3\n",
      "2024-12-01 15:40:05,326 INFO _svd_dominant_angles  Window patch shape for dominant angle calculation = (7, 7, 1)\n",
      "2024-12-01 15:40:05,406 DEBUG execute  Calculating dominant gradient angles done.\n",
      "2024-12-01 15:40:05,408 DEBUG execute  Dominant angles shape = (15, 8, 7, 2)\n",
      "2024-12-01 15:40:05,409 DEBUG execute  Calculating haralick features of angles:\n",
      "2024-12-01 15:40:05,409 INFO execute  Calculating features for angle 0:\n",
      "2024-12-01 15:40:05,410 DEBUG _calculate_haralick_textures  Rescaling dominant angles to 32 unique values.\n",
      "2024-12-01 15:40:05,411 DEBUG _calculate_haralick_textures  Rescaling dominant angles done.\n",
      "2024-12-01 15:40:05,412 DEBUG _calculate_haralick_textures  dominant_angles_binned shape is (15, 8, 7) mask shape is (15, 8, 7)\n",
      "2024-12-01 15:40:05,606 INFO execute  Calculating features for angle 0 done.\n",
      "2024-12-01 15:40:05,607 INFO execute  Calculating features for angle 1:\n",
      "2024-12-01 15:40:05,608 DEBUG _calculate_haralick_textures  Rescaling dominant angles to 32 unique values.\n",
      "2024-12-01 15:40:05,609 DEBUG _calculate_haralick_textures  Rescaling dominant angles done.\n",
      "2024-12-01 15:40:05,611 DEBUG _calculate_haralick_textures  dominant_angles_binned shape is (15, 8, 7) mask shape is (15, 8, 7)\n",
      "2024-12-01 15:40:05,797 INFO execute  Calculating features for angle 1 done.\n",
      "2024-12-01 15:40:05,798 DEBUG execute  Calculating haralick features of angles done.\n",
      "2024-12-01 15:40:07,162 DEBUG execute  Output shape = (290, 200, 331, 13, 2)\n",
      "2024-12-01 15:40:07,176 DEBUG _calculate_haralick_textures  Rescaling dominant angles to 32 unique values.\n",
      "2024-12-01 15:40:07,177 DEBUG _calculate_haralick_textures  Rescaling dominant angles done.\n",
      "2024-12-01 15:40:07,178 DEBUG _calculate_haralick_textures  dominant_angles_binned shape is (15, 8, 7) mask shape is (15, 8, 7)\n",
      "2024-12-01 15:40:07,352 DEBUG _calculate_haralick_textures  Rescaling dominant angles to 32 unique values.\n",
      "2024-12-01 15:40:07,355 DEBUG _calculate_haralick_textures  Rescaling dominant angles done.\n",
      "2024-12-01 15:40:07,356 DEBUG _calculate_haralick_textures  dominant_angles_binned shape is (15, 8, 7) mask shape is (15, 8, 7)\n"
     ]
    },
    {
     "name": "stdout",
     "output_type": "stream",
     "text": [
      "angle_output2.shape .... (15, 8, 7, 13, 2)\n",
      "dom_angle.shape .... (15, 8, 7)\n",
      "angle_output.shape .... (15, 8, 7, 13)\n",
      "-----------------------------------------------\n",
      "dom_angle.shape .... (15, 8, 7)\n",
      "angle_output.shape .... (15, 8, 7, 13)\n",
      "-----------------------------------------------\n",
      "Temp CoLlAGe feature array saved.\n",
      "\n"
     ]
    },
    {
     "name": "stderr",
     "output_type": "stream",
     "text": [
      "2024-12-01 15:40:07,727 DEBUG _get_ticker_locator_formatter  locator: <matplotlib.ticker.AutoLocator object at 0x7f13fcbe27d0>\n",
      "2024-12-01 15:40:08,737 DEBUG __init__  Collage Module Initialized\n",
      "2024-12-01 15:40:08,738 DEBUG __init__  Running 3D Collage = True\n"
     ]
    },
    {
     "name": "stdout",
     "output_type": "stream",
     "text": [
      "output_name folder ....  /app/Data/_Brain/Radiology/_Adult/_MS/MSSEG2/Feature_extraction/Radiomics_features/068/time02/lesion_012_reg/collage\n",
      "tmp_name stats .npy ....... /app/Data/_Brain/Radiology/_Adult/_MS/MSSEG2/Feature_extraction/Radiomics_features/068/time02/lesion_012_reg/collage/FLAIR_068_3_64_lesion_SkullS_BiasCorrect_rz_IntStnd.npy\n",
      "tmp_name angles output .npy ....... /app/Data/_Brain/Radiology/_Adult/_MS/MSSEG2/Feature_extraction/Radiomics_features/068/time02/lesion_012_reg/collage/FLAIR_068_3_64_lesion_SkullS_BiasCorrect_rz_IntStnd_angle_output.npy\n",
      "Calculating CoLlAGe for mask: /app/Data/_Brain/Radiology/_Adult/_MS/MSSEG2/preprocessed_cimalab/068/time02/068_segmentations/lesion_012_reg.nii.gz\n",
      "Calculating CoLlAGe for label: lesion\n",
      "Calculating CoLlAGe for \"n\"  angular bins: 64\n"
     ]
    },
    {
     "name": "stderr",
     "output_type": "stream",
     "text": [
      "2024-12-01 15:40:09,377 DEBUG execute  Image shape = (290, 200, 331)\n",
      "2024-12-01 15:40:09,378 DEBUG execute  Mask size = 15x8x7\n",
      "2024-12-01 15:40:09,379 DEBUG execute  Image shape (cropped and padded) = (21, 14, 9)\n",
      "2024-12-01 15:40:09,379 DEBUG execute  Note: Dividing image values by 7177.87353515625 to convert to 0-1 range\n",
      "2024-12-01 15:40:09,380 DEBUG execute  Calculating pixel gradients:\n",
      "2024-12-01 15:40:09,382 DEBUG execute  Calculating pixel gradients done.\n",
      "2024-12-01 15:40:09,382 DEBUG execute  Calculating dominant gradient angles using SVD for each image patch of size 3x3\n",
      "2024-12-01 15:40:09,383 INFO _svd_dominant_angles  Window patch shape for dominant angle calculation = (7, 7, 1)\n",
      "2024-12-01 15:40:09,458 DEBUG execute  Calculating dominant gradient angles done.\n",
      "2024-12-01 15:40:09,460 DEBUG execute  Dominant angles shape = (15, 8, 7, 2)\n",
      "2024-12-01 15:40:09,461 DEBUG execute  Calculating haralick features of angles:\n",
      "2024-12-01 15:40:09,462 INFO execute  Calculating features for angle 0:\n",
      "2024-12-01 15:40:09,463 DEBUG _calculate_haralick_textures  Rescaling dominant angles to 64 unique values.\n",
      "2024-12-01 15:40:09,464 DEBUG _calculate_haralick_textures  Rescaling dominant angles done.\n",
      "2024-12-01 15:40:09,465 DEBUG _calculate_haralick_textures  dominant_angles_binned shape is (15, 8, 7) mask shape is (15, 8, 7)\n",
      "2024-12-01 15:40:09,677 INFO execute  Calculating features for angle 0 done.\n",
      "2024-12-01 15:40:09,678 INFO execute  Calculating features for angle 1:\n",
      "2024-12-01 15:40:09,679 DEBUG _calculate_haralick_textures  Rescaling dominant angles to 64 unique values.\n",
      "2024-12-01 15:40:09,679 DEBUG _calculate_haralick_textures  Rescaling dominant angles done.\n",
      "2024-12-01 15:40:09,680 DEBUG _calculate_haralick_textures  dominant_angles_binned shape is (15, 8, 7) mask shape is (15, 8, 7)\n",
      "2024-12-01 15:40:09,885 INFO execute  Calculating features for angle 1 done.\n",
      "2024-12-01 15:40:09,885 DEBUG execute  Calculating haralick features of angles done.\n",
      "2024-12-01 15:40:11,274 DEBUG execute  Output shape = (290, 200, 331, 13, 2)\n",
      "2024-12-01 15:40:11,286 DEBUG _calculate_haralick_textures  Rescaling dominant angles to 64 unique values.\n",
      "2024-12-01 15:40:11,287 DEBUG _calculate_haralick_textures  Rescaling dominant angles done.\n",
      "2024-12-01 15:40:11,288 DEBUG _calculate_haralick_textures  dominant_angles_binned shape is (15, 8, 7) mask shape is (15, 8, 7)\n"
     ]
    },
    {
     "name": "stdout",
     "output_type": "stream",
     "text": [
      "angle_output2.shape .... (15, 8, 7, 13, 2)\n",
      "dom_angle.shape .... (15, 8, 7)\n"
     ]
    },
    {
     "name": "stderr",
     "output_type": "stream",
     "text": [
      "2024-12-01 15:40:11,522 DEBUG _calculate_haralick_textures  Rescaling dominant angles to 64 unique values.\n",
      "2024-12-01 15:40:11,523 DEBUG _calculate_haralick_textures  Rescaling dominant angles done.\n",
      "2024-12-01 15:40:11,524 DEBUG _calculate_haralick_textures  dominant_angles_binned shape is (15, 8, 7) mask shape is (15, 8, 7)\n"
     ]
    },
    {
     "name": "stdout",
     "output_type": "stream",
     "text": [
      "angle_output.shape .... (15, 8, 7, 13)\n",
      "-----------------------------------------------\n",
      "dom_angle.shape .... (15, 8, 7)\n"
     ]
    },
    {
     "name": "stderr",
     "output_type": "stream",
     "text": [
      "2024-12-01 15:40:11,898 DEBUG _get_ticker_locator_formatter  locator: <matplotlib.ticker.AutoLocator object at 0x7f13f992d6c0>\n"
     ]
    },
    {
     "name": "stdout",
     "output_type": "stream",
     "text": [
      "angle_output.shape .... (15, 8, 7, 13)\n",
      "-----------------------------------------------\n",
      "Temp CoLlAGe feature array saved.\n",
      "\n"
     ]
    },
    {
     "name": "stderr",
     "output_type": "stream",
     "text": [
      "2024-12-01 15:40:12,881 DEBUG __init__  Collage Module Initialized\n",
      "2024-12-01 15:40:12,882 DEBUG __init__  Running 3D Collage = True\n"
     ]
    },
    {
     "name": "stdout",
     "output_type": "stream",
     "text": [
      "output_name folder ....  /app/Data/_Brain/Radiology/_Adult/_MS/MSSEG2/Feature_extraction/Radiomics_features/068/time02/lesion_012_reg/collage\n",
      "tmp_name stats .npy ....... /app/Data/_Brain/Radiology/_Adult/_MS/MSSEG2/Feature_extraction/Radiomics_features/068/time02/lesion_012_reg/collage/FLAIR_068_5_4_lesion_SkullS_BiasCorrect_rz_IntStnd.npy\n",
      "tmp_name angles output .npy ....... /app/Data/_Brain/Radiology/_Adult/_MS/MSSEG2/Feature_extraction/Radiomics_features/068/time02/lesion_012_reg/collage/FLAIR_068_5_4_lesion_SkullS_BiasCorrect_rz_IntStnd_angle_output.npy\n",
      "Calculating CoLlAGe for mask: /app/Data/_Brain/Radiology/_Adult/_MS/MSSEG2/preprocessed_cimalab/068/time02/068_segmentations/lesion_012_reg.nii.gz\n",
      "Calculating CoLlAGe for label: lesion\n",
      "Calculating CoLlAGe for \"n\"  angular bins: 4\n"
     ]
    },
    {
     "name": "stderr",
     "output_type": "stream",
     "text": [
      "2024-12-01 15:40:13,470 DEBUG execute  Image shape = (290, 200, 331)\n",
      "2024-12-01 15:40:13,471 DEBUG execute  Mask size = 15x8x7\n",
      "2024-12-01 15:40:13,472 DEBUG execute  Image shape (cropped and padded) = (25, 18, 9)\n",
      "2024-12-01 15:40:13,473 DEBUG execute  Note: Dividing image values by 7177.87353515625 to convert to 0-1 range\n",
      "2024-12-01 15:40:13,474 DEBUG execute  Calculating pixel gradients:\n",
      "2024-12-01 15:40:13,475 DEBUG execute  Calculating pixel gradients done.\n",
      "2024-12-01 15:40:13,476 DEBUG execute  Calculating dominant gradient angles using SVD for each image patch of size 5x5\n",
      "2024-12-01 15:40:13,476 INFO _svd_dominant_angles  Window patch shape for dominant angle calculation = (11, 11, 1)\n",
      "2024-12-01 15:40:13,721 DEBUG execute  Calculating dominant gradient angles done.\n",
      "2024-12-01 15:40:13,722 DEBUG execute  Dominant angles shape = (15, 8, 7, 2)\n",
      "2024-12-01 15:40:13,723 DEBUG execute  Calculating haralick features of angles:\n",
      "2024-12-01 15:40:13,724 INFO execute  Calculating features for angle 0:\n",
      "2024-12-01 15:40:13,725 DEBUG _calculate_haralick_textures  Rescaling dominant angles to 4 unique values.\n",
      "2024-12-01 15:40:13,726 DEBUG _calculate_haralick_textures  Rescaling dominant angles done.\n",
      "2024-12-01 15:40:13,727 DEBUG _calculate_haralick_textures  dominant_angles_binned shape is (15, 8, 7) mask shape is (15, 8, 7)\n",
      "2024-12-01 15:40:13,893 INFO execute  Calculating features for angle 0 done.\n",
      "2024-12-01 15:40:13,894 INFO execute  Calculating features for angle 1:\n",
      "2024-12-01 15:40:13,895 DEBUG _calculate_haralick_textures  Rescaling dominant angles to 4 unique values.\n",
      "2024-12-01 15:40:13,896 DEBUG _calculate_haralick_textures  Rescaling dominant angles done.\n",
      "2024-12-01 15:40:13,896 DEBUG _calculate_haralick_textures  dominant_angles_binned shape is (15, 8, 7) mask shape is (15, 8, 7)\n",
      "2024-12-01 15:40:14,003 INFO execute  Calculating features for angle 1 done.\n",
      "2024-12-01 15:40:14,004 DEBUG execute  Calculating haralick features of angles done.\n",
      "2024-12-01 15:40:15,289 DEBUG execute  Output shape = (290, 200, 331, 13, 2)\n",
      "2024-12-01 15:40:15,301 DEBUG _calculate_haralick_textures  Rescaling dominant angles to 4 unique values.\n",
      "2024-12-01 15:40:15,301 DEBUG _calculate_haralick_textures  Rescaling dominant angles done.\n",
      "2024-12-01 15:40:15,302 DEBUG _calculate_haralick_textures  dominant_angles_binned shape is (15, 8, 7) mask shape is (15, 8, 7)\n",
      "2024-12-01 15:40:15,425 DEBUG _calculate_haralick_textures  Rescaling dominant angles to 4 unique values.\n",
      "2024-12-01 15:40:15,426 DEBUG _calculate_haralick_textures  Rescaling dominant angles done.\n",
      "2024-12-01 15:40:15,427 DEBUG _calculate_haralick_textures  dominant_angles_binned shape is (15, 8, 7) mask shape is (15, 8, 7)\n"
     ]
    },
    {
     "name": "stdout",
     "output_type": "stream",
     "text": [
      "angle_output2.shape .... (15, 8, 7, 13, 2)\n",
      "dom_angle.shape .... (15, 8, 7)\n",
      "angle_output.shape .... (15, 8, 7, 13)\n",
      "-----------------------------------------------\n",
      "dom_angle.shape .... (15, 8, 7)\n"
     ]
    },
    {
     "name": "stderr",
     "output_type": "stream",
     "text": [
      "2024-12-01 15:40:15,678 DEBUG _get_ticker_locator_formatter  locator: <matplotlib.ticker.AutoLocator object at 0x7f13fce787f0>\n"
     ]
    },
    {
     "name": "stdout",
     "output_type": "stream",
     "text": [
      "angle_output.shape .... (15, 8, 7, 13)\n",
      "-----------------------------------------------\n",
      "Temp CoLlAGe feature array saved.\n",
      "\n"
     ]
    },
    {
     "name": "stderr",
     "output_type": "stream",
     "text": [
      "2024-12-01 15:40:16,696 DEBUG __init__  Collage Module Initialized\n",
      "2024-12-01 15:40:16,696 DEBUG __init__  Running 3D Collage = True\n"
     ]
    },
    {
     "name": "stdout",
     "output_type": "stream",
     "text": [
      "output_name folder ....  /app/Data/_Brain/Radiology/_Adult/_MS/MSSEG2/Feature_extraction/Radiomics_features/068/time02/lesion_012_reg/collage\n",
      "tmp_name stats .npy ....... /app/Data/_Brain/Radiology/_Adult/_MS/MSSEG2/Feature_extraction/Radiomics_features/068/time02/lesion_012_reg/collage/FLAIR_068_5_8_lesion_SkullS_BiasCorrect_rz_IntStnd.npy\n",
      "tmp_name angles output .npy ....... /app/Data/_Brain/Radiology/_Adult/_MS/MSSEG2/Feature_extraction/Radiomics_features/068/time02/lesion_012_reg/collage/FLAIR_068_5_8_lesion_SkullS_BiasCorrect_rz_IntStnd_angle_output.npy\n",
      "Calculating CoLlAGe for mask: /app/Data/_Brain/Radiology/_Adult/_MS/MSSEG2/preprocessed_cimalab/068/time02/068_segmentations/lesion_012_reg.nii.gz\n",
      "Calculating CoLlAGe for label: lesion\n",
      "Calculating CoLlAGe for \"n\"  angular bins: 8\n"
     ]
    },
    {
     "name": "stderr",
     "output_type": "stream",
     "text": [
      "2024-12-01 15:40:17,310 DEBUG execute  Image shape = (290, 200, 331)\n",
      "2024-12-01 15:40:17,310 DEBUG execute  Mask size = 15x8x7\n",
      "2024-12-01 15:40:17,311 DEBUG execute  Image shape (cropped and padded) = (25, 18, 9)\n",
      "2024-12-01 15:40:17,312 DEBUG execute  Note: Dividing image values by 7177.87353515625 to convert to 0-1 range\n",
      "2024-12-01 15:40:17,313 DEBUG execute  Calculating pixel gradients:\n",
      "2024-12-01 15:40:17,314 DEBUG execute  Calculating pixel gradients done.\n",
      "2024-12-01 15:40:17,315 DEBUG execute  Calculating dominant gradient angles using SVD for each image patch of size 5x5\n",
      "2024-12-01 15:40:17,315 INFO _svd_dominant_angles  Window patch shape for dominant angle calculation = (11, 11, 1)\n",
      "2024-12-01 15:40:17,543 DEBUG execute  Calculating dominant gradient angles done.\n",
      "2024-12-01 15:40:17,544 DEBUG execute  Dominant angles shape = (15, 8, 7, 2)\n",
      "2024-12-01 15:40:17,545 DEBUG execute  Calculating haralick features of angles:\n",
      "2024-12-01 15:40:17,546 INFO execute  Calculating features for angle 0:\n",
      "2024-12-01 15:40:17,547 DEBUG _calculate_haralick_textures  Rescaling dominant angles to 8 unique values.\n",
      "2024-12-01 15:40:17,548 DEBUG _calculate_haralick_textures  Rescaling dominant angles done.\n",
      "2024-12-01 15:40:17,549 DEBUG _calculate_haralick_textures  dominant_angles_binned shape is (15, 8, 7) mask shape is (15, 8, 7)\n",
      "2024-12-01 15:40:17,755 INFO execute  Calculating features for angle 0 done.\n",
      "2024-12-01 15:40:17,756 INFO execute  Calculating features for angle 1:\n",
      "2024-12-01 15:40:17,756 DEBUG _calculate_haralick_textures  Rescaling dominant angles to 8 unique values.\n",
      "2024-12-01 15:40:17,757 DEBUG _calculate_haralick_textures  Rescaling dominant angles done.\n",
      "2024-12-01 15:40:17,758 DEBUG _calculate_haralick_textures  dominant_angles_binned shape is (15, 8, 7) mask shape is (15, 8, 7)\n",
      "2024-12-01 15:40:17,870 INFO execute  Calculating features for angle 1 done.\n",
      "2024-12-01 15:40:17,871 DEBUG execute  Calculating haralick features of angles done.\n",
      "2024-12-01 15:40:19,169 DEBUG execute  Output shape = (290, 200, 331, 13, 2)\n",
      "2024-12-01 15:40:19,181 DEBUG _calculate_haralick_textures  Rescaling dominant angles to 8 unique values.\n",
      "2024-12-01 15:40:19,182 DEBUG _calculate_haralick_textures  Rescaling dominant angles done.\n",
      "2024-12-01 15:40:19,182 DEBUG _calculate_haralick_textures  dominant_angles_binned shape is (15, 8, 7) mask shape is (15, 8, 7)\n",
      "2024-12-01 15:40:19,334 DEBUG _calculate_haralick_textures  Rescaling dominant angles to 8 unique values.\n",
      "2024-12-01 15:40:19,335 DEBUG _calculate_haralick_textures  Rescaling dominant angles done.\n",
      "2024-12-01 15:40:19,336 DEBUG _calculate_haralick_textures  dominant_angles_binned shape is (15, 8, 7) mask shape is (15, 8, 7)\n"
     ]
    },
    {
     "name": "stdout",
     "output_type": "stream",
     "text": [
      "angle_output2.shape .... (15, 8, 7, 13, 2)\n",
      "dom_angle.shape .... (15, 8, 7)\n",
      "angle_output.shape .... (15, 8, 7, 13)\n",
      "-----------------------------------------------\n",
      "dom_angle.shape .... (15, 8, 7)\n"
     ]
    },
    {
     "name": "stderr",
     "output_type": "stream",
     "text": [
      "2024-12-01 15:40:19,599 DEBUG _get_ticker_locator_formatter  locator: <matplotlib.ticker.AutoLocator object at 0x7f13f9f2e380>\n"
     ]
    },
    {
     "name": "stdout",
     "output_type": "stream",
     "text": [
      "angle_output.shape .... (15, 8, 7, 13)\n",
      "-----------------------------------------------\n",
      "Temp CoLlAGe feature array saved.\n",
      "\n"
     ]
    },
    {
     "name": "stderr",
     "output_type": "stream",
     "text": [
      "2024-12-01 15:40:20,555 DEBUG __init__  Collage Module Initialized\n",
      "2024-12-01 15:40:20,556 DEBUG __init__  Running 3D Collage = True\n"
     ]
    },
    {
     "name": "stdout",
     "output_type": "stream",
     "text": [
      "output_name folder ....  /app/Data/_Brain/Radiology/_Adult/_MS/MSSEG2/Feature_extraction/Radiomics_features/068/time02/lesion_012_reg/collage\n",
      "tmp_name stats .npy ....... /app/Data/_Brain/Radiology/_Adult/_MS/MSSEG2/Feature_extraction/Radiomics_features/068/time02/lesion_012_reg/collage/FLAIR_068_5_16_lesion_SkullS_BiasCorrect_rz_IntStnd.npy\n",
      "tmp_name angles output .npy ....... /app/Data/_Brain/Radiology/_Adult/_MS/MSSEG2/Feature_extraction/Radiomics_features/068/time02/lesion_012_reg/collage/FLAIR_068_5_16_lesion_SkullS_BiasCorrect_rz_IntStnd_angle_output.npy\n",
      "Calculating CoLlAGe for mask: /app/Data/_Brain/Radiology/_Adult/_MS/MSSEG2/preprocessed_cimalab/068/time02/068_segmentations/lesion_012_reg.nii.gz\n",
      "Calculating CoLlAGe for label: lesion\n",
      "Calculating CoLlAGe for \"n\"  angular bins: 16\n"
     ]
    },
    {
     "name": "stderr",
     "output_type": "stream",
     "text": [
      "2024-12-01 15:40:21,163 DEBUG execute  Image shape = (290, 200, 331)\n",
      "2024-12-01 15:40:21,164 DEBUG execute  Mask size = 15x8x7\n",
      "2024-12-01 15:40:21,165 DEBUG execute  Image shape (cropped and padded) = (25, 18, 9)\n",
      "2024-12-01 15:40:21,166 DEBUG execute  Note: Dividing image values by 7177.87353515625 to convert to 0-1 range\n",
      "2024-12-01 15:40:21,167 DEBUG execute  Calculating pixel gradients:\n",
      "2024-12-01 15:40:21,168 DEBUG execute  Calculating pixel gradients done.\n",
      "2024-12-01 15:40:21,169 DEBUG execute  Calculating dominant gradient angles using SVD for each image patch of size 5x5\n",
      "2024-12-01 15:40:21,169 INFO _svd_dominant_angles  Window patch shape for dominant angle calculation = (11, 11, 1)\n",
      "2024-12-01 15:40:21,407 DEBUG execute  Calculating dominant gradient angles done.\n",
      "2024-12-01 15:40:21,408 DEBUG execute  Dominant angles shape = (15, 8, 7, 2)\n",
      "2024-12-01 15:40:21,409 DEBUG execute  Calculating haralick features of angles:\n",
      "2024-12-01 15:40:21,410 INFO execute  Calculating features for angle 0:\n",
      "2024-12-01 15:40:21,411 DEBUG _calculate_haralick_textures  Rescaling dominant angles to 16 unique values.\n",
      "2024-12-01 15:40:21,412 DEBUG _calculate_haralick_textures  Rescaling dominant angles done.\n",
      "2024-12-01 15:40:21,413 DEBUG _calculate_haralick_textures  dominant_angles_binned shape is (15, 8, 7) mask shape is (15, 8, 7)\n",
      "2024-12-01 15:40:21,584 INFO execute  Calculating features for angle 0 done.\n",
      "2024-12-01 15:40:21,584 INFO execute  Calculating features for angle 1:\n",
      "2024-12-01 15:40:21,585 DEBUG _calculate_haralick_textures  Rescaling dominant angles to 16 unique values.\n",
      "2024-12-01 15:40:21,586 DEBUG _calculate_haralick_textures  Rescaling dominant angles done.\n",
      "2024-12-01 15:40:21,587 DEBUG _calculate_haralick_textures  dominant_angles_binned shape is (15, 8, 7) mask shape is (15, 8, 7)\n",
      "2024-12-01 15:40:21,700 INFO execute  Calculating features for angle 1 done.\n",
      "2024-12-01 15:40:21,700 DEBUG execute  Calculating haralick features of angles done.\n",
      "2024-12-01 15:40:23,029 DEBUG execute  Output shape = (290, 200, 331, 13, 2)\n",
      "2024-12-01 15:40:23,044 DEBUG _calculate_haralick_textures  Rescaling dominant angles to 16 unique values.\n",
      "2024-12-01 15:40:23,045 DEBUG _calculate_haralick_textures  Rescaling dominant angles done.\n",
      "2024-12-01 15:40:23,046 DEBUG _calculate_haralick_textures  dominant_angles_binned shape is (15, 8, 7) mask shape is (15, 8, 7)\n",
      "2024-12-01 15:40:23,194 DEBUG _calculate_haralick_textures  Rescaling dominant angles to 16 unique values.\n",
      "2024-12-01 15:40:23,195 DEBUG _calculate_haralick_textures  Rescaling dominant angles done.\n",
      "2024-12-01 15:40:23,196 DEBUG _calculate_haralick_textures  dominant_angles_binned shape is (15, 8, 7) mask shape is (15, 8, 7)\n"
     ]
    },
    {
     "name": "stdout",
     "output_type": "stream",
     "text": [
      "angle_output2.shape .... (15, 8, 7, 13, 2)\n",
      "dom_angle.shape .... (15, 8, 7)\n",
      "angle_output.shape .... (15, 8, 7, 13)\n",
      "-----------------------------------------------\n",
      "dom_angle.shape .... (15, 8, 7)\n",
      "angle_output.shape .... (15, 8, 7, 13)\n",
      "-----------------------------------------------\n",
      "Temp CoLlAGe feature array saved.\n",
      "\n"
     ]
    },
    {
     "name": "stderr",
     "output_type": "stream",
     "text": [
      "2024-12-01 15:40:23,531 DEBUG _get_ticker_locator_formatter  locator: <matplotlib.ticker.AutoLocator object at 0x7f13fd3374c0>\n"
     ]
    }
   ],
   "source": [
    "ids = []\n",
    "ls_stats = []\n",
    "ids=[]\n",
    "id_logs=os.path.join(outpath_base , mri_data + '_78.txt')\n",
    "for i in list(imgs[24:32]):\n",
    "    ids.append(i)\n",
    "    nib_mri = nib.load(i)\n",
    "    mri_im = nib_mri.get_fdata()\n",
    "    mri_im = np.fliplr(np.rot90(mri_im)) ### correct orientation, makes generating figures easier\n",
    "    case_path=os.path.dirname(i)\n",
    "    id_label = os.path.basename(os.path.dirname(os.path.dirname(i)))\n",
    "    time_point = os.path.basename((os.path.dirname(i)))\n",
    "    print('id_label (patient ID) ........... ',id_label)\n",
    "    print('time_point (time follow up) ........... ',time_point)\n",
    "    \n",
    "    seg_im=getting_multiple_lesion_list(case_path,id_label)\n",
    "    \n",
    "    for lesion_mask in seg_im:\n",
    "        lesion_id=os.path.basename(lesion_mask)\n",
    "        lesion_id=lesion_id.split(\".\", 1)[0]\n",
    "        print('lesion_id....',lesion_id)\n",
    "        ids.append(lesion_id + '_' + name_a)\n",
    "        \n",
    "        with open(id_logs, 'w') as f:\n",
    "            for item in ids:\n",
    "                f.write(\"%s\\n\" %item)\n",
    "        \n",
    "        nib_mask = nib.load(lesion_mask)\n",
    "        mask = nib_mask.get_fdata()\n",
    "        mask = np.fliplr(np.rot90(mask)) \n",
    "        \n",
    "        label = np.zeros((mask.shape))\n",
    "        if label_val <=3:\n",
    "            label[mask==label_val] = 1 ### consider only specified label\n",
    "        elif label_val == 4:\n",
    "            label[mask==2] = 1 ### consider lesion plus rim1\n",
    "            label[mask==3] = 1\n",
    "        elif label_val == 5:\n",
    "            label[mask>0] = 1 ### consider all the lesion levels\n",
    "\n",
    "        label[mri_im==0] = 0\n",
    "\n",
    "        label_vol=np.where(label==1)\n",
    "        print('label_vol . ..... ',label_vol[0].shape[0])\n",
    "        slixes=[np.unique(label_vol[dim]).shape[0] for dim in range(3)]\n",
    "        \n",
    "        if label_vol[0].shape[0] > 10 and not np.any(np.array(slixes)==1): # excluding lesion spreaded into one single slide\n",
    "            \n",
    "            output_name=os.path.join(outpath_base , id_label , time_point ,lesion_id,'collage')\n",
    "            if not os.path.exists(output_name):\n",
    "                os.makedirs(output_name)\n",
    "            \n",
    "            for svd_r in list([3,5]):\n",
    "                for bines in list([4,8,16,32,64]):\n",
    "                    print('output_name folder .... ',output_name)\n",
    "                    tmp_name =  os.path.join(output_name, mri_mod + '_' + id_label + '_' + str(svd_r) + '_' + str(bines)+ '_' + name_a + '_' + pipeline + '.npy') \n",
    "                    print('tmp_name stats .npy .......',tmp_name)\n",
    "                    tmp_name_angle =  os.path.join(output_name, mri_mod + '_' + id_label + '_'+ str(svd_r) + '_'+ str(bines)+ '_' + name_a + '_' + pipeline + '_angle_output.npy') \n",
    "                    print('tmp_name angles output .npy .......',tmp_name_angle)\n",
    "\n",
    "                    if not os.path.isfile(tmp_name_angle):\n",
    "\n",
    "                        print('Calculating CoLlAGe for mask:', lesion_mask)\n",
    "                        print('Calculating CoLlAGe for label:', name_a)\n",
    "                        print('Calculating CoLlAGe for \"n\"  angular bins:', bines)\n",
    "\n",
    "                        collage = collageradiomics.Collage(mri_im, label, svd_radius=svd_r, verbose_logging=True, num_unique_angles=bines)\n",
    "                        collage_output = collage.execute()\n",
    "\n",
    "                        clg_af_init = np.zeros(shape=(104,1))\n",
    "                        tm_dim = np.shape(collage.dominant_angles[:,:,:,0])\n",
    "                        clg_af, feature_angle, angle_output2 = compute_collage_stats(collage,collage_output,clg_af_init,tm_dim)\n",
    "                        tmp_stats = np.squeeze(clg_af.T)\n",
    "                        np.save(tmp_name, tmp_stats)\n",
    "                        np.save(tmp_name_angle, angle_output2)\n",
    "                        print('Temp CoLlAGe feature array saved.\\n')\n",
    "\n",
    "                        onset_sld=0 # how many slides above or below middle slide\n",
    "                        plot_collage_map_bounding(mri_im, label, angle_output2, bines, svd_r, onset_sld, mri_mod)\n",
    "                        plot_collage_map(mri_im, label, collage, mri_mod)\n",
    "\n",
    "                    else:\n",
    "                        print('\\nCoLlAGe already exists (npy) or not calculated. Label %d not found in mask for:' %label_val, id_label, lesion_id)\n",
    "                        print('..............................................................................................................')\n",
    "                        continue\n",
    "\n",
    "        else:\n",
    "            print('\\n insuficient voxels for computing CoLlAGe')\n",
    "            continue\n",
    "\n",
    "\n",
    "    print('....................................................................................................................')"
   ]
  },
  {
   "cell_type": "code",
   "execution_count": null,
   "id": "b0492aef",
   "metadata": {},
   "outputs": [],
   "source": [
    "i"
   ]
  },
  {
   "cell_type": "code",
   "execution_count": null,
   "id": "37651d4d",
   "metadata": {},
   "outputs": [],
   "source": [
    "np_stats = np.squeeze(ls_stats)\n",
    "\n",
    "h_names = []\n",
    "for n in range(collage_output.shape[3]):\n",
    "    h_names.append(collageradiomics.HaralickFeature(n).name)\n",
    "\n",
    "s_names = ['median', 'var', 'skew', 'kurt']\n",
    "\n",
    "names = []\n",
    "for g in range(collage_output.shape[4]):\n",
    "    for h in h_names:\n",
    "        for s in s_names:\n",
    "            names.append(s + '_' + h + '_' + str(g+1))\n",
    "\n",
    "h_names"
   ]
  },
  {
   "cell_type": "code",
   "execution_count": null,
   "id": "639dab11",
   "metadata": {},
   "outputs": [],
   "source": [
    "i"
   ]
  },
  {
   "cell_type": "markdown",
   "id": "2e963859",
   "metadata": {},
   "source": [
    "# Write dataframe from directories (.npy)"
   ]
  },
  {
   "cell_type": "code",
   "execution_count": null,
   "id": "ad974c13",
   "metadata": {},
   "outputs": [],
   "source": [
    "root_path = '/app/Data/_Brain/Radiology/_Adult/_Glioma/UCSF/'"
   ]
  },
  {
   "cell_type": "code",
   "execution_count": null,
   "id": "63249336",
   "metadata": {},
   "outputs": [],
   "source": [
    "mri_data='UCSF-PDGM'\n",
    "outpath_base= root_path + mri_data + '/Feature_extraction/Radiomics_texture/'\n",
    "time_point='time01'\n",
    "print('main outpath ..... ',outpath_base)"
   ]
  },
  {
   "cell_type": "code",
   "execution_count": null,
   "id": "8422f183",
   "metadata": {},
   "outputs": [],
   "source": [
    "name_a='Collage_Edema'\n",
    "npy_files = glob.glob(outpath_base +'/*/'+ time_point +'/collage_delta_01/*'+ name_a +'*put.npy')\n",
    "npy_files=sorted(npy_files)\n",
    "print('n .. labels ... ',len(npy_files))\n",
    "#npy_files\n",
    "#print(outpath_base +'/*/collage/*'+ name_a +'*.npy')"
   ]
  },
  {
   "cell_type": "code",
   "execution_count": null,
   "id": "f1148156",
   "metadata": {},
   "outputs": [],
   "source": [
    "txt_files= glob.glob(outpath_base +'/*/'+ time_point +'/collage_delta_01/*'+ name_a +'*.txt')\n",
    "txt_files=sorted(txt_files)\n",
    "print('n .. txt files ... ',len(txt_files))"
   ]
  },
  {
   "cell_type": "markdown",
   "id": "23d5ddcf",
   "metadata": {},
   "source": [
    "# # Single npy feature vector"
   ]
  },
  {
   "cell_type": "code",
   "execution_count": null,
   "id": "bb44d026",
   "metadata": {},
   "outputs": [],
   "source": []
  },
  {
   "cell_type": "code",
   "execution_count": null,
   "id": "1c2482a7",
   "metadata": {},
   "outputs": [],
   "source": [
    "df_shape = pd.DataFrame(np.squeeze(feature_mat), index = id_list, columns = names)\n",
    "df_idx = pd.DataFrame(np.squeeze(id_list), columns=list(['ID']))\n",
    "\n",
    "outname=outpath_base + mri_data + '_' + name_a + '.xlsx'\n",
    "print('saved in ...... ', outname)\n",
    "\n",
    "with pd.ExcelWriter(outname) as writer:\n",
    "                df_shape.to_excel(writer, sheet_name=\"FeatureMatrix\",index_label='ID')\n",
    "#                 df_idx.to_excel(writer, sheet_name=\"df_idx\")\n",
    "\n",
    "\n",
    "print('patients', np.squeeze(feature_mat).shape)"
   ]
  },
  {
   "cell_type": "markdown",
   "id": "822acb75",
   "metadata": {},
   "source": [
    "# load full feature map"
   ]
  },
  {
   "cell_type": "code",
   "execution_count": null,
   "id": "16a87659",
   "metadata": {},
   "outputs": [],
   "source": [
    "id_list=[]\n",
    "feature_mat=np.empty((0, 104))\n",
    "id=-1\n",
    "for it , npy in zip(list(txt_files[0:1]), list(npy_files[0:1])):\n",
    "    rows=[]\n",
    "    id=id+1\n",
    "    case_id = os.path.basename(os.path.dirname(os.path.dirname(os.path.dirname(it))))\n",
    "    npy_id = os.path.basename(os.path.dirname(os.path.dirname(os.path.dirname(npy))))\n",
    "    print('case_id .....',case_id)\n",
    "    feat_vect1=np.load(npy)\n",
    "\n",
    "print(feat_vect1.shape)\n",
    "angle_output=feat_vect1"
   ]
  },
  {
   "cell_type": "code",
   "execution_count": null,
   "id": "c5318855",
   "metadata": {},
   "outputs": [],
   "source": [
    "which_feature = collageradiomics.HaralickFeature.Entropy\n",
    "print('which_feature....',which_feature)\n",
    "feature_output = angle_output[:,:,30,which_feature]\n",
    "print('feature_output....',feature_output.shape)\n",
    "figure = plt.figure(figsize = (5, 5))\n",
    "plt.imshow(feature_output, cmap=plt.cm.jet)\n",
    "plt.show()\n",
    "flattened_array = feature_output.flatten()\n",
    "filtered_array = flattened_array[~np.isnan(flattened_array)]\n",
    "hist_values, bin_edges = np.histogram(filtered_array, bins='auto')\n",
    "\n",
    "# Plot the histogram\n",
    "plt.bar(bin_edges[:-1], hist_values, width=np.diff(bin_edges), edgecolor='black')\n",
    "plt.show()"
   ]
  },
  {
   "cell_type": "markdown",
   "id": "c34c6c35",
   "metadata": {},
   "source": [
    "#  stacked npy"
   ]
  },
  {
   "cell_type": "code",
   "execution_count": null,
   "id": "d32f6597",
   "metadata": {},
   "outputs": [],
   "source": [
    "# writing the dataframe\n",
    "\n",
    "id_list=[]\n",
    "feature_mat=np.empty((0, 104))\n",
    "id=-1\n",
    "for it , npy in zip(txt_files, npy_files):\n",
    "    rows=[]\n",
    "    id=id+1\n",
    "    case_id = os.path.basename(os.path.dirname(os.path.dirname(os.path.dirname(it))))\n",
    "    npy_id = os.path.basename(os.path.dirname(os.path.dirname(os.path.dirname(npy))))\n",
    "    print('case_id .....',case_id)\n",
    "    #print('------------BEGINING OF THE TEXT FILE --------------')\n",
    "    \n",
    "    with open(it, 'r') as f:\n",
    "        data = f.read()        \n",
    "    rows = data.split('\\n')\n",
    "    feat_vect=np.load(npy)\n",
    "    feat_vect=feat_vect.reshape(len(rows[0:-1]), 104)\n",
    "    \n",
    "    print('feat_vect shape',feat_vect.shape)\n",
    "    print('txt shape',len(rows[0:-1]))\n",
    "    print('id ......', id)\n",
    "    #print(rows)\n",
    "    if rows[0] == case_id:\n",
    "            print('>>>>>>>>>>>>>>>starting file for the batch<<<<<<<<<<<<<<<<<')\n",
    "#             \n",
    "    for cases in rows[0:-1]:\n",
    "        if cases not in id_list:\n",
    "            id_list.append(cases)\n",
    "            my_list = rows\n",
    "            indices = [index for index in range(len(my_list)) if my_list[index].startswith(cases)]\n",
    "            feat_vect1=feat_vect[indices]\n",
    "            print('indices and feat shape',indices,feat_vect1.shape)\n",
    "            feature_mat=np.vstack((feature_mat,feat_vect1))\n",
    "            \n",
    "    print('------------------END TEXT FILE---------------------')\n",
    "#id_list"
   ]
  },
  {
   "cell_type": "code",
   "execution_count": null,
   "id": "28fe1c80",
   "metadata": {},
   "outputs": [],
   "source": [
    "df_shape = pd.DataFrame(np.squeeze(feature_mat), index = id_list, columns = names)\n",
    "df_idx = pd.DataFrame(np.squeeze(id_list), columns=list(['ID']))\n",
    "    \n",
    "with pd.ExcelWriter(outpath_base + mri_data + '_' + name_a + '.xlsx') as writer:\n",
    "                df_shape.to_excel(writer, sheet_name=\"FeatureMatrix\",index_label='ID')\n",
    "                df_idx.to_excel(writer, sheet_name=\"df_idx\")\n",
    "\n",
    "print('saved in ...... ', outpath_base + mri_data + '_' + name_a + '.xlsx')\n",
    "print('patients', np.squeeze(feature_mat).shape)"
   ]
  }
 ],
 "metadata": {
  "kernelspec": {
   "display_name": "Python 3 (ipykernel)",
   "language": "python",
   "name": "python3"
  },
  "language_info": {
   "codemirror_mode": {
    "name": "ipython",
    "version": 3
   },
   "file_extension": ".py",
   "mimetype": "text/x-python",
   "name": "python",
   "nbconvert_exporter": "python",
   "pygments_lexer": "ipython3",
   "version": "3.10.12"
  }
 },
 "nbformat": 4,
 "nbformat_minor": 5
}
