{
 "cells": [
  {
   "cell_type": "code",
   "execution_count": 1,
   "id": "5c9b9f18",
   "metadata": {},
   "outputs": [],
   "source": [
    "#pip install openpyxl"
   ]
  },
  {
   "cell_type": "code",
   "execution_count": 1,
   "id": "1bc158a7",
   "metadata": {},
   "outputs": [],
   "source": [
    "#!/usr/bin/env python3\n",
    "# -*- coding: utf-8 -*-\n",
    "\"\"\"\n",
    "Created on Thu Dec 10 10:10:58 2020\n",
    "\n",
    "@author: hyeminum / gpinedaortiz\n",
    "\"\"\"\n",
    "import glob\n",
    "import logging\n",
    "import os\n",
    "import numpy as np\n",
    "import pandas as pd\n",
    "import skimage as ski\n",
    "import itertools  \n",
    "from itertools import zip_longest \n",
    "\n",
    "from skimage import data, util\n",
    "from skimage.measure import label, regionprops\n",
    "\n",
    "FORMAT = '%(asctime)-15s %(levelname)s %(funcName)s  %(message)s'\n",
    "logging.basicConfig(format=FORMAT, level=logging.DEBUG)\n"
   ]
  },
  {
   "cell_type": "markdown",
   "id": "19858fa8",
   "metadata": {},
   "source": [
    "# Setting file naming and strings"
   ]
  },
  {
   "cell_type": "code",
   "execution_count": 152,
   "id": "2a7b5e05",
   "metadata": {},
   "outputs": [
    {
     "data": {
      "text/plain": [
       "'Enhancing'"
      ]
     },
     "execution_count": 152,
     "metadata": {},
     "output_type": "execute_result"
    }
   ],
   "source": [
    "label_val = 2\n",
    "# check for every database (Brats convention)\n",
    "if label_val == 4:\n",
    "    habitat = 'Enhancing'\n",
    "elif label_val == 2:\n",
    "    habitat = 'Edema'\n",
    "elif label_val == 1:\n",
    "    habitat = 'Necrosis'\n",
    "elif label_val == 0:\n",
    "    habitat = 'Habitat'\n",
    "habitat"
   ]
  },
  {
   "cell_type": "code",
   "execution_count": 153,
   "id": "4f01ab67",
   "metadata": {},
   "outputs": [],
   "source": [
    "mri_data='xCures'\n",
    "subdir='Feature_extraction'\n",
    "time_point='Baseline'\n",
    "feature='shape_global'\n",
    "feature_str= 'All_label_brats_SRI24_label_' + str(label_val) +'.txt'"
   ]
  },
  {
   "cell_type": "markdown",
   "id": "a15e7208",
   "metadata": {},
   "source": [
    "## untar (tar.gz) deformation features (containing masks in MNISpace)"
   ]
  },
  {
   "cell_type": "code",
   "execution_count": 154,
   "id": "4c25201b",
   "metadata": {},
   "outputs": [],
   "source": [
    "def getting_feature_list(mri_data,subdir,time_point,feature_str):\n",
    "\n",
    "    root_path = '/app/Data/_Brain/Radiology/_Adult/_Glioma/'\n",
    "    outpath_base= os.path.join(root_path + mri_data + '/Feature_extraction/Feature_matrix',time_point)\n",
    "    print('main outpath ....... ',outpath_base)\n",
    "    main_path=os.path.join(root_path , mri_data, subdir,'Radiomics_features','*',time_point, feature, '*' + feature_str)\n",
    "    print('main_path tumor labels.......',main_path)\n",
    "    \n",
    "    # masks with all the tumor labels\n",
    "    labels = glob.glob(main_path)\n",
    "    labels=sorted(labels)\n",
    "    print('\\n number of features files: {}'.format(len(labels)))\n",
    " \n",
    "    return outpath_base, main_path, labels"
   ]
  },
  {
   "cell_type": "code",
   "execution_count": 155,
   "id": "e082d4cd",
   "metadata": {},
   "outputs": [],
   "source": [
    "# extract mask form deformation features in MNI space\n",
    "def unzip_deform_features(path):\n",
    "    path = '/app/Data/_Brain/Radiology/_Adult/_Glioma/xCures/Preprocessed/'\n",
    "    #path = \"/app/IDIA/MRI/GBM/xCures/Radiomics/\"\n",
    "\n",
    "    %cd $path\n",
    "\n",
    "    files = glob.glob(path +'coregist*tar.gz')\n",
    "    files = sorted(files)\n",
    "    for items in range(0,len(files)):\n",
    "        print(os.path.basename(files[items]))\n",
    "        file_name=os.path.basename(files[items])\n",
    "        ! tar -xzvf $file_name -C Pre-op-Post-op --strip-components 1\n",
    "        #! tar -tf $file_name \n",
    "    \n",
    "    return files"
   ]
  },
  {
   "cell_type": "code",
   "execution_count": 156,
   "id": "80206c32",
   "metadata": {},
   "outputs": [
    {
     "name": "stdout",
     "output_type": "stream",
     "text": [
      "main outpath .......  /app/Data/_Brain/Radiology/_Adult/_Glioma/IVYGAP/Feature_extraction/Feature_matrix/Baseline\n",
      "main_path tumor labels....... /app/Data/_Brain/Radiology/_Adult/_Glioma/IVYGAP/Feature_extraction/Radiomics_features/*/Baseline/shape_global/*All_label_brats_SRI24_label_4.txt\n",
      "\n",
      " number of features files: 33\n"
     ]
    }
   ],
   "source": [
    "outpath_base, main_path, labels=getting_feature_list(mri_data,subdir,time_point,feature_str)"
   ]
  },
  {
   "cell_type": "code",
   "execution_count": 157,
   "id": "0b8d3bc4",
   "metadata": {},
   "outputs": [
    {
     "data": {
      "text/plain": [
       "'/app/Data/_Brain/Radiology/_Adult/_Glioma/IVYGAP/Feature_extraction/Feature_matrix/Baseline/IVYGAP_Enhancing_global_shape_pp2.xlsx'"
      ]
     },
     "execution_count": 157,
     "metadata": {},
     "output_type": "execute_result"
    }
   ],
   "source": [
    "outname= os.path.join(outpath_base, mri_data +'_' + habitat + '_global_shape_pp2.xlsx')\n",
    "outname"
   ]
  },
  {
   "cell_type": "markdown",
   "id": "91b2ebc7",
   "metadata": {},
   "source": [
    "## Global Shape features (separated masks for tumor compartments)"
   ]
  },
  {
   "cell_type": "code",
   "execution_count": 158,
   "id": "346145cb",
   "metadata": {
    "scrolled": true
   },
   "outputs": [
    {
     "data": {
      "text/plain": [
       "['/app/Data/_Brain/Radiology/_Adult/_Glioma/IVYGAP/Feature_extraction/Radiomics_features/W01/Baseline/shape_global/W01_01_All_label_brats_SRI24_label_4.txt',\n",
       " '/app/Data/_Brain/Radiology/_Adult/_Glioma/IVYGAP/Feature_extraction/Radiomics_features/W02/Baseline/shape_global/W02_01_All_label_brats_SRI24_label_4.txt',\n",
       " '/app/Data/_Brain/Radiology/_Adult/_Glioma/IVYGAP/Feature_extraction/Radiomics_features/W04/Baseline/shape_global/W04_01_All_label_brats_SRI24_label_4.txt',\n",
       " '/app/Data/_Brain/Radiology/_Adult/_Glioma/IVYGAP/Feature_extraction/Radiomics_features/W05/Baseline/shape_global/W05_01_All_label_brats_SRI24_label_4.txt',\n",
       " '/app/Data/_Brain/Radiology/_Adult/_Glioma/IVYGAP/Feature_extraction/Radiomics_features/W07/Baseline/shape_global/W07_01_All_label_brats_SRI24_label_4.txt',\n",
       " '/app/Data/_Brain/Radiology/_Adult/_Glioma/IVYGAP/Feature_extraction/Radiomics_features/W08/Baseline/shape_global/W08_01_All_label_brats_SRI24_label_4.txt',\n",
       " '/app/Data/_Brain/Radiology/_Adult/_Glioma/IVYGAP/Feature_extraction/Radiomics_features/W09/Baseline/shape_global/W09_01_All_label_brats_SRI24_label_4.txt',\n",
       " '/app/Data/_Brain/Radiology/_Adult/_Glioma/IVYGAP/Feature_extraction/Radiomics_features/W10/Baseline/shape_global/W10_01_All_label_brats_SRI24_label_4.txt',\n",
       " '/app/Data/_Brain/Radiology/_Adult/_Glioma/IVYGAP/Feature_extraction/Radiomics_features/W11/Baseline/shape_global/W11_01_All_label_brats_SRI24_label_4.txt',\n",
       " '/app/Data/_Brain/Radiology/_Adult/_Glioma/IVYGAP/Feature_extraction/Radiomics_features/W12/Baseline/shape_global/W12_01_All_label_brats_SRI24_label_4.txt',\n",
       " '/app/Data/_Brain/Radiology/_Adult/_Glioma/IVYGAP/Feature_extraction/Radiomics_features/W13/Baseline/shape_global/W13_01_All_label_brats_SRI24_label_4.txt',\n",
       " '/app/Data/_Brain/Radiology/_Adult/_Glioma/IVYGAP/Feature_extraction/Radiomics_features/W16/Baseline/shape_global/W16_01_All_label_brats_SRI24_label_4.txt',\n",
       " '/app/Data/_Brain/Radiology/_Adult/_Glioma/IVYGAP/Feature_extraction/Radiomics_features/W18/Baseline/shape_global/W18_01_All_label_brats_SRI24_label_4.txt',\n",
       " '/app/Data/_Brain/Radiology/_Adult/_Glioma/IVYGAP/Feature_extraction/Radiomics_features/W19/Baseline/shape_global/W19_01_All_label_brats_SRI24_label_4.txt',\n",
       " '/app/Data/_Brain/Radiology/_Adult/_Glioma/IVYGAP/Feature_extraction/Radiomics_features/W20/Baseline/shape_global/W20_01_All_label_brats_SRI24_label_4.txt',\n",
       " '/app/Data/_Brain/Radiology/_Adult/_Glioma/IVYGAP/Feature_extraction/Radiomics_features/W21/Baseline/shape_global/W21_01_All_label_brats_SRI24_label_4.txt',\n",
       " '/app/Data/_Brain/Radiology/_Adult/_Glioma/IVYGAP/Feature_extraction/Radiomics_features/W22/Baseline/shape_global/W22_01_All_label_brats_SRI24_label_4.txt',\n",
       " '/app/Data/_Brain/Radiology/_Adult/_Glioma/IVYGAP/Feature_extraction/Radiomics_features/W29/Baseline/shape_global/W29_01_All_label_brats_SRI24_label_4.txt',\n",
       " '/app/Data/_Brain/Radiology/_Adult/_Glioma/IVYGAP/Feature_extraction/Radiomics_features/W32/Baseline/shape_global/W32_01_All_label_brats_SRI24_label_4.txt',\n",
       " '/app/Data/_Brain/Radiology/_Adult/_Glioma/IVYGAP/Feature_extraction/Radiomics_features/W33/Baseline/shape_global/W33_01_All_label_brats_SRI24_label_4.txt',\n",
       " '/app/Data/_Brain/Radiology/_Adult/_Glioma/IVYGAP/Feature_extraction/Radiomics_features/W34/Baseline/shape_global/W34_01_All_label_brats_SRI24_label_4.txt',\n",
       " '/app/Data/_Brain/Radiology/_Adult/_Glioma/IVYGAP/Feature_extraction/Radiomics_features/W35/Baseline/shape_global/W35_01_All_label_brats_SRI24_label_4.txt',\n",
       " '/app/Data/_Brain/Radiology/_Adult/_Glioma/IVYGAP/Feature_extraction/Radiomics_features/W36/Baseline/shape_global/W36_01_All_label_brats_SRI24_label_4.txt',\n",
       " '/app/Data/_Brain/Radiology/_Adult/_Glioma/IVYGAP/Feature_extraction/Radiomics_features/W38/Baseline/shape_global/W38_01_All_label_brats_SRI24_label_4.txt',\n",
       " '/app/Data/_Brain/Radiology/_Adult/_Glioma/IVYGAP/Feature_extraction/Radiomics_features/W39/Baseline/shape_global/W39_01_All_label_brats_SRI24_label_4.txt',\n",
       " '/app/Data/_Brain/Radiology/_Adult/_Glioma/IVYGAP/Feature_extraction/Radiomics_features/W40/Baseline/shape_global/W40_01_All_label_brats_SRI24_label_4.txt',\n",
       " '/app/Data/_Brain/Radiology/_Adult/_Glioma/IVYGAP/Feature_extraction/Radiomics_features/W42/Baseline/shape_global/W42_01_All_label_brats_SRI24_label_4.txt',\n",
       " '/app/Data/_Brain/Radiology/_Adult/_Glioma/IVYGAP/Feature_extraction/Radiomics_features/W43/Baseline/shape_global/W43_01_All_label_brats_SRI24_label_4.txt',\n",
       " '/app/Data/_Brain/Radiology/_Adult/_Glioma/IVYGAP/Feature_extraction/Radiomics_features/W45/Baseline/shape_global/W45_01_All_label_brats_SRI24_label_4.txt',\n",
       " '/app/Data/_Brain/Radiology/_Adult/_Glioma/IVYGAP/Feature_extraction/Radiomics_features/W48/Baseline/shape_global/W48_01_All_label_brats_SRI24_label_4.txt',\n",
       " '/app/Data/_Brain/Radiology/_Adult/_Glioma/IVYGAP/Feature_extraction/Radiomics_features/W50/Baseline/shape_global/W50_01_All_label_brats_SRI24_label_4.txt',\n",
       " '/app/Data/_Brain/Radiology/_Adult/_Glioma/IVYGAP/Feature_extraction/Radiomics_features/W53/Baseline/shape_global/W53_01_All_label_brats_SRI24_label_4.txt',\n",
       " '/app/Data/_Brain/Radiology/_Adult/_Glioma/IVYGAP/Feature_extraction/Radiomics_features/W55/Baseline/shape_global/W55_01_All_label_brats_SRI24_label_4.txt']"
      ]
     },
     "execution_count": 158,
     "metadata": {},
     "output_type": "execute_result"
    }
   ],
   "source": [
    "labels"
   ]
  },
  {
   "cell_type": "code",
   "execution_count": 159,
   "id": "3df775f4",
   "metadata": {},
   "outputs": [
    {
     "name": "stdout",
     "output_type": "stream",
     "text": [
      "len props names .....  38\n"
     ]
    }
   ],
   "source": [
    "props_names=list(['Volume','Integrated Intensity','Centroid_normalized1','Centroid_normalized2','Centroid_normalized3',\n",
    "\t'Weighted Centroid1','Weighted Centroid2','Weighted Centroid3',\n",
    "    'Axes_Length1','Axes_Length2','Axes_Length3',\n",
    "\t'MajorAxisLength','MinorAxisLength','Eccentricity',\n",
    "\t'Elongation','Orientation_radians','xmin', 'xmax', 'ymin', 'ymax', 'zmin', 'zmax',\n",
    "\t'PrincipalMoments_Eigen1','PrincipalMoments_Eigen2','PrincipalMoments_Eigen3',\n",
    "    'Perimeter_surface_3D','Roundness','EquivalentSphericalRadius',\n",
    "\t'EquivalentSphericalPerimeter_surface','EquivalentEllipsoidDiameter1',\n",
    "    'EquivalentEllipsoidDiameter2','EquivalentEllipsoidDiameter3',\n",
    "\t'Flatness','Elongation_Shape_Factor','NumberOfPixelsOnBorder','PerimeterOnBorder',\n",
    "    'PerimeterOnBorderRatio','Tumor Compactness'])\n",
    "print('len props names ..... ',len(props_names))"
   ]
  },
  {
   "cell_type": "code",
   "execution_count": 160,
   "id": "eaa73d7c",
   "metadata": {
    "scrolled": true
   },
   "outputs": [
    {
     "name": "stdout",
     "output_type": "stream",
     "text": [
      "computing on ..............................  W01_01_All_label_brats_SRI24_label_4.txt\n",
      "case id ..............................  W01\n",
      "computing on ..............................  W02_01_All_label_brats_SRI24_label_4.txt\n",
      "case id ..............................  W02\n",
      "computing on ..............................  W04_01_All_label_brats_SRI24_label_4.txt\n",
      "case id ..............................  W04\n",
      "computing on ..............................  W05_01_All_label_brats_SRI24_label_4.txt\n",
      "case id ..............................  W05\n",
      "computing on ..............................  W07_01_All_label_brats_SRI24_label_4.txt\n",
      "case id ..............................  W07\n",
      "computing on ..............................  W08_01_All_label_brats_SRI24_label_4.txt\n",
      "case id ..............................  W08\n",
      "computing on ..............................  W09_01_All_label_brats_SRI24_label_4.txt\n",
      "case id ..............................  W09\n",
      "computing on ..............................  W10_01_All_label_brats_SRI24_label_4.txt\n",
      "case id ..............................  W10\n",
      "computing on ..............................  W11_01_All_label_brats_SRI24_label_4.txt\n",
      "case id ..............................  W11\n",
      "computing on ..............................  W12_01_All_label_brats_SRI24_label_4.txt\n",
      "case id ..............................  W12\n",
      "computing on ..............................  W13_01_All_label_brats_SRI24_label_4.txt\n",
      "case id ..............................  W13\n",
      "computing on ..............................  W16_01_All_label_brats_SRI24_label_4.txt\n",
      "case id ..............................  W16\n",
      "computing on ..............................  W18_01_All_label_brats_SRI24_label_4.txt\n",
      "case id ..............................  W18\n",
      "computing on ..............................  W19_01_All_label_brats_SRI24_label_4.txt\n",
      "case id ..............................  W19\n",
      "computing on ..............................  W20_01_All_label_brats_SRI24_label_4.txt\n",
      "case id ..............................  W20\n",
      "computing on ..............................  W21_01_All_label_brats_SRI24_label_4.txt\n",
      "case id ..............................  W21\n",
      "computing on ..............................  W22_01_All_label_brats_SRI24_label_4.txt\n",
      "case id ..............................  W22\n",
      "computing on ..............................  W29_01_All_label_brats_SRI24_label_4.txt\n",
      "case id ..............................  W29\n",
      "computing on ..............................  W32_01_All_label_brats_SRI24_label_4.txt\n",
      "case id ..............................  W32\n",
      "computing on ..............................  W33_01_All_label_brats_SRI24_label_4.txt\n",
      "case id ..............................  W33\n",
      "computing on ..............................  W34_01_All_label_brats_SRI24_label_4.txt\n",
      "case id ..............................  W34\n",
      "computing on ..............................  W35_01_All_label_brats_SRI24_label_4.txt\n",
      "case id ..............................  W35\n",
      "computing on ..............................  W36_01_All_label_brats_SRI24_label_4.txt\n",
      "case id ..............................  W36\n",
      "computing on ..............................  W38_01_All_label_brats_SRI24_label_4.txt\n",
      "case id ..............................  W38\n",
      "computing on ..............................  W39_01_All_label_brats_SRI24_label_4.txt\n",
      "case id ..............................  W39\n",
      "computing on ..............................  W40_01_All_label_brats_SRI24_label_4.txt\n",
      "case id ..............................  W40\n",
      "computing on ..............................  W42_01_All_label_brats_SRI24_label_4.txt\n",
      "case id ..............................  W42\n",
      "computing on ..............................  W43_01_All_label_brats_SRI24_label_4.txt\n",
      "case id ..............................  W43\n",
      "computing on ..............................  W45_01_All_label_brats_SRI24_label_4.txt\n",
      "case id ..............................  W45\n",
      "computing on ..............................  W48_01_All_label_brats_SRI24_label_4.txt\n",
      "case id ..............................  W48\n",
      "computing on ..............................  W50_01_All_label_brats_SRI24_label_4.txt\n",
      "case id ..............................  W50\n",
      "computing on ..............................  W53_01_All_label_brats_SRI24_label_4.txt\n",
      "case id ..............................  W53\n",
      "computing on ..............................  W55_01_All_label_brats_SRI24_label_4.txt\n",
      "case id ..............................  W55\n"
     ]
    }
   ],
   "source": [
    "feature_mat1=[]\n",
    "feature_mat2=[]\n",
    "feature_mat3=[]\n",
    "ids1=[]\n",
    "idx_df1=[]\n",
    "rows=[]\n",
    "labels_id=[]\n",
    "it=-1\n",
    "for i in labels:\n",
    "# for i in range(it,10):\n",
    "    it=it+1\n",
    "    rows=[]\n",
    "    with open(i, 'r') as f:\n",
    "        data = f.read()        \n",
    "    rows = data.split('\\n')\n",
    "    if len(rows)==25:\n",
    "        labels_id=np.array([1])\n",
    "\n",
    "    print('computing on .............................. ', os.path.basename(i))\n",
    "    case_id=os.path.basename(os.path.dirname(os.path.dirname(os.path.dirname(i))))\n",
    "    print('case id .............................. ', case_id)\n",
    "    for id in labels_id:\n",
    "        id_arr=rows[id:id+23]\n",
    "        new_arr=[]\n",
    "        it2=-1\n",
    "        for s in id_arr:\n",
    "            it2=it2+1\n",
    "            vector_str = s.replace(\"[\", \"\").replace(\"]\", \"\")\n",
    "            vector_list=(vector_str.split(\",\"))\n",
    "            vector_float = np.array(vector_list, dtype=float)\n",
    "            if it2==0:\n",
    "                new_arr=vector_float\n",
    "            elif it2>0:\n",
    "                new_arr=np.hstack((new_arr,vector_float))\n",
    "            new_arr2=np.array(new_arr,dtype=object)\n",
    "        if id==1:\n",
    "            feature_mat1.append(new_arr2)\n",
    "            ids1.append(case_id)\n",
    "            idx_df1.append(case_id)"
   ]
  },
  {
   "cell_type": "code",
   "execution_count": 161,
   "id": "914a5ed4",
   "metadata": {},
   "outputs": [
    {
     "data": {
      "text/plain": [
       "(38,)"
      ]
     },
     "execution_count": 161,
     "metadata": {},
     "output_type": "execute_result"
    }
   ],
   "source": [
    "feature_mat1[0].shape"
   ]
  },
  {
   "cell_type": "code",
   "execution_count": 162,
   "id": "82559ddb",
   "metadata": {},
   "outputs": [
    {
     "name": "stdout",
     "output_type": "stream",
     "text": [
      "saved in ......  /app/Data/_Brain/Radiology/_Adult/_Glioma/IVYGAP/Feature_extraction/Feature_matrix/Baseline/IVYGAP_Enhancing_global_shape_pp2.xlsx\n"
     ]
    }
   ],
   "source": [
    "df_shape = pd.DataFrame(np.array(feature_mat1), index = ids1, columns = props_names)\n",
    "df_idx = pd.DataFrame(np.squeeze(idx_df1), index = ids1)\n",
    "\n",
    "with pd.ExcelWriter(outname) as writer:\n",
    "                df_shape.to_excel(writer, sheet_name=\"FeatureMatrix\",index_label='ID')\n",
    "                df_idx.to_excel(writer, sheet_name=\"df_idx\",index_label='list_id')\n",
    "print('saved in ...... ',  outname)"
   ]
  },
  {
   "cell_type": "code",
   "execution_count": null,
   "id": "4b05f11d",
   "metadata": {},
   "outputs": [],
   "source": []
  },
  {
   "cell_type": "code",
   "execution_count": null,
   "id": "98a72a92",
   "metadata": {},
   "outputs": [],
   "source": []
  }
 ],
 "metadata": {
  "kernelspec": {
   "display_name": "Python 3 (ipykernel)",
   "language": "python",
   "name": "python3"
  },
  "language_info": {
   "codemirror_mode": {
    "name": "ipython",
    "version": 3
   },
   "file_extension": ".py",
   "mimetype": "text/x-python",
   "name": "python",
   "nbconvert_exporter": "python",
   "pygments_lexer": "ipython3",
   "version": "3.10.12"
  }
 },
 "nbformat": 4,
 "nbformat_minor": 5
}
